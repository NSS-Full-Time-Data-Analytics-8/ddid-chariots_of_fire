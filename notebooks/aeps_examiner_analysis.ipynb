{
 "cells": [
  {
   "cell_type": "markdown",
   "id": "0d3f9f65",
   "metadata": {},
   "source": [
    "# AEPS Examiner Analysis"
   ]
  },
  {
   "cell_type": "markdown",
   "id": "28ec0f96",
   "metadata": {},
   "source": [
    "##### This notebook uses two formatted and filtered DataFrames:\n",
    "    a. The 'oc2_df' DataFrame contains items and corresponding columns relevant to Outcome B (aka Outcome 2.)\n",
    "    b. The 'full_df' DataFrame contains all items and corresponding columns.\n",
    "##### Using this data, an analysis is provided for the following query:\n",
    "    \"Are there any trends in the scoring of individual Outcome B test items with regards to the examiner column?\""
   ]
  },
  {
   "cell_type": "markdown",
   "id": "fa91f4ea",
   "metadata": {},
   "source": [
    "### Read in the TEIS data"
   ]
  },
  {
   "cell_type": "code",
   "execution_count": null,
   "id": "94de9429",
   "metadata": {},
   "outputs": [],
   "source": [
    "import pandas as pd\n",
    "import numpy as np\n",
    "import matplotlib.pyplot as plt\n",
    "import seaborn as sns\n",
    "\n",
    "%matplotlib inline"
   ]
  },
  {
   "cell_type": "code",
   "execution_count": null,
   "id": "3e820de4",
   "metadata": {},
   "outputs": [],
   "source": [
    "original_full_df = pd.read_csv('../data/aeps_all_data.csv', low_memory=False)"
   ]
  },
  {
   "cell_type": "code",
   "execution_count": null,
   "id": "1c38ad9b",
   "metadata": {},
   "outputs": [],
   "source": [
    "original_oc2_df = pd.read_csv('../data/aeps_oc2_data.csv', dtype = {'Child ID':str})"
   ]
  },
  {
   "cell_type": "markdown",
   "id": "3bab2ca5",
   "metadata": {},
   "source": [
    "### Prepare the DataFrames for analysis"
   ]
  },
  {
   "cell_type": "code",
   "execution_count": null,
   "id": "6e4a9589",
   "metadata": {},
   "outputs": [],
   "source": [
    "# Create temporary DataFrames to use for manipulation\n",
    "oc2_df = original_oc2_df[:]\n",
    "full_df = original_full_df[:]\n",
    "\n",
    "# Filter the DataFrame to contain examiners who have given 10 or more exams\n",
    "# Note: This cut-off retains about 95% of the total exams given\n",
    "top_examiners = full_df.Examiner.value_counts().to_frame().reset_index()\n",
    "top_examiners.rename(columns={'index':'Examiner', 'Examiner':'Count'}, inplace=True)\n",
    "top_examiners = top_examiners.loc[top_examiners['Count'] >= 10, :].reset_index(drop=True)\n",
    "\n",
    "# Save the 'dropped' records for potential further analysis\n",
    "bottom_examiners = top_examiners.loc[top_examiners['Count'] < 10].reset_index(drop=True)\n",
    "\n",
    "# Reassign the filtered DataFrames \n",
    "oc2_df = oc2_df.loc[oc2_df['Examiner'].isin(list(top_examiners['Examiner'])), :]\n",
    "full_df = full_df.loc[full_df['Examiner'].isin(list(top_examiners['Examiner'])), :]"
   ]
  },
  {
   "cell_type": "markdown",
   "id": "6d1dc81b",
   "metadata": {},
   "source": [
    "### Perform the Analysis"
   ]
  },
  {
   "cell_type": "markdown",
   "id": "113d9d46",
   "metadata": {},
   "source": [
    "**For each examiner, compare the overall trend of their average scores for Outcome B items to the overall trend of their average scores for all items.**"
   ]
  },
  {
   "cell_type": "code",
   "execution_count": null,
   "id": "c989f26b",
   "metadata": {},
   "outputs": [],
   "source": [
    "# Create a subset of each DataFrame to use only the values necessary for analysis\n",
    "scores_oc2_df = oc2_df.loc[:, 'fm_B4.0':'sc_D3.0']\n",
    "scores_oc2_df.insert(0, 'Examiner', oc2_df['Examiner'])\n",
    "scores_oc2_df.reset_index(drop=True, inplace=True)\n",
    "\n",
    "scores_full_df = full_df.loc[:, 'fm_A1.0':'soc_C2.2']\n",
    "scores_full_df.insert(0, 'Examiner', full_df['Examiner'])\n",
    "scores_full_df.reset_index(drop=True, inplace=True)"
   ]
  },
  {
   "cell_type": "code",
   "execution_count": null,
   "id": "833c91f5",
   "metadata": {},
   "outputs": [],
   "source": [
    "# Add a column containing the total score for each exam for outcome b items and all items, respectively\n",
    "scores_oc2_df['sum_score'] = scores_oc2_df.loc[:, 'fm_B4.0':'sc_D3.0'].sum(axis=1)\n",
    "scores_full_df['sum_score'] = scores_full_df.loc[:, 'fm_A1.0':'soc_C2.2'].sum(axis=1)\n",
    "\n",
    "# Add a column showing each score's percentage of the total possible for outcome b items and all items, respectively\n",
    "total_possible_oc2 = 17 * 2.0\n",
    "total_possible_full = 249 * 2.0\n",
    "scores_oc2_df['perc_total_score'] = (scores_oc2_df.loc[:, 'sum_score'] / total_possible_oc2 * 100).round()\n",
    "scores_full_df['perc_total_score'] = (scores_full_df.loc[:, 'sum_score'] / total_possible_full * 100).round()"
   ]
  },
  {
   "cell_type": "code",
   "execution_count": null,
   "id": "2557bae6",
   "metadata": {},
   "outputs": [],
   "source": [
    "# Create a dataframe grouped by examiner and add a column showing total exams per examiner\n",
    "# Add another column showing the percentage of total exams each examiner has done\n",
    "oc2_groups = pd.DataFrame()\n",
    "oc2_groups = scores_oc2_df.groupby('Examiner')['Examiner'].count().to_frame()\n",
    "oc2_groups.insert(0, 'avg_score_perc', (scores_oc2_df.groupby('Examiner')['perc_total_score'].mean()).round().astype(int))\n",
    "oc2_groups.columns = ['avg_score_perc', 'total_exams']\n",
    "oc2_groups = oc2_groups.loc[:, 'avg_score_perc':].reset_index()\n",
    "\n",
    "tot_exams = full_df.shape[0]\n",
    "oc2_groups['perc_total_exams'] = (oc2_groups.loc[:, 'total_exams'] / tot_exams * 100.0).round(2)\n",
    "\n",
    "oc2_groups.sort_values(by=['avg_score_perc', 'total_exams'], ascending=[True, False], inplace=True)\n",
    "\n",
    "\n",
    "# Repeat for the dataset containing all item scores\n",
    "full_groups = pd.DataFrame()\n",
    "full_groups = scores_full_df.groupby('Examiner')['Examiner'].count().to_frame()\n",
    "full_groups.insert(0, 'avg_score_perc', (scores_full_df.groupby('Examiner')['perc_total_score'].mean()).round().astype(int))\n",
    "full_groups.columns = ['avg_score_perc', 'total_exams']\n",
    "full_groups = full_groups.loc[:, 'avg_score_perc':].reset_index()\n",
    "\n",
    "tot_exams = full_df.shape[0]\n",
    "full_groups['perc_total_exams'] = (full_groups.loc[:, 'total_exams'] / tot_exams * 100.0).round(2)\n",
    "\n",
    "full_groups.sort_values(by=['avg_score_perc', 'total_exams'], ascending=[True, False], inplace=True)"
   ]
  },
  {
   "cell_type": "markdown",
   "id": "ffab8344",
   "metadata": {},
   "source": [
    "### Format and Display Correlation Graphs"
   ]
  },
  {
   "cell_type": "code",
   "execution_count": null,
   "id": "fadfda21",
   "metadata": {},
   "outputs": [],
   "source": [
    "# Declare the font styles\n",
    "font_axes = {'family': 'serif', 'weight': 'bold', 'size': 12, 'color' : '#FF0000'}\n",
    "font_title = {'family': 'serif', 'weight': 'bold', 'size': 14, 'color' : '#FF0000'}"
   ]
  },
  {
   "cell_type": "code",
   "execution_count": null,
   "id": "d8b95885",
   "metadata": {
    "scrolled": false
   },
   "outputs": [],
   "source": [
    "# Create a scatter plot with a correlation line \n",
    "fig = sns.lmplot(data=oc2_groups, x='avg_score_perc', y='total_exams', aspect=1.5, ci=None, markers='d', line_kws={'color':'black', 'linestyle':'--', 'linewidth':0.7}, scatter_kws={'color':'#2DCCD3', 's':50, 'marker':'d', 'edgecolors':'white', 'linewidths':0.6})\n",
    "\n",
    "# Add vertical gridlines behind the data points\n",
    "plt.rc('axes', axisbelow=True)\n",
    "plt.grid(axis='x', color='lightgray', alpha=0.2)\n",
    "\n",
    "# Add a background color\n",
    "fig.set(facecolor='#E8E8E8')\n",
    "\n",
    "# Add axis and title labels\n",
    "plt.title(label = 'Total Exams and Average Cumulative Score per Examiner\\n(Outcome B Items)', fontdict=font_title)\n",
    "plt.xlabel('Average Cumulative Score\\n(% of Total Possible Score for Outcome B Items)', fontdict=font_axes)\n",
    "plt.ylabel('Total Exams', fontdict=font_axes)\n",
    "\n",
    "# Add a top and right border line\n",
    "sns.despine(top=False, right=False)\n",
    "\n",
    "# (Optional) Uncomment the line below to export the figure\n",
    "#plt.savefig('../data/exams_ocb.png', bbox_inches=\"tight\")"
   ]
  },
  {
   "cell_type": "markdown",
   "id": "57afb786",
   "metadata": {},
   "source": [
    "**Compare the overall distributions of Outcome B items to all items.**"
   ]
  },
  {
   "cell_type": "code",
   "execution_count": null,
   "id": "125aea2c",
   "metadata": {},
   "outputs": [],
   "source": [
    "oc2_data = (list(full_groups['avg_score_perc']), list(full_groups['total_exams']))\n",
    "all_data = (list(oc2_groups['avg_score_perc']), list(oc2_groups['total_exams']))\n",
    "\n",
    "\n",
    "data_tuple = (oc2_data, all_data)\n",
    "colors = ('#737373', '#2DCCD3')\n",
    "markers = ('o', 'd')\n",
    "groups = ('All Items', 'Outcome B Items')\n",
    "alphas = (1, 0.7)\n",
    "edgecolors = ('black', 'white')\n",
    "\n",
    "fig = plt.figure()\n",
    "ax = fig.add_subplot(1, 1, 1, facecolor='1.0')\n",
    "\n",
    "# Add a background color\n",
    "ax.set(facecolor='#E8E8E8')\n",
    "\n",
    "\n",
    "for data, clr, mrk, group, alph, ec in zip(data_tuple, colors, markers, groups, alphas, edgecolors):\n",
    "    x, y = data\n",
    "    ax.scatter(x, y, color = clr, marker = mrk, alpha = alph, edgecolors = ec, linewidths = 0.6, s = 50, label = group)\n",
    "\n",
    "plt.xticks([0, 10, 20, 30, 40, 50, 60, 70, 80])\n",
    "plt.title(label = 'Total Exams and Average Scores per Examiner', fontdict=font_title)\n",
    "plt.xlabel('Average Score\\n(% of Total)', fontdict=font_axes)\n",
    "plt.ylabel('Total Exams', fontdict=font_axes)\n",
    "plt.legend(loc = 1)\n",
    "plt.grid(True, axis='y', alpha=0.3)\n",
    "\n",
    "# (Optional) Uncomment the line below to export the figure\n",
    "#plt.savefig('../data/exams_corr.png', bbox_inches=\"tight\")"
   ]
  }
 ],
 "metadata": {
  "kernelspec": {
   "display_name": "Python 3 (ipykernel)",
   "language": "python",
   "name": "python3"
  },
  "language_info": {
   "codemirror_mode": {
    "name": "ipython",
    "version": 3
   },
   "file_extension": ".py",
   "mimetype": "text/x-python",
   "name": "python",
   "nbconvert_exporter": "python",
   "pygments_lexer": "ipython3",
   "version": "3.9.13"
  }
 },
 "nbformat": 4,
 "nbformat_minor": 5
}

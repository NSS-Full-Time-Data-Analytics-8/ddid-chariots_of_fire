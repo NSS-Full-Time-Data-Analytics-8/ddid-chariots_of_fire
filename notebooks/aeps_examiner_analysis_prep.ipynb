{
 "cells": [
  {
   "cell_type": "markdown",
   "id": "cfb150c1",
   "metadata": {},
   "source": [
    "# AEPS Examiner Analysis (Preparation)"
   ]
  },
  {
   "cell_type": "markdown",
   "id": "576cba7f",
   "metadata": {},
   "source": [
    "##### This notebook formats and filters the TEID AEPS spreadsheet and churns out two DataFrames:\n",
    "    a. The 'oc2_df' DataFrame contains items and corresponding columns relevant to Outcome B (aka Outcome 2.)\n",
    "       This DataFrame is exported as 'aeps_oc2_data.csv'\n",
    "    b. The 'df' DataFrame contains all items and corresponding columns.\n",
    "       This DataFrame is exported as 'aeps_all_data.csv'"
   ]
  },
  {
   "cell_type": "markdown",
   "id": "6b38c2a8",
   "metadata": {},
   "source": [
    "### Read in the TEIS Data"
   ]
  },
  {
   "cell_type": "code",
   "execution_count": null,
   "id": "bc7f5c04",
   "metadata": {},
   "outputs": [],
   "source": [
    "import pandas as pd\n",
    "import string\n",
    "import fuzzywuzzy\n",
    "from fuzzywuzzy import fuzz\n",
    "import re"
   ]
  },
  {
   "cell_type": "code",
   "execution_count": null,
   "id": "a6a6f25c",
   "metadata": {},
   "outputs": [],
   "source": [
    "aeps_original_df = pd.read_excel('../data/AEPSi Data for NSS.xlsx', sheet_name='AEPS 2017-2022')"
   ]
  },
  {
   "cell_type": "markdown",
   "id": "a4c594e0",
   "metadata": {},
   "source": [
    "### Prepare the Data"
   ]
  },
  {
   "cell_type": "markdown",
   "id": "c3afa149",
   "metadata": {},
   "source": [
    "#### Filter and Clean"
   ]
  },
  {
   "cell_type": "code",
   "execution_count": null,
   "id": "5b4c2451",
   "metadata": {},
   "outputs": [],
   "source": [
    "# Create a temporary copy of the dataframe to use for manipulation\n",
    "df = aeps_original_df"
   ]
  },
  {
   "cell_type": "code",
   "execution_count": null,
   "id": "83e18376",
   "metadata": {},
   "outputs": [],
   "source": [
    "# Drop a couple rows with unusable data\n",
    "df = df.drop([1393, 17927]).reset_index(drop = True)\n",
    "\n",
    "# Strip strings in the dataframe\n",
    "df = df.applymap(lambda x: x.strip() if isinstance(x, type(str)) else x)\n",
    "\n",
    "# Convert datatype of Child ID to be string for all rows.\n",
    "df = df.astype({'Child ID':'string'})\n",
    "\n",
    "# Remove letters from Child ID\n",
    "df['Child ID'] = df['Child ID'].str.replace('\\t', '')\n",
    "df['Child ID'] = df['Child ID'].str.replace('i', '')"
   ]
  },
  {
   "cell_type": "markdown",
   "id": "f27156b9",
   "metadata": {},
   "source": [
    "#### Prepare the 'Examiner' column for analysis"
   ]
  },
  {
   "cell_type": "code",
   "execution_count": null,
   "id": "79c96d57",
   "metadata": {},
   "outputs": [],
   "source": [
    "# As per Chris:\n",
    "#First, an easy adjustment, stripping any leading or lagging spaces\n",
    "df.Examiner = df.Examiner.str.strip()\n",
    "\n",
    "#Now we'll look for any cells that contain a semicolon and keep only what is to the left of the semicolon\n",
    "df.Examiner = df.Examiner.str.extract('(^[^;]+)')\n",
    "\n",
    "#Making the value counts into a dataframe\n",
    "ex_counts = df.Examiner.value_counts().to_frame()\n",
    "#Keeping only those entries that occur more than once\n",
    "ex_counts = ex_counts.loc[ex_counts.Examiner > 1]\n",
    "#Turning that into a list\n",
    "Examiner_list =ex_counts.index.to_list()\n",
    "Examiner_list\n",
    "\n",
    "#creating a column to indicate whether or not a name is changed (Y=Yes, N=No)\n",
    "df['changed'] = 'N'\n",
    "\n",
    "#Building a for loop that compares the entries in the examiner column to the entries in our list\n",
    "for name in Examiner_list:\n",
    "    \n",
    "        for ind, row in df.iterrows():\n",
    "            #For any row that indicates it has NOT be changed, the following happens\n",
    "            if row.changed == 'N':\n",
    "                #Create a ration of how similar the entry in the dataframe is to the entry in the list\n",
    "                ratio = fuzz.token_set_ratio(name, row.Examiner)\n",
    "                #For any entries that have a ratio of 100, meaning they match exactly...\n",
    "                if ratio == 100:\n",
    "                    #Go ahead and mark the 'changed' column as Y so that row won't be looked at again\n",
    "                    df.loc[ind, 'changed'] = 'Y'\n",
    "                #For  any entries that are very similar (ratio > 88) but not exactly the same...\n",
    "                if ((ratio > 88)  & (ratio < 100)):\n",
    "                    #go ahead and change the entry in the dataframe to match the entry in the list\n",
    "                    df.loc[ind, 'Examiner'] = name\n",
    "                    #and mark the 'changed' column as Y so that row won't be evaluated again\n",
    "                    df.loc[ind, 'changed'] = 'Y'\n",
    "#This loop continues until all rows are changed or have no match that creates a ratio greater than 88            \n",
    "\n",
    "#Get rid of our 'changed' column now that it's served its purpose\n",
    "df = df.drop(columns = 'changed')"
   ]
  },
  {
   "cell_type": "code",
   "execution_count": null,
   "id": "7370cf2d",
   "metadata": {},
   "outputs": [],
   "source": [
    "# Remove lingering numbers and whitespace\n",
    "df['Examiner'] = df['Examiner'].str.replace('  ', ' ').str.replace('1', '').str.replace('2', '')\n",
    "df['Examiner'] = df['Examiner'].str.strip(string.digits)\n",
    "\n",
    "# Remove punctuation marks from the beginning and end of each cell\n",
    "df['Examiner'] = df['Examiner'].str.strip(string.punctuation)\n",
    "\n",
    "# Format all names to have consistent capitalization\n",
    "df['Examiner'] = df['Examiner'].str.title()"
   ]
  },
  {
   "cell_type": "code",
   "execution_count": null,
   "id": "f3986f99",
   "metadata": {},
   "outputs": [],
   "source": [
    "# Subset the dataframe to include only Outcome B items and their relevant data fields\n",
    "oc2_df = df[['Child ID', 'Program Name', 'AEPSi ID', 'DOB', 'Gender', 'Dev Status', 'Test Date', 'Examiner', 'Service Coordinator', 'TEIS Point of Entry Office (POE)', 'ESL', 'County of Residence', 'Number of Items', \n",
    "             'fm_B4.0', 'fm_B5.0', 'cog_D2.0', 'cog_E2.0', 'cog_E4.0', 'cog_F1.0', 'cog_G1.0', 'cog_G2.0', 'cog_G3.0', 'cog_G4.0', 'cog_G5.0', 'cog_G6.0', 'sc_B1.0', 'sc_B2.0', 'sc_D1.0', 'sc_D2.0', 'sc_D3.0', \n",
    "             'FM Raw Score', 'FM Possible Score', 'FM Percentage', \n",
    "             'GM Raw Score', 'GM Possible Score', 'GM Percentage', \n",
    "             'Adapt Raw Score', 'Adapt Possible Score', 'Adapt Percentage', \n",
    "             'Cog Raw Score', 'Cog Possible Score', 'Cog Percentage',\n",
    "             'SC Raw Score', 'SC Possible Score', 'SC Percentage', \n",
    "             'Soc Raw Score', 'Soc Possible Score', 'Soc Percentage', \n",
    "             'Overall Raw Score', 'Overall Possible Score', 'Overall Percentage', \n",
    "             'FM Goal Score', 'FM Cutoff', 'FM Result', \n",
    "             'GM Goal Score', 'GM Cutoff', 'GM Result', \n",
    "             'Adapt Goal Score', 'Adapt Cutoff', 'Adapt Result', \n",
    "             'Cog Goal Score', 'Cog Cutoff', 'Cog Result', \n",
    "             'SC Goal Score', 'SC Cutoff', 'SC Result', \n",
    "             'Soc Goal Score', 'Soc Cutoff', 'Soc Result']]"
   ]
  },
  {
   "cell_type": "code",
   "execution_count": null,
   "id": "301f8e1f",
   "metadata": {},
   "outputs": [],
   "source": [
    "# Drop a few columns from the main DataFrame that are not used in analysis\n",
    "df = df.drop(columns=['AssessID', 'State', 'AEPS Level', 'Chron Age', 'Child First', 'Child Last'])"
   ]
  },
  {
   "cell_type": "markdown",
   "id": "89006e0d",
   "metadata": {},
   "source": [
    "#### Save the processed dataframes for future load-in"
   ]
  },
  {
   "cell_type": "code",
   "execution_count": null,
   "id": "938b7c7a",
   "metadata": {},
   "outputs": [],
   "source": [
    "df.to_csv('../data/aeps_all_data.csv')"
   ]
  },
  {
   "cell_type": "code",
   "execution_count": null,
   "id": "c1fd4462",
   "metadata": {},
   "outputs": [],
   "source": [
    "oc2_df.to_csv('../data/aeps_oc2_data.csv')"
   ]
  }
 ],
 "metadata": {
  "kernelspec": {
   "display_name": "Python 3 (ipykernel)",
   "language": "python",
   "name": "python3"
  },
  "language_info": {
   "codemirror_mode": {
    "name": "ipython",
    "version": 3
   },
   "file_extension": ".py",
   "mimetype": "text/x-python",
   "name": "python",
   "nbconvert_exporter": "python",
   "pygments_lexer": "ipython3",
   "version": "3.9.13"
  }
 },
 "nbformat": 4,
 "nbformat_minor": 5
}

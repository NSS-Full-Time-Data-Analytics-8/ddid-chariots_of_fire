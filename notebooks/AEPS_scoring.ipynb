{
 "cells": [
  {
   "cell_type": "code",
   "execution_count": null,
   "id": "3d8c0983",
   "metadata": {},
   "outputs": [],
   "source": [
    "import pandas as pd\n",
    "import matplotlib.pyplot as plt\n",
    "import seaborn as sns"
   ]
  },
  {
   "cell_type": "code",
   "execution_count": null,
   "id": "93538fc3",
   "metadata": {},
   "outputs": [],
   "source": [
    "aeps__original_df = pd.read_excel('../data/AEPSi Data for NSS.xlsx', sheet_name='AEPS 2017-2022')"
   ]
  },
  {
   "cell_type": "code",
   "execution_count": null,
   "id": "015a2395",
   "metadata": {},
   "outputs": [],
   "source": [
    "# create a dummy df ala Rachel\n",
    "aeps_df = aeps__original_df"
   ]
  },
  {
   "cell_type": "code",
   "execution_count": null,
   "id": "4e7b4ed6",
   "metadata": {},
   "outputs": [],
   "source": [
    "aeps_df.shape"
   ]
  },
  {
   "cell_type": "code",
   "execution_count": null,
   "id": "5416c0c2",
   "metadata": {
    "scrolled": true
   },
   "outputs": [],
   "source": [
    "oc2 = aeps_df[['Child ID', 'Program Name', 'AEPSi ID', 'DOB', 'Gender', 'Dev Status', 'AEPS Level', 'Test Date', 'Examiner', 'Service Coordinator', 'TEIS Point of Entry Office (POE)', 'ESL', 'County of Residence', 'Number of Items', 'fm_B4.0', 'fm_B5.0', 'cog_D2.0', 'cog_E2.0', 'cog_E4.0', 'cog_F1.0', 'cog_G1.0', 'cog_G2.0', 'cog_G3.0', 'cog_G4.0', 'cog_G5.0', 'cog_G6.0', 'sc_B1.0', 'sc_B2.0', 'sc_D1.0', 'sc_D2.0', 'sc_D3.0', 'FM Raw Score', 'FM Possible Score', 'FM Percentage', 'GM Raw Score', 'GM Possible Score', 'GM Percentage', 'Adapt Raw Score', 'Adapt Possible Score', 'Adapt Percentage', 'Cog Raw Score', 'Cog Possible Score', 'Cog Percentage', 'SC Raw Score', 'SC Possible Score', 'SC Percentage', 'Soc Raw Score', 'Soc Possible Score', 'Soc Percentage', 'Overall Raw Score', 'Overall Possible Score', 'Overall Percentage', 'FM Goal Score', 'FM Cutoff', 'FM Result', 'GM Goal Score', 'GM Cutoff', 'GM Result', 'Adapt Goal Score', 'Adapt Cutoff', 'Adapt Result', 'Cog Goal Score', 'Cog Cutoff', 'Cog Result', 'SC Goal Score', 'SC Cutoff', 'SC Result', 'Soc Goal Score', 'Soc Cutoff', 'Soc Result']]\n",
    "oc2"
   ]
  },
  {
   "cell_type": "code",
   "execution_count": null,
   "id": "e004c7ba",
   "metadata": {},
   "outputs": [],
   "source": [
    "oc2.columns"
   ]
  },
  {
   "cell_type": "code",
   "execution_count": null,
   "id": "3478044e",
   "metadata": {},
   "outputs": [],
   "source": [
    "#after graphing, look at % of each item at 0\n",
    "# make df with 0,1,2 rows and each item as column my making each value count a data frame and merging them all?\n",
    "oc2['fm_B4.0'].value_counts(dropna = False)"
   ]
  },
  {
   "cell_type": "code",
   "execution_count": null,
   "id": "cbc98d6d",
   "metadata": {},
   "outputs": [],
   "source": [
    "oc2['fm_B4.0'].value_counts().plot(kind = 'bar',\n",
    "                                   color = ['red', 'yellow', 'green'])\n",
    "\n",
    "plt.xticks(rotation = 0)\n",
    "plt.title('Fine Motor: Picture Book Orientation and Page Turning');"
   ]
  },
  {
   "cell_type": "code",
   "execution_count": null,
   "id": "c60cb9a5",
   "metadata": {},
   "outputs": [],
   "source": [
    "oc2['fm_B5.0'].value_counts(dropna = False)"
   ]
  },
  {
   "cell_type": "code",
   "execution_count": null,
   "id": "73879e68",
   "metadata": {},
   "outputs": [],
   "source": [
    "oc2['fm_B5.0'].value_counts().plot(kind = 'bar',\n",
    "                                   color = ['red', 'yellow', 'green'])\n",
    "\n",
    "plt.xticks(rotation = 0)\n",
    "plt.title('Fine Motor: Copies Simple Written Shapes After Demonstration');"
   ]
  },
  {
   "cell_type": "code",
   "execution_count": null,
   "id": "fd86758e",
   "metadata": {},
   "outputs": [],
   "source": [
    "oc2['cog_D2.0'].value_counts(dropna = False)"
   ]
  },
  {
   "cell_type": "code",
   "execution_count": null,
   "id": "ad4adb15",
   "metadata": {},
   "outputs": [],
   "source": [
    "oc2['cog_D2.0'].value_counts().plot(kind = 'bar',\n",
    "                                   color = ['red', 'yellow', 'green'])\n",
    "\n",
    "plt.xticks(rotation = 0)\n",
    "plt.title('Cognitive: Imitates Words Not Frequently Used');"
   ]
  },
  {
   "cell_type": "code",
   "execution_count": null,
   "id": "1272be74",
   "metadata": {},
   "outputs": [],
   "source": [
    "oc2['cog_E2.0'].value_counts(dropna = False)"
   ]
  },
  {
   "cell_type": "code",
   "execution_count": null,
   "id": "725ed013",
   "metadata": {},
   "outputs": [],
   "source": [
    "oc2['cog_E2.0'].value_counts().plot(kind = 'bar',\n",
    "                                   color = ['red', 'yellow', 'green'])\n",
    "\n",
    "plt.xticks(rotation = 0)\n",
    "plt.title('Cognitive: Uses an Object to Obtain another Object');"
   ]
  },
  {
   "cell_type": "code",
   "execution_count": null,
   "id": "ee10a613",
   "metadata": {},
   "outputs": [],
   "source": [
    "oc2['cog_E4.0'].value_counts(dropna = False)"
   ]
  },
  {
   "cell_type": "code",
   "execution_count": null,
   "id": "679b9e37",
   "metadata": {},
   "outputs": [],
   "source": [
    "oc2['cog_E4.0'].value_counts().plot(kind = 'bar',\n",
    "                                   color = ['red', 'yellow', 'green'])\n",
    "\n",
    "plt.xticks(rotation = 0)\n",
    "plt.title('Cognitive: Solves Common Problems');"
   ]
  },
  {
   "cell_type": "code",
   "execution_count": null,
   "id": "72f2b810",
   "metadata": {},
   "outputs": [],
   "source": [
    "oc2['cog_F1.0'].value_counts(dropna = False)"
   ]
  },
  {
   "cell_type": "code",
   "execution_count": null,
   "id": "0618643c",
   "metadata": {},
   "outputs": [],
   "source": [
    "oc2['cog_F1.0'].value_counts().plot(kind = 'bar',\n",
    "                                   color = ['red', 'yellow', 'green'])\n",
    "\n",
    "plt.xticks(rotation = 0)\n",
    "plt.title('Cognitive: Uses Imagninary Objects in Play');"
   ]
  },
  {
   "cell_type": "code",
   "execution_count": null,
   "id": "6270c801",
   "metadata": {},
   "outputs": [],
   "source": [
    "oc2['cog_G1.0'].value_counts(dropna = False)"
   ]
  },
  {
   "cell_type": "code",
   "execution_count": null,
   "id": "00a81940",
   "metadata": {},
   "outputs": [],
   "source": [
    "oc2['cog_G1.0'].value_counts().plot(kind = 'bar',\n",
    "                                   color = ['red', 'yellow', 'green'])\n",
    "\n",
    "plt.xticks(rotation = 0)\n",
    "plt.title('Cognitive: Categorizes Like Objects');"
   ]
  },
  {
   "cell_type": "code",
   "execution_count": null,
   "id": "f797980a",
   "metadata": {},
   "outputs": [],
   "source": [
    "oc2['cog_G2.0'].value_counts(dropna = False)"
   ]
  },
  {
   "cell_type": "code",
   "execution_count": null,
   "id": "fc24c6a0",
   "metadata": {},
   "outputs": [],
   "source": [
    "oc2['cog_G2.0'].value_counts().plot(kind = 'bar',\n",
    "                                   color = ['red', 'yellow', 'green'])\n",
    "\n",
    "plt.xticks(rotation = 0)\n",
    "plt.title('Cognitive: Demonstrates Functional 1:1 Correspondence');"
   ]
  },
  {
   "cell_type": "code",
   "execution_count": null,
   "id": "c23311fa",
   "metadata": {},
   "outputs": [],
   "source": [
    "oc2['cog_G3.0'].value_counts(dropna = False)"
   ]
  },
  {
   "cell_type": "code",
   "execution_count": null,
   "id": "1cb5cec6",
   "metadata": {},
   "outputs": [],
   "source": [
    "oc2['cog_G3.0'].value_counts().plot(kind = 'bar',\n",
    "                                   color = ['red', 'yellow', 'green'])\n",
    "\n",
    "plt.xticks(rotation = 0)\n",
    "plt.title('Cognitive: Recognizes Environment Symbols (signs, logos, labels)');"
   ]
  },
  {
   "cell_type": "code",
   "execution_count": null,
   "id": "4eae5e08",
   "metadata": {},
   "outputs": [],
   "source": [
    "oc2['cog_G4.0'].value_counts(dropna = False)"
   ]
  },
  {
   "cell_type": "code",
   "execution_count": null,
   "id": "4062dc9f",
   "metadata": {},
   "outputs": [],
   "source": [
    "oc2['cog_G4.0'].value_counts().plot(kind = 'bar',\n",
    "                                   color = ['red', 'yellow', 'green'])\n",
    "\n",
    "plt.xticks(rotation = 0)\n",
    "plt.title('Cognitive: Demonstrates Functional Use of Reading Materials');"
   ]
  },
  {
   "cell_type": "code",
   "execution_count": null,
   "id": "42fc7771",
   "metadata": {},
   "outputs": [],
   "source": [
    "oc2['cog_G5.0'].value_counts(dropna = False)"
   ]
  },
  {
   "cell_type": "code",
   "execution_count": null,
   "id": "9c84880a",
   "metadata": {},
   "outputs": [],
   "source": [
    "oc2['cog_G5.0'].value_counts().plot(kind = 'bar',\n",
    "                                   color = ['red', 'yellow', 'green'])\n",
    "\n",
    "plt.xticks(rotation = 0)\n",
    "plt.title('Cognitive: Demonstrates Use of Common Opposite Concepts');"
   ]
  },
  {
   "cell_type": "code",
   "execution_count": null,
   "id": "d9adf349",
   "metadata": {},
   "outputs": [],
   "source": [
    "oc2['cog_G6.0'].value_counts(dropna = False)"
   ]
  },
  {
   "cell_type": "code",
   "execution_count": null,
   "id": "6e1bc8f0",
   "metadata": {},
   "outputs": [],
   "source": [
    "oc2['cog_G6.0'].value_counts().plot(kind = 'bar',\n",
    "                                   color = ['red', 'yellow', 'green'])\n",
    "\n",
    "plt.xticks(rotation = 0)\n",
    "plt.title('Cognitive: Repeats Simple Nursery Rhymes');"
   ]
  },
  {
   "cell_type": "code",
   "execution_count": null,
   "id": "76c879f5",
   "metadata": {},
   "outputs": [],
   "source": [
    "oc2['sc_B1.0'].value_counts(dropna = False)"
   ]
  },
  {
   "cell_type": "code",
   "execution_count": null,
   "id": "766066ad",
   "metadata": {},
   "outputs": [],
   "source": [
    "oc2['sc_B1.0'].value_counts().plot(kind = 'bar',\n",
    "                                   color = ['red', 'yellow', 'green'])\n",
    "\n",
    "plt.xticks(rotation = 0)\n",
    "plt.title('Social-Communication: Gains Persons Attention and Refers to Object/Person/Event');"
   ]
  },
  {
   "cell_type": "code",
   "execution_count": null,
   "id": "a0773d86",
   "metadata": {},
   "outputs": [],
   "source": [
    "oc2['sc_B2.0'].value_counts(dropna = False)"
   ]
  },
  {
   "cell_type": "code",
   "execution_count": null,
   "id": "fe9c1adc",
   "metadata": {},
   "outputs": [],
   "source": [
    "oc2['sc_B2.0'].value_counts().plot(kind = 'bar',\n",
    "                                   color = ['red', 'yellow', 'green'])\n",
    "\n",
    "plt.xticks(rotation = 0)\n",
    "plt.title('Social-Communication: Uses Consistent Word Approximations');"
   ]
  },
  {
   "cell_type": "code",
   "execution_count": null,
   "id": "8ca49847",
   "metadata": {},
   "outputs": [],
   "source": [
    "oc2['sc_D1.0'].value_counts(dropna = False)"
   ]
  },
  {
   "cell_type": "code",
   "execution_count": null,
   "id": "11bc9514",
   "metadata": {},
   "outputs": [],
   "source": [
    "oc2['sc_D1.0'].value_counts().plot(kind = 'bar',\n",
    "                                   color = ['red', 'yellow', 'green'])\n",
    "\n",
    "plt.xticks(rotation = 0)\n",
    "plt.title('Social-Communication: Uses 50 Single Words');"
   ]
  },
  {
   "cell_type": "code",
   "execution_count": null,
   "id": "27c1c3f9",
   "metadata": {},
   "outputs": [],
   "source": [
    "oc2['sc_D2.0'].value_counts(dropna = False)"
   ]
  },
  {
   "cell_type": "code",
   "execution_count": null,
   "id": "510fc43d",
   "metadata": {},
   "outputs": [],
   "source": [
    "oc2['sc_D2.0'].value_counts().plot(kind = 'bar',\n",
    "                                   color = ['red', 'yellow', 'green'])\n",
    "\n",
    "plt.xticks(rotation = 0)\n",
    "plt.title('Social-Communication: Uses Two Word Utterances');"
   ]
  },
  {
   "cell_type": "code",
   "execution_count": null,
   "id": "85983f20",
   "metadata": {},
   "outputs": [],
   "source": [
    "oc2['sc_D3.0'].value_counts(dropna = False)"
   ]
  },
  {
   "cell_type": "code",
   "execution_count": null,
   "id": "36ff82b7",
   "metadata": {},
   "outputs": [],
   "source": [
    "oc2['sc_D3.0'].value_counts().plot(kind = 'bar',\n",
    "                                   color = ['red', 'yellow', 'green'])\n",
    "\n",
    "plt.xticks(rotation = 0)\n",
    "plt.title('Social-Communication: Uses Three Word Utterances');"
   ]
  },
  {
   "cell_type": "markdown",
   "id": "3c8d156e",
   "metadata": {},
   "source": [
    "to make a df that has score totals for each item, I will make each item a dataframe and then merge them all. If there is a faster/better way to do it, I dont know it"
   ]
  },
  {
   "cell_type": "markdown",
   "id": "043abd82",
   "metadata": {},
   "source": [
    "### fm_b4 dataframe"
   ]
  },
  {
   "cell_type": "code",
   "execution_count": null,
   "id": "6d5f3359",
   "metadata": {},
   "outputs": [],
   "source": [
    "fm_b4_df = oc2['fm_B4.0'].value_counts(dropna = False)"
   ]
  },
  {
   "cell_type": "code",
   "execution_count": null,
   "id": "6b63655c",
   "metadata": {},
   "outputs": [],
   "source": [
    "fm_b4_df = fm_b4_df.reset_index()"
   ]
  },
  {
   "cell_type": "code",
   "execution_count": null,
   "id": "7f04e325",
   "metadata": {},
   "outputs": [],
   "source": [
    "fm_b4_df"
   ]
  },
  {
   "cell_type": "code",
   "execution_count": null,
   "id": "73f8f138",
   "metadata": {
    "scrolled": true
   },
   "outputs": [],
   "source": [
    "type(fm_b4_df)"
   ]
  },
  {
   "cell_type": "code",
   "execution_count": null,
   "id": "c946202e",
   "metadata": {},
   "outputs": [],
   "source": [
    "fm_b4_df.columns = ['score', 'fm_B4.0']"
   ]
  },
  {
   "cell_type": "code",
   "execution_count": null,
   "id": "399dd7a0",
   "metadata": {
    "scrolled": true
   },
   "outputs": [],
   "source": [
    "fm_b4_df.head()"
   ]
  },
  {
   "cell_type": "markdown",
   "id": "baa6933c",
   "metadata": {},
   "source": [
    "### fm_b5 dataframe"
   ]
  },
  {
   "cell_type": "code",
   "execution_count": null,
   "id": "e7d6d193",
   "metadata": {},
   "outputs": [],
   "source": [
    "fm_b5_df = oc2['fm_B5.0'].value_counts(dropna = False)"
   ]
  },
  {
   "cell_type": "code",
   "execution_count": null,
   "id": "c2d43bda",
   "metadata": {},
   "outputs": [],
   "source": [
    "fm_b5_df = fm_b5_df.reset_index()"
   ]
  },
  {
   "cell_type": "code",
   "execution_count": null,
   "id": "193be166",
   "metadata": {},
   "outputs": [],
   "source": [
    "fm_b5_df"
   ]
  },
  {
   "cell_type": "code",
   "execution_count": null,
   "id": "529034da",
   "metadata": {},
   "outputs": [],
   "source": [
    "type(fm_b5_df)"
   ]
  },
  {
   "cell_type": "code",
   "execution_count": null,
   "id": "85d1bdeb",
   "metadata": {},
   "outputs": [],
   "source": [
    "fm_b5_df.columns = ['score', 'fm_B5.0']"
   ]
  },
  {
   "cell_type": "code",
   "execution_count": null,
   "id": "b79e64cf",
   "metadata": {},
   "outputs": [],
   "source": [
    "fm_b5_df"
   ]
  },
  {
   "cell_type": "markdown",
   "id": "5b919bf9",
   "metadata": {},
   "source": [
    "### cog_d2 dataframe"
   ]
  },
  {
   "cell_type": "code",
   "execution_count": null,
   "id": "6c7d4428",
   "metadata": {},
   "outputs": [],
   "source": [
    "cog_d2_df = oc2['cog_D2.0'].value_counts(dropna = False)"
   ]
  },
  {
   "cell_type": "code",
   "execution_count": null,
   "id": "60369bcc",
   "metadata": {},
   "outputs": [],
   "source": [
    "cog_d2_df = cog_d2_df.reset_index()"
   ]
  },
  {
   "cell_type": "code",
   "execution_count": null,
   "id": "ad2a3e5c",
   "metadata": {},
   "outputs": [],
   "source": [
    "cog_d2_df"
   ]
  },
  {
   "cell_type": "code",
   "execution_count": null,
   "id": "7e005d79",
   "metadata": {},
   "outputs": [],
   "source": [
    "cog_d2_df.columns = ['score', 'cog_D2.0']"
   ]
  },
  {
   "cell_type": "code",
   "execution_count": null,
   "id": "f7e15c0e",
   "metadata": {},
   "outputs": [],
   "source": [
    "cog_d2_df"
   ]
  },
  {
   "cell_type": "markdown",
   "id": "a2baef53",
   "metadata": {},
   "source": [
    "## cog_e2 dataframe"
   ]
  },
  {
   "cell_type": "code",
   "execution_count": null,
   "id": "101ac8da",
   "metadata": {},
   "outputs": [],
   "source": [
    "cog_e2_df = oc2['cog_E2.0'].value_counts(dropna = False)"
   ]
  },
  {
   "cell_type": "code",
   "execution_count": null,
   "id": "8f01afa1",
   "metadata": {},
   "outputs": [],
   "source": [
    "cog_e2_df = cog_e2_df.reset_index()"
   ]
  },
  {
   "cell_type": "code",
   "execution_count": null,
   "id": "58d7569f",
   "metadata": {},
   "outputs": [],
   "source": [
    "cog_e2_df"
   ]
  },
  {
   "cell_type": "code",
   "execution_count": null,
   "id": "f8e8d59b",
   "metadata": {},
   "outputs": [],
   "source": [
    "cog_e2_df.columns = ['score', 'cog_E2.0']"
   ]
  },
  {
   "cell_type": "code",
   "execution_count": null,
   "id": "d21d808a",
   "metadata": {},
   "outputs": [],
   "source": [
    "cog_e2_df"
   ]
  },
  {
   "cell_type": "markdown",
   "id": "0ed8da85",
   "metadata": {},
   "source": [
    "## cog_e4 dataframe"
   ]
  },
  {
   "cell_type": "code",
   "execution_count": null,
   "id": "46e293da",
   "metadata": {},
   "outputs": [],
   "source": [
    "cog_e4_df = oc2['cog_E4.0'].value_counts(dropna = False)"
   ]
  },
  {
   "cell_type": "code",
   "execution_count": null,
   "id": "4de44c67",
   "metadata": {},
   "outputs": [],
   "source": [
    "cog_e4_df = cog_e4_df.reset_index()"
   ]
  },
  {
   "cell_type": "code",
   "execution_count": null,
   "id": "6f046ec7",
   "metadata": {},
   "outputs": [],
   "source": [
    "cog_e4_df"
   ]
  },
  {
   "cell_type": "code",
   "execution_count": null,
   "id": "e64d9224",
   "metadata": {},
   "outputs": [],
   "source": [
    "cog_e4_df.columns = ['score', 'cog_E4.0']"
   ]
  },
  {
   "cell_type": "code",
   "execution_count": null,
   "id": "5dd28a4b",
   "metadata": {},
   "outputs": [],
   "source": [
    "cog_e4_df"
   ]
  },
  {
   "cell_type": "markdown",
   "id": "a3e0d22d",
   "metadata": {},
   "source": [
    "## cog_f1 dataframe"
   ]
  },
  {
   "cell_type": "code",
   "execution_count": null,
   "id": "7e78c8e8",
   "metadata": {},
   "outputs": [],
   "source": [
    "cog_f1_df = oc2['cog_F1.0'].value_counts(dropna = False)"
   ]
  },
  {
   "cell_type": "code",
   "execution_count": null,
   "id": "5685090f",
   "metadata": {},
   "outputs": [],
   "source": [
    "cog_f1_df = cog_f1_df.reset_index()"
   ]
  },
  {
   "cell_type": "code",
   "execution_count": null,
   "id": "f4d786b3",
   "metadata": {},
   "outputs": [],
   "source": [
    "cog_f1_df"
   ]
  },
  {
   "cell_type": "code",
   "execution_count": null,
   "id": "d84f6038",
   "metadata": {},
   "outputs": [],
   "source": [
    "cog_f1_df.columns = ['score', 'cog_F1.0']"
   ]
  },
  {
   "cell_type": "code",
   "execution_count": null,
   "id": "158fbaeb",
   "metadata": {},
   "outputs": [],
   "source": [
    "cog_f1_df"
   ]
  },
  {
   "cell_type": "markdown",
   "id": "fbf73fcb",
   "metadata": {},
   "source": [
    "## cog_G1 dataframe"
   ]
  },
  {
   "cell_type": "code",
   "execution_count": null,
   "id": "002df791",
   "metadata": {},
   "outputs": [],
   "source": [
    "cog_g1_df = oc2['cog_G1.0'].value_counts(dropna = False)"
   ]
  },
  {
   "cell_type": "code",
   "execution_count": null,
   "id": "a779d180",
   "metadata": {},
   "outputs": [],
   "source": [
    "cog_g1_df = cog_g1_df.reset_index()"
   ]
  },
  {
   "cell_type": "code",
   "execution_count": null,
   "id": "0b61c289",
   "metadata": {},
   "outputs": [],
   "source": [
    "cog_g1_df"
   ]
  },
  {
   "cell_type": "code",
   "execution_count": null,
   "id": "2b77e4a6",
   "metadata": {},
   "outputs": [],
   "source": [
    "cog_g1_df.columns = ['score', 'cog_G1.0']"
   ]
  },
  {
   "cell_type": "code",
   "execution_count": null,
   "id": "df4b5f07",
   "metadata": {},
   "outputs": [],
   "source": [
    "cog_g1_df"
   ]
  },
  {
   "cell_type": "markdown",
   "id": "cdbb28fc",
   "metadata": {},
   "source": [
    "## cog_g2 dataframe"
   ]
  },
  {
   "cell_type": "code",
   "execution_count": null,
   "id": "00a0222f",
   "metadata": {},
   "outputs": [],
   "source": [
    "cog_g2_df = oc2['cog_G2.0'].value_counts(dropna = False)"
   ]
  },
  {
   "cell_type": "code",
   "execution_count": null,
   "id": "4db390d0",
   "metadata": {},
   "outputs": [],
   "source": [
    "cog_g2_df = cog_g2_df.reset_index()"
   ]
  },
  {
   "cell_type": "code",
   "execution_count": null,
   "id": "252c8fba",
   "metadata": {},
   "outputs": [],
   "source": [
    "cog_g2_df"
   ]
  },
  {
   "cell_type": "code",
   "execution_count": null,
   "id": "525892e6",
   "metadata": {},
   "outputs": [],
   "source": [
    "cog_g2_df.columns = ['score', 'cog_G2.0']"
   ]
  },
  {
   "cell_type": "code",
   "execution_count": null,
   "id": "25cd3873",
   "metadata": {},
   "outputs": [],
   "source": [
    "cog_g2_df"
   ]
  },
  {
   "cell_type": "markdown",
   "id": "6c28297b",
   "metadata": {},
   "source": [
    "## cog_g3 dataframe"
   ]
  },
  {
   "cell_type": "code",
   "execution_count": null,
   "id": "03e69f9f",
   "metadata": {},
   "outputs": [],
   "source": [
    "cog_g3_df = oc2['cog_G3.0'].value_counts(dropna = False)"
   ]
  },
  {
   "cell_type": "code",
   "execution_count": null,
   "id": "38b7963c",
   "metadata": {},
   "outputs": [],
   "source": [
    "cog_g3_df = cog_g3_df.reset_index()"
   ]
  },
  {
   "cell_type": "code",
   "execution_count": null,
   "id": "236cece2",
   "metadata": {},
   "outputs": [],
   "source": [
    "cog_g3_df"
   ]
  },
  {
   "cell_type": "code",
   "execution_count": null,
   "id": "adcc4f39",
   "metadata": {},
   "outputs": [],
   "source": [
    "cog_g3_df.columns = ['score', 'cog_G3.0']"
   ]
  },
  {
   "cell_type": "code",
   "execution_count": null,
   "id": "f58b8a83",
   "metadata": {},
   "outputs": [],
   "source": [
    "cog_g3_df"
   ]
  },
  {
   "cell_type": "markdown",
   "id": "8e982b08",
   "metadata": {},
   "source": [
    "## cog_g4 dataframe"
   ]
  },
  {
   "cell_type": "code",
   "execution_count": null,
   "id": "6eb5cc6f",
   "metadata": {},
   "outputs": [],
   "source": [
    "cog_g4_df = oc2['cog_G4.0'].value_counts(dropna = False)"
   ]
  },
  {
   "cell_type": "code",
   "execution_count": null,
   "id": "bc03dd0a",
   "metadata": {},
   "outputs": [],
   "source": [
    "cog_g4_df = cog_g4_df.reset_index()"
   ]
  },
  {
   "cell_type": "code",
   "execution_count": null,
   "id": "f7a2855b",
   "metadata": {},
   "outputs": [],
   "source": [
    "cog_g4_df"
   ]
  },
  {
   "cell_type": "code",
   "execution_count": null,
   "id": "97dd25aa",
   "metadata": {},
   "outputs": [],
   "source": [
    "cog_g4_df.columns = ['score', 'cog_G4.0']"
   ]
  },
  {
   "cell_type": "code",
   "execution_count": null,
   "id": "9fca646f",
   "metadata": {},
   "outputs": [],
   "source": [
    "cog_g4_df"
   ]
  },
  {
   "cell_type": "markdown",
   "id": "3a73f283",
   "metadata": {},
   "source": [
    "## cog_g5 dataframe "
   ]
  },
  {
   "cell_type": "code",
   "execution_count": null,
   "id": "703a842e",
   "metadata": {},
   "outputs": [],
   "source": [
    "cog_g5_df = oc2['cog_G5.0'].value_counts(dropna = False)"
   ]
  },
  {
   "cell_type": "code",
   "execution_count": null,
   "id": "5c7cd0af",
   "metadata": {},
   "outputs": [],
   "source": [
    "cog_g5_df = cog_g5_df.reset_index()"
   ]
  },
  {
   "cell_type": "code",
   "execution_count": null,
   "id": "62fba5b9",
   "metadata": {},
   "outputs": [],
   "source": [
    "cog_g5_df"
   ]
  },
  {
   "cell_type": "code",
   "execution_count": null,
   "id": "4299e8dc",
   "metadata": {},
   "outputs": [],
   "source": [
    "cog_g5_df.columns = ['score', 'cog_G5.0']"
   ]
  },
  {
   "cell_type": "code",
   "execution_count": null,
   "id": "9671e429",
   "metadata": {},
   "outputs": [],
   "source": [
    "cog_g5_df"
   ]
  },
  {
   "cell_type": "markdown",
   "id": "2a41a759",
   "metadata": {},
   "source": [
    "## cog_g6 dataframe"
   ]
  },
  {
   "cell_type": "code",
   "execution_count": null,
   "id": "0346f7f7",
   "metadata": {},
   "outputs": [],
   "source": [
    "cog_g6_df = oc2['cog_G6.0'].value_counts(dropna = False)"
   ]
  },
  {
   "cell_type": "code",
   "execution_count": null,
   "id": "0912a89c",
   "metadata": {},
   "outputs": [],
   "source": [
    "cog_g6_df = cog_g6_df.reset_index()"
   ]
  },
  {
   "cell_type": "code",
   "execution_count": null,
   "id": "eebb2089",
   "metadata": {},
   "outputs": [],
   "source": [
    "cog_g6_df"
   ]
  },
  {
   "cell_type": "code",
   "execution_count": null,
   "id": "d1cad3c7",
   "metadata": {},
   "outputs": [],
   "source": [
    "cog_g6_df.columns = ['score', 'cog_G6.0']"
   ]
  },
  {
   "cell_type": "code",
   "execution_count": null,
   "id": "81a49def",
   "metadata": {},
   "outputs": [],
   "source": [
    "cog_g6_df"
   ]
  },
  {
   "cell_type": "markdown",
   "id": "d8fef77e",
   "metadata": {},
   "source": [
    "## sc_b1 dataframe"
   ]
  },
  {
   "cell_type": "code",
   "execution_count": null,
   "id": "f57d9d6d",
   "metadata": {},
   "outputs": [],
   "source": [
    "sc_b1_df = oc2['sc_B1.0'].value_counts(dropna = False)"
   ]
  },
  {
   "cell_type": "code",
   "execution_count": null,
   "id": "4bc13497",
   "metadata": {},
   "outputs": [],
   "source": [
    "sc_b1_df = sc_b1_df.reset_index()"
   ]
  },
  {
   "cell_type": "code",
   "execution_count": null,
   "id": "a060841f",
   "metadata": {},
   "outputs": [],
   "source": [
    "sc_b1_df"
   ]
  },
  {
   "cell_type": "code",
   "execution_count": null,
   "id": "b209a65d",
   "metadata": {},
   "outputs": [],
   "source": [
    "sc_b1_df.columns = ['score', 'sc_B1.0']"
   ]
  },
  {
   "cell_type": "code",
   "execution_count": null,
   "id": "15b5f7d2",
   "metadata": {},
   "outputs": [],
   "source": [
    "sc_b1_df"
   ]
  },
  {
   "cell_type": "markdown",
   "id": "d3f14e01",
   "metadata": {},
   "source": [
    "## sc_b2 dataframe"
   ]
  },
  {
   "cell_type": "code",
   "execution_count": null,
   "id": "fde0c5eb",
   "metadata": {},
   "outputs": [],
   "source": [
    "sc_b2_df = oc2['sc_B2.0'].value_counts(dropna = False)"
   ]
  },
  {
   "cell_type": "code",
   "execution_count": null,
   "id": "cd3dacd9",
   "metadata": {},
   "outputs": [],
   "source": [
    "sc_b2_df = sc_b2_df.reset_index()"
   ]
  },
  {
   "cell_type": "code",
   "execution_count": null,
   "id": "7dc7b9e1",
   "metadata": {},
   "outputs": [],
   "source": [
    "sc_b2_df"
   ]
  },
  {
   "cell_type": "code",
   "execution_count": null,
   "id": "1f563441",
   "metadata": {},
   "outputs": [],
   "source": [
    "sc_b2_df.columns = ['score', 'sc_B2.0']"
   ]
  },
  {
   "cell_type": "code",
   "execution_count": null,
   "id": "3e3752e5",
   "metadata": {},
   "outputs": [],
   "source": [
    "sc_b2_df"
   ]
  },
  {
   "cell_type": "markdown",
   "id": "88e8922a",
   "metadata": {},
   "source": [
    "## sc_d1 dataframe"
   ]
  },
  {
   "cell_type": "code",
   "execution_count": null,
   "id": "517d429b",
   "metadata": {},
   "outputs": [],
   "source": [
    "sc_d1_df = oc2['sc_D1.0'].value_counts(dropna = False)"
   ]
  },
  {
   "cell_type": "code",
   "execution_count": null,
   "id": "1217dbb5",
   "metadata": {},
   "outputs": [],
   "source": [
    "sc_d1_df = sc_d1_df.reset_index()"
   ]
  },
  {
   "cell_type": "code",
   "execution_count": null,
   "id": "232a1d7e",
   "metadata": {},
   "outputs": [],
   "source": [
    "sc_d1_df"
   ]
  },
  {
   "cell_type": "code",
   "execution_count": null,
   "id": "8c8be336",
   "metadata": {},
   "outputs": [],
   "source": [
    "sc_d1_df.columns = ['score', 'sc_D1.0']"
   ]
  },
  {
   "cell_type": "code",
   "execution_count": null,
   "id": "3bc0d2f6",
   "metadata": {},
   "outputs": [],
   "source": [
    "sc_d1_df"
   ]
  },
  {
   "cell_type": "markdown",
   "id": "ac73383d",
   "metadata": {},
   "source": [
    "## sc_d2 dataframe"
   ]
  },
  {
   "cell_type": "code",
   "execution_count": null,
   "id": "7bb588b0",
   "metadata": {},
   "outputs": [],
   "source": [
    "sc_d2_df = oc2['sc_D2.0'].value_counts(dropna = False)"
   ]
  },
  {
   "cell_type": "code",
   "execution_count": null,
   "id": "8ef61027",
   "metadata": {},
   "outputs": [],
   "source": [
    "sc_d2_df = sc_d2_df.reset_index()"
   ]
  },
  {
   "cell_type": "code",
   "execution_count": null,
   "id": "0c5c1f27",
   "metadata": {},
   "outputs": [],
   "source": [
    "sc_d2_df"
   ]
  },
  {
   "cell_type": "code",
   "execution_count": null,
   "id": "4b155075",
   "metadata": {},
   "outputs": [],
   "source": [
    "sc_d2_df.columns = ['score', 'sc_D2.0']"
   ]
  },
  {
   "cell_type": "code",
   "execution_count": null,
   "id": "536e2b6e",
   "metadata": {},
   "outputs": [],
   "source": [
    "sc_d2_df"
   ]
  },
  {
   "cell_type": "markdown",
   "id": "fd2d2910",
   "metadata": {},
   "source": [
    "## sc_d3 dataframe"
   ]
  },
  {
   "cell_type": "code",
   "execution_count": null,
   "id": "2e001877",
   "metadata": {},
   "outputs": [],
   "source": [
    "sc_d3_df = oc2['sc_D3.0'].value_counts(dropna = False)"
   ]
  },
  {
   "cell_type": "code",
   "execution_count": null,
   "id": "d68fa2db",
   "metadata": {},
   "outputs": [],
   "source": [
    "sc_d3_df = sc_d3_df.reset_index()"
   ]
  },
  {
   "cell_type": "code",
   "execution_count": null,
   "id": "3e9014bc",
   "metadata": {},
   "outputs": [],
   "source": [
    "sc_d3_df"
   ]
  },
  {
   "cell_type": "code",
   "execution_count": null,
   "id": "f23eba9c",
   "metadata": {},
   "outputs": [],
   "source": [
    "sc_d3_df.columns = ['score', 'sc_D3.0']"
   ]
  },
  {
   "cell_type": "code",
   "execution_count": null,
   "id": "18b5cecb",
   "metadata": {},
   "outputs": [],
   "source": [
    "sc_d3_df"
   ]
  },
  {
   "cell_type": "markdown",
   "id": "84f8558c",
   "metadata": {},
   "source": [
    "## merging all dataframes to see all score totals in on dataframe "
   ]
  },
  {
   "cell_type": "code",
   "execution_count": null,
   "id": "2c1cd5d8",
   "metadata": {},
   "outputs": [],
   "source": [
    "score_totals = pd.merge(pd.merge(pd.merge(pd.merge(pd.merge(pd.merge(pd.merge(pd.merge(pd.merge(pd.merge(pd.merge(pd.merge(pd.merge(pd.merge(pd.merge(pd.merge(fm_b4_df, fm_b5_df, how = 'outer', on = 'score'), cog_d2_df, how = 'outer', on = 'score'), cog_e2_df, how = 'outer', on = 'score'), cog_e4_df, how = 'outer', on = 'score'), cog_f1_df, how = 'outer', on = 'score'), cog_g1_df, how = 'outer', on = 'score'), cog_g2_df, how = 'outer', on = 'score'), cog_g3_df, how = 'outer', on = 'score'), cog_g4_df, how = 'outer', on = 'score'), cog_g5_df, how = 'outer', on = 'score'), cog_g6_df, how = 'outer', on = 'score'), sc_b1_df, how = 'outer', on = 'score'), sc_b2_df, how = 'outer', on = 'score'), sc_d1_df, how = 'outer', on = 'score'), sc_d2_df, how = 'outer', on = 'score'), sc_d3_df, how = 'outer', on = 'score')"
   ]
  },
  {
   "cell_type": "code",
   "execution_count": null,
   "id": "24bf3753",
   "metadata": {},
   "outputs": [],
   "source": [
    "score_totals"
   ]
  },
  {
   "cell_type": "code",
   "execution_count": null,
   "id": "19f0e823",
   "metadata": {},
   "outputs": [],
   "source": [
    "score_totals.columns.nunique()"
   ]
  },
  {
   "cell_type": "code",
   "execution_count": null,
   "id": "0c183508",
   "metadata": {},
   "outputs": [],
   "source": [
    "#add visual with this melt table, also remove nan from both data frames\n",
    "score_totals_melt = score_totals.melt('score')"
   ]
  },
  {
   "cell_type": "code",
   "execution_count": null,
   "id": "26b6235e",
   "metadata": {
    "scrolled": true
   },
   "outputs": [],
   "source": [
    "score_totals_melt"
   ]
  },
  {
   "cell_type": "code",
   "execution_count": null,
   "id": "716d809f",
   "metadata": {},
   "outputs": [],
   "source": [
    "sns.barplot(data=score_totals_melt, x='score', y='value', hue = 'variable')\n",
    "\n",
    "plt.title('Scores by Item')\n",
    "plt.legend(bbox_to_anchor = (1,1));"
   ]
  },
  {
   "cell_type": "markdown",
   "id": "23e2bd19",
   "metadata": {},
   "source": [
    "## score_totals df didnt work the way I thought it would, so I added columns that calculated percentage of scores to easily see across items"
   ]
  },
  {
   "cell_type": "code",
   "execution_count": null,
   "id": "cac90174",
   "metadata": {},
   "outputs": [],
   "source": [
    "score_totals['fm_b4_percent'] = score_totals['fm_B4.0']/score_totals['fm_B4.0'].sum() *100"
   ]
  },
  {
   "cell_type": "code",
   "execution_count": null,
   "id": "35e5ae29",
   "metadata": {},
   "outputs": [],
   "source": [
    "score_totals['fm_b5_percent'] = score_totals['fm_B5.0']/score_totals['fm_B5.0'].sum() *100"
   ]
  },
  {
   "cell_type": "code",
   "execution_count": null,
   "id": "b244af86",
   "metadata": {},
   "outputs": [],
   "source": [
    "score_totals['cog_d2_percent'] = score_totals['cog_D2.0']/score_totals['cog_D2.0'].sum() *100"
   ]
  },
  {
   "cell_type": "code",
   "execution_count": null,
   "id": "af4524c0",
   "metadata": {},
   "outputs": [],
   "source": [
    "score_totals['cog_e2_percent'] = score_totals['cog_E2.0']/score_totals['cog_E2.0'].sum() *100"
   ]
  },
  {
   "cell_type": "code",
   "execution_count": null,
   "id": "37853537",
   "metadata": {},
   "outputs": [],
   "source": [
    "score_totals['cog_e4_percent'] = score_totals['cog_E4.0']/score_totals['cog_E4.0'].sum() *100\n",
    "score_totals['cog_f1_percent'] = score_totals['cog_F1.0']/score_totals['cog_F1.0'].sum() *100\n",
    "score_totals['cog_g1_percent'] = score_totals['cog_G1.0']/score_totals['cog_G1.0'].sum() *100\n",
    "score_totals['cog_g2_percent'] = score_totals['cog_G2.0']/score_totals['cog_G2.0'].sum() *100\n",
    "score_totals['cog_g3_percent'] = score_totals['cog_G3.0']/score_totals['cog_G3.0'].sum() *100\n",
    "score_totals['cog_g4_percent'] = score_totals['cog_G4.0']/score_totals['cog_G4.0'].sum() *100\n",
    "score_totals['cog_g5_percent'] = score_totals['cog_G5.0']/score_totals['cog_G5.0'].sum() *100\n",
    "score_totals['cog_g6_percent'] = score_totals['cog_G6.0']/score_totals['cog_G6.0'].sum() *100\n",
    "score_totals['sc_b1_percent'] = score_totals['sc_B1.0']/score_totals['sc_B1.0'].sum() *100\n",
    "score_totals['sc_b2_percent'] = score_totals['sc_B2.0']/score_totals['sc_B2.0'].sum() *100\n",
    "score_totals['sc_d1_percent'] = score_totals['sc_D1.0']/score_totals['sc_D1.0'].sum() *100\n",
    "score_totals['sc_d2_percent'] = score_totals['sc_D2.0']/score_totals['sc_D2.0'].sum() *100\n",
    "score_totals['sc_d3_percent'] = score_totals['sc_D3.0']/score_totals['sc_D3.0'].sum() *100"
   ]
  },
  {
   "cell_type": "code",
   "execution_count": null,
   "id": "c64b687a",
   "metadata": {},
   "outputs": [],
   "source": [
    "score_totals"
   ]
  },
  {
   "cell_type": "code",
   "execution_count": null,
   "id": "e35f5568",
   "metadata": {},
   "outputs": [],
   "source": []
  }
 ],
 "metadata": {
  "kernelspec": {
   "display_name": "Python 3 (ipykernel)",
   "language": "python",
   "name": "python3"
  },
  "language_info": {
   "codemirror_mode": {
    "name": "ipython",
    "version": 3
   },
   "file_extension": ".py",
   "mimetype": "text/x-python",
   "name": "python",
   "nbconvert_exporter": "python",
   "pygments_lexer": "ipython3",
   "version": "3.9.7"
  }
 },
 "nbformat": 4,
 "nbformat_minor": 5
}

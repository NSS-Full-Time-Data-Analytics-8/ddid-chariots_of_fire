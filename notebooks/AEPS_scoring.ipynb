{
 "cells": [
  {
   "cell_type": "code",
   "execution_count": null,
   "id": "3d8c0983",
   "metadata": {},
   "outputs": [],
   "source": [
    "import pandas as pd\n",
    "import matplotlib.pyplot as plt\n",
    "import seaborn as sns"
   ]
  },
  {
   "cell_type": "code",
   "execution_count": null,
   "id": "93538fc3",
   "metadata": {},
   "outputs": [],
   "source": [
    "aeps__original_df = pd.read_excel('../data/AEPSi Data for NSS.xlsx', sheet_name='AEPS 2017-2022')"
   ]
  },
  {
   "cell_type": "code",
   "execution_count": null,
   "id": "015a2395",
   "metadata": {},
   "outputs": [],
   "source": [
    "# create a dummy df ala Rachel\n",
    "aeps_df = aeps__original_df"
   ]
  },
  {
   "cell_type": "code",
   "execution_count": null,
   "id": "4e7b4ed6",
   "metadata": {},
   "outputs": [],
   "source": [
    "aeps_df.shape"
   ]
  },
  {
   "cell_type": "markdown",
   "id": "c6d7c816",
   "metadata": {},
   "source": [
    "## getting relevant columns and data types for evaluation"
   ]
  },
  {
   "cell_type": "code",
   "execution_count": null,
   "id": "5416c0c2",
   "metadata": {},
   "outputs": [],
   "source": [
    "oc2 = aeps_df[['Child ID', 'Program Name', 'AEPSi ID', 'DOB', 'Gender', 'Dev Status', 'AEPS Level', 'Test Date', 'Examiner', 'Service Coordinator', 'TEIS Point of Entry Office (POE)', 'ESL', 'County of Residence', 'Number of Items', 'fm_B4.0', 'fm_B5.0', 'cog_D2.0', 'cog_E2.0', 'cog_E4.0', 'cog_F1.0', 'cog_G1.0', 'cog_G2.0', 'cog_G3.0', 'cog_G4.0', 'cog_G5.0', 'cog_G6.0', 'sc_B1.0', 'sc_B2.0', 'sc_D1.0', 'sc_D2.0', 'sc_D3.0', 'FM Raw Score', 'FM Possible Score', 'FM Percentage', 'GM Raw Score', 'GM Possible Score', 'GM Percentage', 'Adapt Raw Score', 'Adapt Possible Score', 'Adapt Percentage', 'Cog Raw Score', 'Cog Possible Score', 'Cog Percentage', 'SC Raw Score', 'SC Possible Score', 'SC Percentage', 'Soc Raw Score', 'Soc Possible Score', 'Soc Percentage', 'Overall Raw Score', 'Overall Possible Score', 'Overall Percentage', 'FM Goal Score', 'FM Cutoff', 'FM Result', 'GM Goal Score', 'GM Cutoff', 'GM Result', 'Adapt Goal Score', 'Adapt Cutoff', 'Adapt Result', 'Cog Goal Score', 'Cog Cutoff', 'Cog Result', 'SC Goal Score', 'SC Cutoff', 'SC Result', 'Soc Goal Score', 'Soc Cutoff', 'Soc Result']]\n",
    "oc2"
   ]
  },
  {
   "cell_type": "code",
   "execution_count": null,
   "id": "fc6f823d",
   "metadata": {},
   "outputs": [],
   "source": [
    "# need to change test date to datetime to filter by first or last test date \n",
    "pd.set_option('display.max_rows', None)\n",
    "oc2.dtypes"
   ]
  },
  {
   "cell_type": "code",
   "execution_count": null,
   "id": "cfa5ad7c",
   "metadata": {},
   "outputs": [],
   "source": [
    "oc2['Test Date'].unique()"
   ]
  },
  {
   "cell_type": "code",
   "execution_count": null,
   "id": "ec1b60fd",
   "metadata": {
    "scrolled": true
   },
   "outputs": [],
   "source": [
    "# non datetime convertable items should go into NaT, which i will drop next\n",
    "oc2['Test Date'] = pd.to_datetime(oc2['Test Date'], errors = 'coerce')"
   ]
  },
  {
   "cell_type": "code",
   "execution_count": null,
   "id": "a0139175",
   "metadata": {},
   "outputs": [],
   "source": [
    "oc2 = oc2.dropna(subset=['Test Date'])"
   ]
  },
  {
   "cell_type": "code",
   "execution_count": null,
   "id": "7c1cfb9f",
   "metadata": {},
   "outputs": [],
   "source": [
    "print('min_testdate',oc2['Test Date'].unique().min())"
   ]
  },
  {
   "cell_type": "code",
   "execution_count": null,
   "id": "51c1db85",
   "metadata": {},
   "outputs": [],
   "source": [
    "print('max_testdate',oc2['Test Date'].unique().max())"
   ]
  },
  {
   "cell_type": "code",
   "execution_count": null,
   "id": "652217f7",
   "metadata": {},
   "outputs": [],
   "source": [
    "oc2['Child ID'] = oc2['Child ID'].astype(str).str.strip()"
   ]
  },
  {
   "cell_type": "code",
   "execution_count": null,
   "id": "e62cae1e",
   "metadata": {},
   "outputs": [],
   "source": [
    "#pull out first and last test date by child id \n",
    "## should I remove where there was only one test date?\n",
    "test_dates = oc2.groupby('Child ID')['Test Date'].agg(['min', 'max']).reset_index()\n",
    "test_dates"
   ]
  },
  {
   "cell_type": "code",
   "execution_count": null,
   "id": "bdc9c2a8",
   "metadata": {},
   "outputs": [],
   "source": [
    "# wanted to see if there were any where the test dates are less than a year apart and there are\n",
    "test_dates['max'].dt.year - test_dates['min'].dt.year"
   ]
  },
  {
   "cell_type": "code",
   "execution_count": null,
   "id": "519afa21",
   "metadata": {},
   "outputs": [],
   "source": [
    "oc2_test_dates = pd.merge(test_dates, oc2, on = 'Child ID', how = 'outer')"
   ]
  },
  {
   "cell_type": "code",
   "execution_count": null,
   "id": "48b87308",
   "metadata": {},
   "outputs": [],
   "source": [
    "#now i can group by test date = test date min and compare with scores where test date = test date max\n",
    "# that didnt work so this df is kind of useless, but does have rows showing first and last test (min/ max) date for each child id\n",
    "oc2_test_dates.head()"
   ]
  },
  {
   "cell_type": "code",
   "execution_count": null,
   "id": "1eb9eeba",
   "metadata": {},
   "outputs": [],
   "source": [
    "oc2_test_dates.head()"
   ]
  },
  {
   "cell_type": "code",
   "execution_count": null,
   "id": "f435d7cb",
   "metadata": {},
   "outputs": [],
   "source": [
    "oc2_test_dates = oc2_test_dates.rename(columns = {'Test Date': 'test_date'})"
   ]
  },
  {
   "cell_type": "markdown",
   "id": "88d34eac",
   "metadata": {},
   "source": [
    "## observing first and last test dates"
   ]
  },
  {
   "cell_type": "code",
   "execution_count": null,
   "id": "4f581210",
   "metadata": {},
   "outputs": [],
   "source": [
    "#now that child id is all strings and test dates are all datatmes, can group by id and find min date\n",
    "first_test_list = oc2.groupby('Child ID')['Test Date'].min().reset_index()"
   ]
  },
  {
   "cell_type": "code",
   "execution_count": null,
   "id": "ce82d8c9",
   "metadata": {},
   "outputs": [],
   "source": [
    "first_test_list.shape"
   ]
  },
  {
   "cell_type": "code",
   "execution_count": null,
   "id": "36e13bf1",
   "metadata": {},
   "outputs": [],
   "source": [
    "first_test_list.head()"
   ]
  },
  {
   "cell_type": "code",
   "execution_count": null,
   "id": "386839f9",
   "metadata": {},
   "outputs": [],
   "source": [
    "#inner join first test list with oc2 to get full data of first tests only \n",
    "first_test_data = pd.merge(first_test_list, oc2, how = 'inner', on = ['Child ID', 'Test Date'])"
   ]
  },
  {
   "cell_type": "code",
   "execution_count": null,
   "id": "a417a916",
   "metadata": {},
   "outputs": [],
   "source": [
    "first_test_data.shape"
   ]
  },
  {
   "cell_type": "code",
   "execution_count": null,
   "id": "7b59fc39",
   "metadata": {},
   "outputs": [],
   "source": [
    "## will melt value counts of this df later to make graph of scores\n",
    "first_test_data.head()"
   ]
  },
  {
   "cell_type": "code",
   "execution_count": null,
   "id": "a799084b",
   "metadata": {},
   "outputs": [],
   "source": [
    "last_test_list = oc2.groupby('Child ID')['Test Date'].max().reset_index()"
   ]
  },
  {
   "cell_type": "code",
   "execution_count": null,
   "id": "f3da65ab",
   "metadata": {},
   "outputs": [],
   "source": [
    "last_test_list.shape"
   ]
  },
  {
   "cell_type": "code",
   "execution_count": null,
   "id": "174bdd42",
   "metadata": {
    "scrolled": true
   },
   "outputs": [],
   "source": [
    "last_test_list.head()"
   ]
  },
  {
   "cell_type": "code",
   "execution_count": null,
   "id": "02c72eb7",
   "metadata": {},
   "outputs": [],
   "source": [
    "last_test_data = pd.merge(last_test_list, oc2, how = 'inner', on = ['Child ID', 'Test Date'])"
   ]
  },
  {
   "cell_type": "code",
   "execution_count": null,
   "id": "ef31f0b5",
   "metadata": {},
   "outputs": [],
   "source": [
    "last_test_data.shape"
   ]
  },
  {
   "cell_type": "code",
   "execution_count": null,
   "id": "ab85da38",
   "metadata": {},
   "outputs": [],
   "source": [
    "## make melt with this dataframe\n",
    "last_test_data.head()"
   ]
  },
  {
   "cell_type": "markdown",
   "id": "12fbcd95",
   "metadata": {},
   "source": [
    "## this large clunky section is looking at all scores and getting a sense of how to graph relevant data, probably not needed now that dataframes have been made to separate first and last test dates"
   ]
  },
  {
   "cell_type": "code",
   "execution_count": null,
   "id": "d6e30200",
   "metadata": {
    "scrolled": true
   },
   "outputs": [],
   "source": [
    "oc2_test_dates.dtypes"
   ]
  },
  {
   "cell_type": "code",
   "execution_count": null,
   "id": "e004c7ba",
   "metadata": {
    "scrolled": true
   },
   "outputs": [],
   "source": [
    "oc2.columns"
   ]
  },
  {
   "cell_type": "code",
   "execution_count": null,
   "id": "3478044e",
   "metadata": {},
   "outputs": [],
   "source": [
    "#after graphing, look at % of each item at 0\n",
    "# make df with 0,1,2 rows and each item as column my making each value count a data frame and merging them all?\n",
    "oc2['fm_B4.0'].value_counts(dropna = False)"
   ]
  },
  {
   "cell_type": "code",
   "execution_count": null,
   "id": "cbc98d6d",
   "metadata": {},
   "outputs": [],
   "source": [
    "oc2['fm_B4.0'].value_counts().plot(kind = 'bar',\n",
    "                                   color = ['red', 'yellow', 'green'])\n",
    "\n",
    "plt.xticks(rotation = 0)\n",
    "plt.title('Fine Motor: Picture Book Orientation and Page Turning');"
   ]
  },
  {
   "cell_type": "code",
   "execution_count": null,
   "id": "c60cb9a5",
   "metadata": {},
   "outputs": [],
   "source": [
    "oc2['fm_B5.0'].value_counts(dropna = False)"
   ]
  },
  {
   "cell_type": "code",
   "execution_count": null,
   "id": "73879e68",
   "metadata": {},
   "outputs": [],
   "source": [
    "oc2['fm_B5.0'].value_counts().plot(kind = 'bar',\n",
    "                                   color = ['red', 'yellow', 'green'])\n",
    "\n",
    "plt.xticks(rotation = 0)\n",
    "plt.title('Fine Motor: Copies Simple Written Shapes After Demonstration');"
   ]
  },
  {
   "cell_type": "code",
   "execution_count": null,
   "id": "fd86758e",
   "metadata": {},
   "outputs": [],
   "source": [
    "oc2['cog_D2.0'].value_counts(dropna = False)"
   ]
  },
  {
   "cell_type": "code",
   "execution_count": null,
   "id": "ad4adb15",
   "metadata": {},
   "outputs": [],
   "source": [
    "oc2['cog_D2.0'].value_counts().plot(kind = 'bar',\n",
    "                                   color = ['red', 'yellow', 'green'])\n",
    "\n",
    "plt.xticks(rotation = 0)\n",
    "plt.title('Cognitive: Imitates Words Not Frequently Used');"
   ]
  },
  {
   "cell_type": "code",
   "execution_count": null,
   "id": "1272be74",
   "metadata": {},
   "outputs": [],
   "source": [
    "oc2['cog_E2.0'].value_counts(dropna = False)"
   ]
  },
  {
   "cell_type": "code",
   "execution_count": null,
   "id": "725ed013",
   "metadata": {},
   "outputs": [],
   "source": [
    "oc2['cog_E2.0'].value_counts().plot(kind = 'bar',\n",
    "                                   color = ['red', 'yellow', 'green'])\n",
    "\n",
    "plt.xticks(rotation = 0)\n",
    "plt.title('Cognitive: Uses an Object to Obtain another Object');"
   ]
  },
  {
   "cell_type": "code",
   "execution_count": null,
   "id": "ee10a613",
   "metadata": {},
   "outputs": [],
   "source": [
    "oc2['cog_E4.0'].value_counts(dropna = False)"
   ]
  },
  {
   "cell_type": "code",
   "execution_count": null,
   "id": "679b9e37",
   "metadata": {},
   "outputs": [],
   "source": [
    "oc2['cog_E4.0'].value_counts().plot(kind = 'bar',\n",
    "                                   color = ['red', 'yellow', 'green'])\n",
    "\n",
    "plt.xticks(rotation = 0)\n",
    "plt.title('Cognitive: Solves Common Problems');"
   ]
  },
  {
   "cell_type": "code",
   "execution_count": null,
   "id": "72f2b810",
   "metadata": {},
   "outputs": [],
   "source": [
    "oc2['cog_F1.0'].value_counts(dropna = False)"
   ]
  },
  {
   "cell_type": "code",
   "execution_count": null,
   "id": "0618643c",
   "metadata": {},
   "outputs": [],
   "source": [
    "oc2['cog_F1.0'].value_counts().plot(kind = 'bar',\n",
    "                                   color = ['red', 'yellow', 'green'])\n",
    "\n",
    "plt.xticks(rotation = 0)\n",
    "plt.title('Cognitive: Uses Imagninary Objects in Play');"
   ]
  },
  {
   "cell_type": "code",
   "execution_count": null,
   "id": "6270c801",
   "metadata": {},
   "outputs": [],
   "source": [
    "oc2['cog_G1.0'].value_counts(dropna = False)"
   ]
  },
  {
   "cell_type": "code",
   "execution_count": null,
   "id": "00a81940",
   "metadata": {},
   "outputs": [],
   "source": [
    "oc2['cog_G1.0'].value_counts().plot(kind = 'bar',\n",
    "                                   color = ['red', 'yellow', 'green'])\n",
    "\n",
    "plt.xticks(rotation = 0)\n",
    "plt.title('Cognitive: Categorizes Like Objects');"
   ]
  },
  {
   "cell_type": "code",
   "execution_count": null,
   "id": "f797980a",
   "metadata": {},
   "outputs": [],
   "source": [
    "oc2['cog_G2.0'].value_counts(dropna = False)"
   ]
  },
  {
   "cell_type": "code",
   "execution_count": null,
   "id": "fc24c6a0",
   "metadata": {},
   "outputs": [],
   "source": [
    "oc2['cog_G2.0'].value_counts().plot(kind = 'bar',\n",
    "                                   color = ['red', 'yellow', 'green'])\n",
    "\n",
    "plt.xticks(rotation = 0)\n",
    "plt.title('Cognitive: Demonstrates Functional 1:1 Correspondence');"
   ]
  },
  {
   "cell_type": "code",
   "execution_count": null,
   "id": "c23311fa",
   "metadata": {},
   "outputs": [],
   "source": [
    "oc2['cog_G3.0'].value_counts(dropna = False)"
   ]
  },
  {
   "cell_type": "code",
   "execution_count": null,
   "id": "1cb5cec6",
   "metadata": {},
   "outputs": [],
   "source": [
    "oc2['cog_G3.0'].value_counts().plot(kind = 'bar',\n",
    "                                   color = ['red', 'yellow', 'green'])\n",
    "\n",
    "plt.xticks(rotation = 0)\n",
    "plt.title('Cognitive: Recognizes Environment Symbols (signs, logos, labels)');"
   ]
  },
  {
   "cell_type": "code",
   "execution_count": null,
   "id": "4eae5e08",
   "metadata": {},
   "outputs": [],
   "source": [
    "oc2['cog_G4.0'].value_counts(dropna = False)"
   ]
  },
  {
   "cell_type": "code",
   "execution_count": null,
   "id": "4062dc9f",
   "metadata": {},
   "outputs": [],
   "source": [
    "oc2['cog_G4.0'].value_counts().plot(kind = 'bar',\n",
    "                                   color = ['red', 'yellow', 'green'])\n",
    "\n",
    "plt.xticks(rotation = 0)\n",
    "plt.title('Cognitive: Demonstrates Functional Use of Reading Materials');"
   ]
  },
  {
   "cell_type": "code",
   "execution_count": null,
   "id": "42fc7771",
   "metadata": {},
   "outputs": [],
   "source": [
    "oc2['cog_G5.0'].value_counts(dropna = False)"
   ]
  },
  {
   "cell_type": "code",
   "execution_count": null,
   "id": "9c84880a",
   "metadata": {},
   "outputs": [],
   "source": [
    "oc2['cog_G5.0'].value_counts().plot(kind = 'bar',\n",
    "                                   color = ['red', 'yellow', 'green'])\n",
    "\n",
    "plt.xticks(rotation = 0)\n",
    "plt.title('Cognitive: Demonstrates Use of Common Opposite Concepts');"
   ]
  },
  {
   "cell_type": "code",
   "execution_count": null,
   "id": "d9adf349",
   "metadata": {},
   "outputs": [],
   "source": [
    "oc2['cog_G6.0'].value_counts(dropna = False)"
   ]
  },
  {
   "cell_type": "code",
   "execution_count": null,
   "id": "6e1bc8f0",
   "metadata": {},
   "outputs": [],
   "source": [
    "oc2['cog_G6.0'].value_counts().plot(kind = 'bar',\n",
    "                                   color = ['red', 'yellow', 'green'])\n",
    "\n",
    "plt.xticks(rotation = 0)\n",
    "plt.title('Cognitive: Repeats Simple Nursery Rhymes');"
   ]
  },
  {
   "cell_type": "code",
   "execution_count": null,
   "id": "76c879f5",
   "metadata": {},
   "outputs": [],
   "source": [
    "oc2['sc_B1.0'].value_counts(dropna = False)"
   ]
  },
  {
   "cell_type": "code",
   "execution_count": null,
   "id": "766066ad",
   "metadata": {},
   "outputs": [],
   "source": [
    "oc2['sc_B1.0'].value_counts().plot(kind = 'bar',\n",
    "                                   color = ['red', 'yellow', 'green'])\n",
    "\n",
    "plt.xticks(rotation = 0)\n",
    "plt.title('Social-Communication: Gains Persons Attention and Refers to Object/Person/Event');"
   ]
  },
  {
   "cell_type": "code",
   "execution_count": null,
   "id": "a0773d86",
   "metadata": {},
   "outputs": [],
   "source": [
    "oc2['sc_B2.0'].value_counts(dropna = False)"
   ]
  },
  {
   "cell_type": "code",
   "execution_count": null,
   "id": "fe9c1adc",
   "metadata": {},
   "outputs": [],
   "source": [
    "oc2['sc_B2.0'].value_counts().plot(kind = 'bar',\n",
    "                                   color = ['red', 'yellow', 'green'])\n",
    "\n",
    "plt.xticks(rotation = 0)\n",
    "plt.title('Social-Communication: Uses Consistent Word Approximations');"
   ]
  },
  {
   "cell_type": "code",
   "execution_count": null,
   "id": "8ca49847",
   "metadata": {},
   "outputs": [],
   "source": [
    "oc2['sc_D1.0'].value_counts(dropna = False)"
   ]
  },
  {
   "cell_type": "code",
   "execution_count": null,
   "id": "11bc9514",
   "metadata": {},
   "outputs": [],
   "source": [
    "oc2['sc_D1.0'].value_counts().plot(kind = 'bar',\n",
    "                                   color = ['red', 'yellow', 'green'])\n",
    "\n",
    "plt.xticks(rotation = 0)\n",
    "plt.title('Social-Communication: Uses 50 Single Words');"
   ]
  },
  {
   "cell_type": "code",
   "execution_count": null,
   "id": "27c1c3f9",
   "metadata": {},
   "outputs": [],
   "source": [
    "oc2['sc_D2.0'].value_counts(dropna = False)"
   ]
  },
  {
   "cell_type": "code",
   "execution_count": null,
   "id": "510fc43d",
   "metadata": {},
   "outputs": [],
   "source": [
    "oc2['sc_D2.0'].value_counts().plot(kind = 'bar',\n",
    "                                   color = ['red', 'yellow', 'green'])\n",
    "\n",
    "plt.xticks(rotation = 0)\n",
    "plt.title('Social-Communication: Uses Two Word Utterances');"
   ]
  },
  {
   "cell_type": "code",
   "execution_count": null,
   "id": "85983f20",
   "metadata": {},
   "outputs": [],
   "source": [
    "oc2['sc_D3.0'].value_counts(dropna = False)"
   ]
  },
  {
   "cell_type": "code",
   "execution_count": null,
   "id": "36ff82b7",
   "metadata": {},
   "outputs": [],
   "source": [
    "oc2['sc_D3.0'].value_counts().plot(kind = 'bar',\n",
    "                                   color = ['red', 'yellow', 'green'])\n",
    "\n",
    "plt.xticks(rotation = 0)\n",
    "plt.title('Social-Communication: Uses Three Word Utterances');"
   ]
  },
  {
   "cell_type": "markdown",
   "id": "3c8d156e",
   "metadata": {},
   "source": [
    "## to make a df that has score totals for each item, I will make each item a dataframe and then merge them all. If there is a faster/better way to do it, I dont know it\n",
    "\n",
    "## figured out how to do this in one step with first and last test scores"
   ]
  },
  {
   "cell_type": "markdown",
   "id": "043abd82",
   "metadata": {},
   "source": [
    "### fm_b4 dataframe"
   ]
  },
  {
   "cell_type": "code",
   "execution_count": null,
   "id": "6d5f3359",
   "metadata": {},
   "outputs": [],
   "source": [
    "fm_b4_df = oc2['fm_B4.0'].value_counts(dropna = False)"
   ]
  },
  {
   "cell_type": "code",
   "execution_count": null,
   "id": "6b63655c",
   "metadata": {},
   "outputs": [],
   "source": [
    "fm_b4_df = fm_b4_df.reset_index()"
   ]
  },
  {
   "cell_type": "code",
   "execution_count": null,
   "id": "7f04e325",
   "metadata": {},
   "outputs": [],
   "source": [
    "fm_b4_df"
   ]
  },
  {
   "cell_type": "code",
   "execution_count": null,
   "id": "73f8f138",
   "metadata": {
    "scrolled": true
   },
   "outputs": [],
   "source": [
    "type(fm_b4_df)"
   ]
  },
  {
   "cell_type": "code",
   "execution_count": null,
   "id": "c946202e",
   "metadata": {},
   "outputs": [],
   "source": [
    "fm_b4_df.columns = ['score', 'fm_B4.0']"
   ]
  },
  {
   "cell_type": "code",
   "execution_count": null,
   "id": "399dd7a0",
   "metadata": {
    "scrolled": true
   },
   "outputs": [],
   "source": [
    "fm_b4_df.head()"
   ]
  },
  {
   "cell_type": "markdown",
   "id": "baa6933c",
   "metadata": {},
   "source": [
    "### fm_b5 dataframe"
   ]
  },
  {
   "cell_type": "code",
   "execution_count": null,
   "id": "e7d6d193",
   "metadata": {},
   "outputs": [],
   "source": [
    "fm_b5_df = oc2['fm_B5.0'].value_counts(dropna = False)"
   ]
  },
  {
   "cell_type": "code",
   "execution_count": null,
   "id": "c2d43bda",
   "metadata": {},
   "outputs": [],
   "source": [
    "fm_b5_df = fm_b5_df.reset_index()"
   ]
  },
  {
   "cell_type": "code",
   "execution_count": null,
   "id": "193be166",
   "metadata": {},
   "outputs": [],
   "source": [
    "fm_b5_df"
   ]
  },
  {
   "cell_type": "code",
   "execution_count": null,
   "id": "529034da",
   "metadata": {},
   "outputs": [],
   "source": [
    "type(fm_b5_df)"
   ]
  },
  {
   "cell_type": "code",
   "execution_count": null,
   "id": "85d1bdeb",
   "metadata": {},
   "outputs": [],
   "source": [
    "fm_b5_df.columns = ['score', 'fm_B5.0']"
   ]
  },
  {
   "cell_type": "code",
   "execution_count": null,
   "id": "b79e64cf",
   "metadata": {},
   "outputs": [],
   "source": [
    "fm_b5_df"
   ]
  },
  {
   "cell_type": "markdown",
   "id": "5b919bf9",
   "metadata": {},
   "source": [
    "### cog_d2 dataframe"
   ]
  },
  {
   "cell_type": "code",
   "execution_count": null,
   "id": "6c7d4428",
   "metadata": {},
   "outputs": [],
   "source": [
    "cog_d2_df = oc2['cog_D2.0'].value_counts(dropna = False)"
   ]
  },
  {
   "cell_type": "code",
   "execution_count": null,
   "id": "60369bcc",
   "metadata": {},
   "outputs": [],
   "source": [
    "cog_d2_df = cog_d2_df.reset_index()"
   ]
  },
  {
   "cell_type": "code",
   "execution_count": null,
   "id": "ad2a3e5c",
   "metadata": {},
   "outputs": [],
   "source": [
    "cog_d2_df"
   ]
  },
  {
   "cell_type": "code",
   "execution_count": null,
   "id": "7e005d79",
   "metadata": {},
   "outputs": [],
   "source": [
    "cog_d2_df.columns = ['score', 'cog_D2.0']"
   ]
  },
  {
   "cell_type": "code",
   "execution_count": null,
   "id": "f7e15c0e",
   "metadata": {},
   "outputs": [],
   "source": [
    "cog_d2_df"
   ]
  },
  {
   "cell_type": "markdown",
   "id": "a2baef53",
   "metadata": {},
   "source": [
    "## cog_e2 dataframe"
   ]
  },
  {
   "cell_type": "code",
   "execution_count": null,
   "id": "101ac8da",
   "metadata": {},
   "outputs": [],
   "source": [
    "cog_e2_df = oc2['cog_E2.0'].value_counts(dropna = False)"
   ]
  },
  {
   "cell_type": "code",
   "execution_count": null,
   "id": "8f01afa1",
   "metadata": {},
   "outputs": [],
   "source": [
    "cog_e2_df = cog_e2_df.reset_index()"
   ]
  },
  {
   "cell_type": "code",
   "execution_count": null,
   "id": "58d7569f",
   "metadata": {},
   "outputs": [],
   "source": [
    "cog_e2_df"
   ]
  },
  {
   "cell_type": "code",
   "execution_count": null,
   "id": "f8e8d59b",
   "metadata": {},
   "outputs": [],
   "source": [
    "cog_e2_df.columns = ['score', 'cog_E2.0']"
   ]
  },
  {
   "cell_type": "code",
   "execution_count": null,
   "id": "d21d808a",
   "metadata": {},
   "outputs": [],
   "source": [
    "cog_e2_df"
   ]
  },
  {
   "cell_type": "markdown",
   "id": "0ed8da85",
   "metadata": {},
   "source": [
    "## cog_e4 dataframe"
   ]
  },
  {
   "cell_type": "code",
   "execution_count": null,
   "id": "46e293da",
   "metadata": {},
   "outputs": [],
   "source": [
    "cog_e4_df = oc2['cog_E4.0'].value_counts(dropna = False)"
   ]
  },
  {
   "cell_type": "code",
   "execution_count": null,
   "id": "4de44c67",
   "metadata": {},
   "outputs": [],
   "source": [
    "cog_e4_df = cog_e4_df.reset_index()"
   ]
  },
  {
   "cell_type": "code",
   "execution_count": null,
   "id": "6f046ec7",
   "metadata": {},
   "outputs": [],
   "source": [
    "cog_e4_df"
   ]
  },
  {
   "cell_type": "code",
   "execution_count": null,
   "id": "e64d9224",
   "metadata": {},
   "outputs": [],
   "source": [
    "cog_e4_df.columns = ['score', 'cog_E4.0']"
   ]
  },
  {
   "cell_type": "code",
   "execution_count": null,
   "id": "5dd28a4b",
   "metadata": {},
   "outputs": [],
   "source": [
    "cog_e4_df"
   ]
  },
  {
   "cell_type": "markdown",
   "id": "a3e0d22d",
   "metadata": {},
   "source": [
    "## cog_f1 dataframe"
   ]
  },
  {
   "cell_type": "code",
   "execution_count": null,
   "id": "7e78c8e8",
   "metadata": {},
   "outputs": [],
   "source": [
    "cog_f1_df = oc2['cog_F1.0'].value_counts(dropna = False)"
   ]
  },
  {
   "cell_type": "code",
   "execution_count": null,
   "id": "5685090f",
   "metadata": {},
   "outputs": [],
   "source": [
    "cog_f1_df = cog_f1_df.reset_index()"
   ]
  },
  {
   "cell_type": "code",
   "execution_count": null,
   "id": "f4d786b3",
   "metadata": {},
   "outputs": [],
   "source": [
    "cog_f1_df"
   ]
  },
  {
   "cell_type": "code",
   "execution_count": null,
   "id": "d84f6038",
   "metadata": {},
   "outputs": [],
   "source": [
    "cog_f1_df.columns = ['score', 'cog_F1.0']"
   ]
  },
  {
   "cell_type": "code",
   "execution_count": null,
   "id": "158fbaeb",
   "metadata": {},
   "outputs": [],
   "source": [
    "cog_f1_df"
   ]
  },
  {
   "cell_type": "markdown",
   "id": "fbf73fcb",
   "metadata": {},
   "source": [
    "## cog_G1 dataframe"
   ]
  },
  {
   "cell_type": "code",
   "execution_count": null,
   "id": "002df791",
   "metadata": {},
   "outputs": [],
   "source": [
    "cog_g1_df = oc2['cog_G1.0'].value_counts(dropna = False)"
   ]
  },
  {
   "cell_type": "code",
   "execution_count": null,
   "id": "a779d180",
   "metadata": {},
   "outputs": [],
   "source": [
    "cog_g1_df = cog_g1_df.reset_index()"
   ]
  },
  {
   "cell_type": "code",
   "execution_count": null,
   "id": "0b61c289",
   "metadata": {},
   "outputs": [],
   "source": [
    "cog_g1_df"
   ]
  },
  {
   "cell_type": "code",
   "execution_count": null,
   "id": "2b77e4a6",
   "metadata": {},
   "outputs": [],
   "source": [
    "cog_g1_df.columns = ['score', 'cog_G1.0']"
   ]
  },
  {
   "cell_type": "code",
   "execution_count": null,
   "id": "df4b5f07",
   "metadata": {},
   "outputs": [],
   "source": [
    "cog_g1_df"
   ]
  },
  {
   "cell_type": "markdown",
   "id": "cdbb28fc",
   "metadata": {},
   "source": [
    "## cog_g2 dataframe"
   ]
  },
  {
   "cell_type": "code",
   "execution_count": null,
   "id": "00a0222f",
   "metadata": {},
   "outputs": [],
   "source": [
    "cog_g2_df = oc2['cog_G2.0'].value_counts(dropna = False)"
   ]
  },
  {
   "cell_type": "code",
   "execution_count": null,
   "id": "4db390d0",
   "metadata": {},
   "outputs": [],
   "source": [
    "cog_g2_df = cog_g2_df.reset_index()"
   ]
  },
  {
   "cell_type": "code",
   "execution_count": null,
   "id": "252c8fba",
   "metadata": {},
   "outputs": [],
   "source": [
    "cog_g2_df"
   ]
  },
  {
   "cell_type": "code",
   "execution_count": null,
   "id": "525892e6",
   "metadata": {},
   "outputs": [],
   "source": [
    "cog_g2_df.columns = ['score', 'cog_G2.0']"
   ]
  },
  {
   "cell_type": "code",
   "execution_count": null,
   "id": "25cd3873",
   "metadata": {},
   "outputs": [],
   "source": [
    "cog_g2_df"
   ]
  },
  {
   "cell_type": "markdown",
   "id": "6c28297b",
   "metadata": {},
   "source": [
    "## cog_g3 dataframe"
   ]
  },
  {
   "cell_type": "code",
   "execution_count": null,
   "id": "03e69f9f",
   "metadata": {},
   "outputs": [],
   "source": [
    "cog_g3_df = oc2['cog_G3.0'].value_counts(dropna = False)"
   ]
  },
  {
   "cell_type": "code",
   "execution_count": null,
   "id": "38b7963c",
   "metadata": {},
   "outputs": [],
   "source": [
    "cog_g3_df = cog_g3_df.reset_index()"
   ]
  },
  {
   "cell_type": "code",
   "execution_count": null,
   "id": "236cece2",
   "metadata": {},
   "outputs": [],
   "source": [
    "cog_g3_df"
   ]
  },
  {
   "cell_type": "code",
   "execution_count": null,
   "id": "adcc4f39",
   "metadata": {},
   "outputs": [],
   "source": [
    "cog_g3_df.columns = ['score', 'cog_G3.0']"
   ]
  },
  {
   "cell_type": "code",
   "execution_count": null,
   "id": "f58b8a83",
   "metadata": {},
   "outputs": [],
   "source": [
    "cog_g3_df"
   ]
  },
  {
   "cell_type": "markdown",
   "id": "8e982b08",
   "metadata": {},
   "source": [
    "## cog_g4 dataframe"
   ]
  },
  {
   "cell_type": "code",
   "execution_count": null,
   "id": "6eb5cc6f",
   "metadata": {},
   "outputs": [],
   "source": [
    "cog_g4_df = oc2['cog_G4.0'].value_counts(dropna = False)"
   ]
  },
  {
   "cell_type": "code",
   "execution_count": null,
   "id": "bc03dd0a",
   "metadata": {},
   "outputs": [],
   "source": [
    "cog_g4_df = cog_g4_df.reset_index()"
   ]
  },
  {
   "cell_type": "code",
   "execution_count": null,
   "id": "f7a2855b",
   "metadata": {},
   "outputs": [],
   "source": [
    "cog_g4_df"
   ]
  },
  {
   "cell_type": "code",
   "execution_count": null,
   "id": "97dd25aa",
   "metadata": {},
   "outputs": [],
   "source": [
    "cog_g4_df.columns = ['score', 'cog_G4.0']"
   ]
  },
  {
   "cell_type": "code",
   "execution_count": null,
   "id": "9fca646f",
   "metadata": {},
   "outputs": [],
   "source": [
    "cog_g4_df"
   ]
  },
  {
   "cell_type": "markdown",
   "id": "3a73f283",
   "metadata": {},
   "source": [
    "## cog_g5 dataframe "
   ]
  },
  {
   "cell_type": "code",
   "execution_count": null,
   "id": "703a842e",
   "metadata": {},
   "outputs": [],
   "source": [
    "cog_g5_df = oc2['cog_G5.0'].value_counts(dropna = False)"
   ]
  },
  {
   "cell_type": "code",
   "execution_count": null,
   "id": "5c7cd0af",
   "metadata": {},
   "outputs": [],
   "source": [
    "cog_g5_df = cog_g5_df.reset_index()"
   ]
  },
  {
   "cell_type": "code",
   "execution_count": null,
   "id": "62fba5b9",
   "metadata": {},
   "outputs": [],
   "source": [
    "cog_g5_df"
   ]
  },
  {
   "cell_type": "code",
   "execution_count": null,
   "id": "4299e8dc",
   "metadata": {},
   "outputs": [],
   "source": [
    "cog_g5_df.columns = ['score', 'cog_G5.0']"
   ]
  },
  {
   "cell_type": "code",
   "execution_count": null,
   "id": "9671e429",
   "metadata": {},
   "outputs": [],
   "source": [
    "cog_g5_df"
   ]
  },
  {
   "cell_type": "markdown",
   "id": "2a41a759",
   "metadata": {},
   "source": [
    "## cog_g6 dataframe"
   ]
  },
  {
   "cell_type": "code",
   "execution_count": null,
   "id": "0346f7f7",
   "metadata": {},
   "outputs": [],
   "source": [
    "cog_g6_df = oc2['cog_G6.0'].value_counts(dropna = False)"
   ]
  },
  {
   "cell_type": "code",
   "execution_count": null,
   "id": "0912a89c",
   "metadata": {},
   "outputs": [],
   "source": [
    "cog_g6_df = cog_g6_df.reset_index()"
   ]
  },
  {
   "cell_type": "code",
   "execution_count": null,
   "id": "eebb2089",
   "metadata": {},
   "outputs": [],
   "source": [
    "cog_g6_df"
   ]
  },
  {
   "cell_type": "code",
   "execution_count": null,
   "id": "d1cad3c7",
   "metadata": {},
   "outputs": [],
   "source": [
    "cog_g6_df.columns = ['score', 'cog_G6.0']"
   ]
  },
  {
   "cell_type": "code",
   "execution_count": null,
   "id": "81a49def",
   "metadata": {},
   "outputs": [],
   "source": [
    "cog_g6_df"
   ]
  },
  {
   "cell_type": "markdown",
   "id": "d8fef77e",
   "metadata": {},
   "source": [
    "## sc_b1 dataframe"
   ]
  },
  {
   "cell_type": "code",
   "execution_count": null,
   "id": "f57d9d6d",
   "metadata": {},
   "outputs": [],
   "source": [
    "sc_b1_df = oc2['sc_B1.0'].value_counts(dropna = False)"
   ]
  },
  {
   "cell_type": "code",
   "execution_count": null,
   "id": "4bc13497",
   "metadata": {},
   "outputs": [],
   "source": [
    "sc_b1_df = sc_b1_df.reset_index()"
   ]
  },
  {
   "cell_type": "code",
   "execution_count": null,
   "id": "a060841f",
   "metadata": {},
   "outputs": [],
   "source": [
    "sc_b1_df"
   ]
  },
  {
   "cell_type": "code",
   "execution_count": null,
   "id": "b209a65d",
   "metadata": {},
   "outputs": [],
   "source": [
    "sc_b1_df.columns = ['score', 'sc_B1.0']"
   ]
  },
  {
   "cell_type": "code",
   "execution_count": null,
   "id": "15b5f7d2",
   "metadata": {},
   "outputs": [],
   "source": [
    "sc_b1_df"
   ]
  },
  {
   "cell_type": "markdown",
   "id": "d3f14e01",
   "metadata": {},
   "source": [
    "## sc_b2 dataframe"
   ]
  },
  {
   "cell_type": "code",
   "execution_count": null,
   "id": "fde0c5eb",
   "metadata": {},
   "outputs": [],
   "source": [
    "sc_b2_df = oc2['sc_B2.0'].value_counts(dropna = False)"
   ]
  },
  {
   "cell_type": "code",
   "execution_count": null,
   "id": "cd3dacd9",
   "metadata": {},
   "outputs": [],
   "source": [
    "sc_b2_df = sc_b2_df.reset_index()"
   ]
  },
  {
   "cell_type": "code",
   "execution_count": null,
   "id": "7dc7b9e1",
   "metadata": {},
   "outputs": [],
   "source": [
    "sc_b2_df"
   ]
  },
  {
   "cell_type": "code",
   "execution_count": null,
   "id": "1f563441",
   "metadata": {},
   "outputs": [],
   "source": [
    "sc_b2_df.columns = ['score', 'sc_B2.0']"
   ]
  },
  {
   "cell_type": "code",
   "execution_count": null,
   "id": "3e3752e5",
   "metadata": {},
   "outputs": [],
   "source": [
    "sc_b2_df"
   ]
  },
  {
   "cell_type": "markdown",
   "id": "88e8922a",
   "metadata": {},
   "source": [
    "## sc_d1 dataframe"
   ]
  },
  {
   "cell_type": "code",
   "execution_count": null,
   "id": "517d429b",
   "metadata": {},
   "outputs": [],
   "source": [
    "sc_d1_df = oc2['sc_D1.0'].value_counts(dropna = False)"
   ]
  },
  {
   "cell_type": "code",
   "execution_count": null,
   "id": "1217dbb5",
   "metadata": {},
   "outputs": [],
   "source": [
    "sc_d1_df = sc_d1_df.reset_index()"
   ]
  },
  {
   "cell_type": "code",
   "execution_count": null,
   "id": "232a1d7e",
   "metadata": {},
   "outputs": [],
   "source": [
    "sc_d1_df"
   ]
  },
  {
   "cell_type": "code",
   "execution_count": null,
   "id": "8c8be336",
   "metadata": {},
   "outputs": [],
   "source": [
    "sc_d1_df.columns = ['score', 'sc_D1.0']"
   ]
  },
  {
   "cell_type": "code",
   "execution_count": null,
   "id": "3bc0d2f6",
   "metadata": {},
   "outputs": [],
   "source": [
    "sc_d1_df"
   ]
  },
  {
   "cell_type": "markdown",
   "id": "ac73383d",
   "metadata": {},
   "source": [
    "## sc_d2 dataframe"
   ]
  },
  {
   "cell_type": "code",
   "execution_count": null,
   "id": "7bb588b0",
   "metadata": {},
   "outputs": [],
   "source": [
    "sc_d2_df = oc2['sc_D2.0'].value_counts(dropna = False)"
   ]
  },
  {
   "cell_type": "code",
   "execution_count": null,
   "id": "8ef61027",
   "metadata": {},
   "outputs": [],
   "source": [
    "sc_d2_df = sc_d2_df.reset_index()"
   ]
  },
  {
   "cell_type": "code",
   "execution_count": null,
   "id": "0c5c1f27",
   "metadata": {},
   "outputs": [],
   "source": [
    "sc_d2_df"
   ]
  },
  {
   "cell_type": "code",
   "execution_count": null,
   "id": "4b155075",
   "metadata": {},
   "outputs": [],
   "source": [
    "sc_d2_df.columns = ['score', 'sc_D2.0']"
   ]
  },
  {
   "cell_type": "code",
   "execution_count": null,
   "id": "536e2b6e",
   "metadata": {},
   "outputs": [],
   "source": [
    "sc_d2_df"
   ]
  },
  {
   "cell_type": "markdown",
   "id": "fd2d2910",
   "metadata": {},
   "source": [
    "## sc_d3 dataframe"
   ]
  },
  {
   "cell_type": "code",
   "execution_count": null,
   "id": "2e001877",
   "metadata": {},
   "outputs": [],
   "source": [
    "sc_d3_df = oc2['sc_D3.0'].value_counts(dropna = False)"
   ]
  },
  {
   "cell_type": "code",
   "execution_count": null,
   "id": "d68fa2db",
   "metadata": {},
   "outputs": [],
   "source": [
    "sc_d3_df = sc_d3_df.reset_index()"
   ]
  },
  {
   "cell_type": "code",
   "execution_count": null,
   "id": "3e9014bc",
   "metadata": {},
   "outputs": [],
   "source": [
    "sc_d3_df"
   ]
  },
  {
   "cell_type": "code",
   "execution_count": null,
   "id": "f23eba9c",
   "metadata": {},
   "outputs": [],
   "source": [
    "sc_d3_df.columns = ['score', 'sc_D3.0']"
   ]
  },
  {
   "cell_type": "code",
   "execution_count": null,
   "id": "18b5cecb",
   "metadata": {},
   "outputs": [],
   "source": [
    "sc_d3_df"
   ]
  },
  {
   "cell_type": "markdown",
   "id": "84f8558c",
   "metadata": {},
   "source": [
    "## merging all dataframes to see all score totals in on dataframe (again, figured out how to do this in one step with first and last dfs below)"
   ]
  },
  {
   "cell_type": "code",
   "execution_count": null,
   "id": "2c1cd5d8",
   "metadata": {},
   "outputs": [],
   "source": [
    "score_totals = pd.merge(pd.merge(pd.merge(pd.merge(pd.merge(pd.merge(pd.merge(pd.merge(pd.merge(pd.merge(pd.merge(pd.merge(pd.merge(pd.merge(pd.merge(pd.merge(fm_b4_df, fm_b5_df, how = 'outer', on = 'score'), cog_d2_df, how = 'outer', on = 'score'), cog_e2_df, how = 'outer', on = 'score'), cog_e4_df, how = 'outer', on = 'score'), cog_f1_df, how = 'outer', on = 'score'), cog_g1_df, how = 'outer', on = 'score'), cog_g2_df, how = 'outer', on = 'score'), cog_g3_df, how = 'outer', on = 'score'), cog_g4_df, how = 'outer', on = 'score'), cog_g5_df, how = 'outer', on = 'score'), cog_g6_df, how = 'outer', on = 'score'), sc_b1_df, how = 'outer', on = 'score'), sc_b2_df, how = 'outer', on = 'score'), sc_d1_df, how = 'outer', on = 'score'), sc_d2_df, how = 'outer', on = 'score'), sc_d3_df, how = 'outer', on = 'score')"
   ]
  },
  {
   "cell_type": "code",
   "execution_count": null,
   "id": "24bf3753",
   "metadata": {},
   "outputs": [],
   "source": [
    "score_totals"
   ]
  },
  {
   "cell_type": "code",
   "execution_count": null,
   "id": "19f0e823",
   "metadata": {},
   "outputs": [],
   "source": [
    "score_totals.columns.nunique()"
   ]
  },
  {
   "cell_type": "code",
   "execution_count": null,
   "id": "0c183508",
   "metadata": {},
   "outputs": [],
   "source": [
    "#add visual with this melt table, also remove nan from both data frames\n",
    "score_totals_melt = score_totals.melt('score')"
   ]
  },
  {
   "cell_type": "code",
   "execution_count": null,
   "id": "26b6235e",
   "metadata": {
    "scrolled": true
   },
   "outputs": [],
   "source": [
    "score_totals_melt"
   ]
  },
  {
   "cell_type": "markdown",
   "id": "cfc5f567",
   "metadata": {},
   "source": [
    "## melt with all scores"
   ]
  },
  {
   "cell_type": "code",
   "execution_count": null,
   "id": "716d809f",
   "metadata": {},
   "outputs": [],
   "source": [
    "# colorcode by fm, cog, or sc\n",
    "# this is all of the scores, need to make this with just first test dates and last test dates for each child_id\n",
    "sns.barplot(data=score_totals_melt, x='score', y='value', hue = 'variable')\n",
    "\n",
    "plt.title('Scores by Item')\n",
    "plt.legend(bbox_to_anchor = (1,1));"
   ]
  },
  {
   "cell_type": "code",
   "execution_count": null,
   "id": "ed737db0",
   "metadata": {},
   "outputs": [],
   "source": [
    "# colorcode by fm (red), cog(blue), or sc(green)\n",
    "sns.barplot(data=score_totals_melt, x='score', y='value', hue = 'variable',\n",
    "            palette = ['indianred', 'red', 'aquamarine', 'lightseagreen', 'mediumturquoise', 'lightcyan', 'paleturquoise', 'darkslategrey', 'teal', 'darkcyan', 'cyan', 'dodgerblue', 'forestgreen', 'darkgreen', 'limegreen', 'palegreen', 'olivedrab'])\n",
    "\n",
    "plt.title('Scores by Item')\n",
    "plt.legend(bbox_to_anchor = (1,1));"
   ]
  },
  {
   "cell_type": "markdown",
   "id": "23e2bd19",
   "metadata": {},
   "source": [
    "## score_totals df didnt work the way I thought it would, so I added columns that calculated percentage of scores to easily see across items"
   ]
  },
  {
   "cell_type": "code",
   "execution_count": null,
   "id": "cac90174",
   "metadata": {},
   "outputs": [],
   "source": [
    "score_totals['fm_b4_percent'] = score_totals['fm_B4.0']/score_totals['fm_B4.0'].sum() *100"
   ]
  },
  {
   "cell_type": "code",
   "execution_count": null,
   "id": "35e5ae29",
   "metadata": {},
   "outputs": [],
   "source": [
    "score_totals['fm_b5_percent'] = score_totals['fm_B5.0']/score_totals['fm_B5.0'].sum() *100"
   ]
  },
  {
   "cell_type": "code",
   "execution_count": null,
   "id": "b244af86",
   "metadata": {},
   "outputs": [],
   "source": [
    "score_totals['cog_d2_percent'] = score_totals['cog_D2.0']/score_totals['cog_D2.0'].sum() *100"
   ]
  },
  {
   "cell_type": "code",
   "execution_count": null,
   "id": "af4524c0",
   "metadata": {},
   "outputs": [],
   "source": [
    "score_totals['cog_e2_percent'] = score_totals['cog_E2.0']/score_totals['cog_E2.0'].sum() *100"
   ]
  },
  {
   "cell_type": "code",
   "execution_count": null,
   "id": "37853537",
   "metadata": {},
   "outputs": [],
   "source": [
    "score_totals['cog_e4_percent'] = score_totals['cog_E4.0']/score_totals['cog_E4.0'].sum() *100\n",
    "score_totals['cog_f1_percent'] = score_totals['cog_F1.0']/score_totals['cog_F1.0'].sum() *100\n",
    "score_totals['cog_g1_percent'] = score_totals['cog_G1.0']/score_totals['cog_G1.0'].sum() *100\n",
    "score_totals['cog_g2_percent'] = score_totals['cog_G2.0']/score_totals['cog_G2.0'].sum() *100\n",
    "score_totals['cog_g3_percent'] = score_totals['cog_G3.0']/score_totals['cog_G3.0'].sum() *100\n",
    "score_totals['cog_g4_percent'] = score_totals['cog_G4.0']/score_totals['cog_G4.0'].sum() *100\n",
    "score_totals['cog_g5_percent'] = score_totals['cog_G5.0']/score_totals['cog_G5.0'].sum() *100\n",
    "score_totals['cog_g6_percent'] = score_totals['cog_G6.0']/score_totals['cog_G6.0'].sum() *100\n",
    "score_totals['sc_b1_percent'] = score_totals['sc_B1.0']/score_totals['sc_B1.0'].sum() *100\n",
    "score_totals['sc_b2_percent'] = score_totals['sc_B2.0']/score_totals['sc_B2.0'].sum() *100\n",
    "score_totals['sc_d1_percent'] = score_totals['sc_D1.0']/score_totals['sc_D1.0'].sum() *100\n",
    "score_totals['sc_d2_percent'] = score_totals['sc_D2.0']/score_totals['sc_D2.0'].sum() *100\n",
    "score_totals['sc_d3_percent'] = score_totals['sc_D3.0']/score_totals['sc_D3.0'].sum() *100"
   ]
  },
  {
   "cell_type": "code",
   "execution_count": null,
   "id": "c64b687a",
   "metadata": {
    "scrolled": true
   },
   "outputs": [],
   "source": [
    "# do this with first and last test dates and compare to observe growth\n",
    "pd.set_option('display.max_columns', None)\n",
    "score_totals"
   ]
  },
  {
   "cell_type": "markdown",
   "id": "f17f3641",
   "metadata": {},
   "source": [
    "# For the above combined AEPS evals-\n",
    "\n",
    "### Items with less than 70% scores at 0 - cog_e4, sc_b1, sc_b2, sc_d1\n",
    "### Items with over 10%  scores at 2 -  cog_e2, cog_e4, sc_b1, sc_b2\n",
    "\n",
    "## Is there a difference between how children score on these items based on region or evaluator? \n",
    "\n",
    "## Watch for any change in score ratios by item with filters and dropped columns"
   ]
  },
  {
   "cell_type": "markdown",
   "id": "ee8273d8",
   "metadata": {},
   "source": [
    "## -------------------------------------------------------------------------------------------------------"
   ]
  },
  {
   "cell_type": "markdown",
   "id": "4d05d721",
   "metadata": {},
   "source": [
    "## in this next section, Im not sure what is going on, I need to figure this out "
   ]
  },
  {
   "cell_type": "code",
   "execution_count": null,
   "id": "e35f5568",
   "metadata": {
    "scrolled": true
   },
   "outputs": [],
   "source": [
    "oc2.columns.values"
   ]
  },
  {
   "cell_type": "code",
   "execution_count": null,
   "id": "d602bfc6",
   "metadata": {},
   "outputs": [],
   "source": [
    "# to look at all scores (no matter if first or last or inbetween)\n",
    "oc2['test_year'] = oc2['Test Date'].dt.year"
   ]
  },
  {
   "cell_type": "code",
   "execution_count": null,
   "id": "e74157cb",
   "metadata": {},
   "outputs": [],
   "source": [
    "scores = oc2[['test_year', 'fm_B4.0', 'fm_B5.0',\n",
    "       'cog_D2.0', 'cog_E2.0', 'cog_E4.0', 'cog_F1.0', 'cog_G1.0',\n",
    "       'cog_G2.0', 'cog_G3.0', 'cog_G4.0', 'cog_G5.0', 'cog_G6.0',\n",
    "       'sc_B1.0', 'sc_B2.0', 'sc_D1.0', 'sc_D2.0', 'sc_D3.0']]"
   ]
  },
  {
   "cell_type": "code",
   "execution_count": null,
   "id": "7dcf292e",
   "metadata": {},
   "outputs": [],
   "source": [
    "plt.bar('test_year',\n",
    "         'fm_B4.0',\n",
    "         data = scores)"
   ]
  },
  {
   "cell_type": "markdown",
   "id": "33795042",
   "metadata": {},
   "source": [
    "## In this section, I look at how over all items were scored by year, what is with the peak in 2017 and the huge dip in 2018??"
   ]
  },
  {
   "cell_type": "code",
   "execution_count": null,
   "id": "6c7bd9b6",
   "metadata": {
    "scrolled": true
   },
   "outputs": [],
   "source": [
    "scores.head()"
   ]
  },
  {
   "cell_type": "code",
   "execution_count": null,
   "id": "c5b8d103",
   "metadata": {},
   "outputs": [],
   "source": [
    "# why do these scores all have a peak in 2017 and a steep drop in 2018 and 2019?\n",
    "scores.groupby('test_year').mean().plot(figsize = (12,8),\n",
    "                                        color = ['indianred', 'red', 'aquamarine', 'lightseagreen', 'mediumturquoise', 'lightcyan', 'paleturquoise', 'darkslategrey', 'teal', 'darkcyan', 'cyan', 'dodgerblue', 'forestgreen', 'darkgreen', 'limegreen', 'palegreen', 'olivedrab'])\n",
    "plt.legend(bbox_to_anchor = (1,1))"
   ]
  },
  {
   "cell_type": "markdown",
   "id": "6e509997",
   "metadata": {},
   "source": [
    "## graph and table of first test scores (unfiltered data)"
   ]
  },
  {
   "cell_type": "code",
   "execution_count": null,
   "id": "76cd9b29",
   "metadata": {
    "scrolled": true
   },
   "outputs": [],
   "source": [
    "first_test_data.head()"
   ]
  },
  {
   "cell_type": "code",
   "execution_count": null,
   "id": "b253dc61",
   "metadata": {},
   "outputs": [],
   "source": [
    "#value counts all at once (better!)\n",
    "first_test_scores = first_test_data[['fm_B4.0', 'fm_B5.0',\n",
    "       'cog_D2.0', 'cog_E2.0', 'cog_E4.0', 'cog_F1.0', 'cog_G1.0',\n",
    "       'cog_G2.0', 'cog_G3.0', 'cog_G4.0', 'cog_G5.0', 'cog_G6.0',\n",
    "       'sc_B1.0', 'sc_B2.0', 'sc_D1.0', 'sc_D2.0', 'sc_D3.0']].apply(pd.Series.value_counts).reset_index()"
   ]
  },
  {
   "cell_type": "code",
   "execution_count": null,
   "id": "ed65366f",
   "metadata": {},
   "outputs": [],
   "source": [
    "first_test_scores.head()"
   ]
  },
  {
   "cell_type": "code",
   "execution_count": null,
   "id": "5c00ea93",
   "metadata": {},
   "outputs": [],
   "source": [
    "first_test_scores = first_test_scores.rename(columns = {'index': 'score'})"
   ]
  },
  {
   "cell_type": "code",
   "execution_count": null,
   "id": "593f65ac",
   "metadata": {},
   "outputs": [],
   "source": [
    "first_test_scores.head()"
   ]
  },
  {
   "cell_type": "code",
   "execution_count": null,
   "id": "181adee5",
   "metadata": {},
   "outputs": [],
   "source": [
    "first_tests_melt = first_test_scores.melt('score')"
   ]
  },
  {
   "cell_type": "code",
   "execution_count": null,
   "id": "2f387be5",
   "metadata": {
    "scrolled": false
   },
   "outputs": [],
   "source": [
    "sns.barplot(data=first_tests_melt, x='score', y='value', hue = 'variable')\n",
    "\n",
    "plt.title('First Test Scores by Item')\n",
    "plt.legend(bbox_to_anchor = (1,1));"
   ]
  },
  {
   "cell_type": "code",
   "execution_count": null,
   "id": "e7ac49e6",
   "metadata": {},
   "outputs": [],
   "source": [
    "sns.barplot(data=first_tests_melt, x='score', y='value', hue = 'variable', \n",
    "             palette = ['indianred', 'red', 'aquamarine', 'lightseagreen', 'mediumturquoise', 'lightcyan', 'paleturquoise', 'darkslategrey', 'teal', 'darkcyan', 'cyan', 'dodgerblue', 'forestgreen', 'darkgreen', 'limegreen', 'palegreen', 'olivedrab'])\n",
    "\n",
    "plt.title('First Test Scores by Item')\n",
    "plt.legend(bbox_to_anchor = (1,1));"
   ]
  },
  {
   "cell_type": "code",
   "execution_count": null,
   "id": "583eaf03",
   "metadata": {},
   "outputs": [],
   "source": [
    "#first_test_scores with percentages\n",
    "first_test_scores['fm_b4_percent'] = first_test_scores['fm_B4.0']/first_test_scores['fm_B4.0'].sum() *100\n",
    "first_test_scores['fm_b5_percent'] = first_test_scores['fm_B5.0']/first_test_scores['fm_B5.0'].sum() *100\n",
    "first_test_scores['cog_d2_percent'] = first_test_scores['cog_D2.0']/first_test_scores['cog_D2.0'].sum() *100\n",
    "first_test_scores['cog_e2_percent'] = first_test_scores['cog_E2.0']/first_test_scores['cog_E2.0'].sum() *100\n",
    "first_test_scores['cog_e4_percent'] = first_test_scores['cog_E4.0']/first_test_scores['cog_E4.0'].sum() *100\n",
    "first_test_scores['cog_f1_percent'] = first_test_scores['cog_F1.0']/first_test_scores['cog_F1.0'].sum() *100\n",
    "first_test_scores['cog_g1_percent'] = first_test_scores['cog_G1.0']/first_test_scores['cog_G1.0'].sum() *100\n",
    "first_test_scores['cog_g2_percent'] = first_test_scores['cog_G2.0']/first_test_scores['cog_G2.0'].sum() *100\n",
    "first_test_scores['cog_g3_percent'] = first_test_scores['cog_G3.0']/first_test_scores['cog_G3.0'].sum() *100\n",
    "first_test_scores['cog_g4_percent'] = first_test_scores['cog_G4.0']/first_test_scores['cog_G4.0'].sum() *100\n",
    "first_test_scores['cog_g5_percent'] = first_test_scores['cog_G5.0']/first_test_scores['cog_G5.0'].sum() *100\n",
    "first_test_scores['cog_g6_percent'] = first_test_scores['cog_G6.0']/first_test_scores['cog_G6.0'].sum() *100\n",
    "first_test_scores['sc_b1_percent'] = first_test_scores['sc_B1.0']/first_test_scores['sc_B1.0'].sum() *100\n",
    "first_test_scores['sc_b2_percent'] = first_test_scores['sc_B2.0']/first_test_scores['sc_B2.0'].sum() *100\n",
    "first_test_scores['sc_d1_percent'] = first_test_scores['sc_D1.0']/first_test_scores['sc_D1.0'].sum() *100\n",
    "first_test_scores['sc_d2_percent'] = first_test_scores['sc_D2.0']/first_test_scores['sc_D2.0'].sum() *100\n",
    "first_test_scores['sc_d3_percent'] = first_test_scores['sc_D3.0']/first_test_scores['sc_D3.0'].sum() *100"
   ]
  },
  {
   "cell_type": "code",
   "execution_count": null,
   "id": "d21f9cdd",
   "metadata": {},
   "outputs": [],
   "source": [
    "first_test_scores.head()"
   ]
  },
  {
   "cell_type": "markdown",
   "id": "94b62ca1",
   "metadata": {},
   "source": [
    "## graph and table of last test scores"
   ]
  },
  {
   "cell_type": "code",
   "execution_count": null,
   "id": "4d3fe05d",
   "metadata": {},
   "outputs": [],
   "source": [
    "last_test_data.head()"
   ]
  },
  {
   "cell_type": "code",
   "execution_count": null,
   "id": "3372cc39",
   "metadata": {},
   "outputs": [],
   "source": [
    "last_test_scores = last_test_data[['fm_B4.0', 'fm_B5.0',\n",
    "       'cog_D2.0', 'cog_E2.0', 'cog_E4.0', 'cog_F1.0', 'cog_G1.0',\n",
    "       'cog_G2.0', 'cog_G3.0', 'cog_G4.0', 'cog_G5.0', 'cog_G6.0',\n",
    "       'sc_B1.0', 'sc_B2.0', 'sc_D1.0', 'sc_D2.0', 'sc_D3.0']].apply(pd.Series.value_counts).reset_index()"
   ]
  },
  {
   "cell_type": "code",
   "execution_count": null,
   "id": "3c4f6d0c",
   "metadata": {},
   "outputs": [],
   "source": [
    "last_test_scores.head()"
   ]
  },
  {
   "cell_type": "code",
   "execution_count": null,
   "id": "7c7d574b",
   "metadata": {},
   "outputs": [],
   "source": [
    "last_test_scores = last_test_scores.rename(columns = {'index': 'score'})"
   ]
  },
  {
   "cell_type": "code",
   "execution_count": null,
   "id": "0c3abdeb",
   "metadata": {},
   "outputs": [],
   "source": [
    "last_test_scores.head()"
   ]
  },
  {
   "cell_type": "code",
   "execution_count": null,
   "id": "15cf6054",
   "metadata": {},
   "outputs": [],
   "source": [
    "last_tests_melt = last_test_scores.melt('score')"
   ]
  },
  {
   "cell_type": "code",
   "execution_count": null,
   "id": "54bd0192",
   "metadata": {
    "scrolled": true
   },
   "outputs": [],
   "source": [
    "sns.barplot(data=last_tests_melt, x='score', y='value', hue = 'variable')\n",
    "\n",
    "plt.title('Last Test Scores by Item')\n",
    "plt.legend(bbox_to_anchor = (1,1));"
   ]
  },
  {
   "cell_type": "code",
   "execution_count": null,
   "id": "7dba6ba6",
   "metadata": {},
   "outputs": [],
   "source": [
    "sns.barplot(data=last_tests_melt, x='score', y='value', hue = 'variable',\n",
    "            palette = ['indianred', 'red', 'aquamarine', 'lightseagreen', 'mediumturquoise', 'lightcyan', 'paleturquoise', 'darkslategrey', 'teal', 'darkcyan', 'cyan', 'dodgerblue', 'forestgreen', 'darkgreen', 'limegreen', 'palegreen', 'olivedrab'])\n",
    "\n",
    "plt.title('Last Test Scores by Item')\n",
    "plt.legend(bbox_to_anchor = (1,1));"
   ]
  },
  {
   "cell_type": "code",
   "execution_count": null,
   "id": "a6ff6180",
   "metadata": {},
   "outputs": [],
   "source": [
    "#last_test_scores with percentages\n",
    "last_test_scores['fm_b4_percent'] = last_test_scores['fm_B4.0']/last_test_scores['fm_B4.0'].sum() *100\n",
    "last_test_scores['fm_b5_percent'] = last_test_scores['fm_B5.0']/last_test_scores['fm_B5.0'].sum() *100\n",
    "last_test_scores['cog_d2_percent'] = last_test_scores['cog_D2.0']/last_test_scores['cog_D2.0'].sum() *100\n",
    "last_test_scores['cog_e2_percent'] = last_test_scores['cog_E2.0']/last_test_scores['cog_E2.0'].sum() *100\n",
    "last_test_scores['cog_e4_percent'] = last_test_scores['cog_E4.0']/last_test_scores['cog_E4.0'].sum() *100\n",
    "last_test_scores['cog_f1_percent'] = last_test_scores['cog_F1.0']/last_test_scores['cog_F1.0'].sum() *100\n",
    "last_test_scores['cog_g1_percent'] = last_test_scores['cog_G1.0']/last_test_scores['cog_G1.0'].sum() *100\n",
    "last_test_scores['cog_g2_percent'] = last_test_scores['cog_G2.0']/last_test_scores['cog_G2.0'].sum() *100\n",
    "last_test_scores['cog_g3_percent'] = last_test_scores['cog_G3.0']/last_test_scores['cog_G3.0'].sum() *100\n",
    "last_test_scores['cog_g4_percent'] = last_test_scores['cog_G4.0']/last_test_scores['cog_G4.0'].sum() *100\n",
    "last_test_scores['cog_g5_percent'] = last_test_scores['cog_G5.0']/last_test_scores['cog_G5.0'].sum() *100\n",
    "last_test_scores['cog_g6_percent'] = last_test_scores['cog_G6.0']/last_test_scores['cog_G6.0'].sum() *100\n",
    "last_test_scores['sc_b1_percent'] = last_test_scores['sc_B1.0']/last_test_scores['sc_B1.0'].sum() *100\n",
    "last_test_scores['sc_b2_percent'] = last_test_scores['sc_B2.0']/last_test_scores['sc_B2.0'].sum() *100\n",
    "last_test_scores['sc_d1_percent'] = last_test_scores['sc_D1.0']/last_test_scores['sc_D1.0'].sum() *100\n",
    "last_test_scores['sc_d2_percent'] = last_test_scores['sc_D2.0']/last_test_scores['sc_D2.0'].sum() *100\n",
    "last_test_scores['sc_d3_percent'] = last_test_scores['sc_D3.0']/last_test_scores['sc_D3.0'].sum() *100"
   ]
  },
  {
   "cell_type": "code",
   "execution_count": null,
   "id": "e0f245e0",
   "metadata": {},
   "outputs": [],
   "source": [
    "last_test_scores"
   ]
  },
  {
   "cell_type": "code",
   "execution_count": null,
   "id": "c6f6f6e8",
   "metadata": {},
   "outputs": [],
   "source": [
    "#compared to\n",
    "first_test_scores"
   ]
  },
  {
   "cell_type": "markdown",
   "id": "818a6632",
   "metadata": {},
   "source": [
    "## look at change in scores from first and last test"
   ]
  },
  {
   "cell_type": "code",
   "execution_count": null,
   "id": "5231d268",
   "metadata": {
    "scrolled": true
   },
   "outputs": [],
   "source": [
    "first_tests_melt.head()"
   ]
  },
  {
   "cell_type": "code",
   "execution_count": null,
   "id": "31a92f18",
   "metadata": {},
   "outputs": [],
   "source": [
    "first_tests_melt = first_tests_melt.rename(columns = {'variable': 'item', 'value': 'count_first'})"
   ]
  },
  {
   "cell_type": "code",
   "execution_count": null,
   "id": "e932e0d5",
   "metadata": {},
   "outputs": [],
   "source": [
    "first_tests_melt.head()"
   ]
  },
  {
   "cell_type": "code",
   "execution_count": null,
   "id": "27a32157",
   "metadata": {},
   "outputs": [],
   "source": [
    "last_tests_melt = last_tests_melt.rename(columns = {'variable': 'item', 'value': 'count_last'})"
   ]
  },
  {
   "cell_type": "code",
   "execution_count": null,
   "id": "3ed7ac43",
   "metadata": {},
   "outputs": [],
   "source": [
    "last_tests_melt.head()"
   ]
  },
  {
   "cell_type": "code",
   "execution_count": null,
   "id": "31fae4a7",
   "metadata": {},
   "outputs": [],
   "source": [
    "compare_first_last = pd.merge(first_tests_melt, last_tests_melt, on = ['score', 'item'], how = 'outer')"
   ]
  },
  {
   "cell_type": "code",
   "execution_count": null,
   "id": "aa88f07c",
   "metadata": {},
   "outputs": [],
   "source": [
    "compare_first_last.head()"
   ]
  },
  {
   "cell_type": "code",
   "execution_count": null,
   "id": "c1ac968f",
   "metadata": {},
   "outputs": [],
   "source": [
    "compare_first_last.tail()"
   ]
  },
  {
   "cell_type": "code",
   "execution_count": null,
   "id": "5c75ed88",
   "metadata": {},
   "outputs": [],
   "source": [
    "compare_first_last['last_minus_first'] = compare_first_last['count_last'] - compare_first_last['count_first']"
   ]
  },
  {
   "cell_type": "code",
   "execution_count": null,
   "id": "9126e5fb",
   "metadata": {},
   "outputs": [],
   "source": [
    "compare_first_last.head()"
   ]
  },
  {
   "cell_type": "code",
   "execution_count": null,
   "id": "97b248b0",
   "metadata": {},
   "outputs": [],
   "source": [
    "difference_scores_grid = sns.FacetGrid(compare_first_last, col = 'score')\n",
    "difference_scores_grid.map(sns.barplot, 'item', 'last_minus_first')"
   ]
  },
  {
   "cell_type": "markdown",
   "id": "8fa5483f",
   "metadata": {},
   "source": [
    "## The above facetgrid may make more sense using percentages instead of scores, I'll try that below"
   ]
  },
  {
   "cell_type": "code",
   "execution_count": null,
   "id": "823e933c",
   "metadata": {},
   "outputs": [],
   "source": [
    "first_test_scores.head()"
   ]
  },
  {
   "cell_type": "code",
   "execution_count": null,
   "id": "d60bf5bb",
   "metadata": {},
   "outputs": [],
   "source": [
    "last_test_scores.head()"
   ]
  },
  {
   "cell_type": "code",
   "execution_count": null,
   "id": "6780380a",
   "metadata": {},
   "outputs": [],
   "source": [
    "#taking only the percentages of scores to make new melt\n",
    "first_percents = first_test_scores.drop(columns = ['fm_B4.0', 'fm_B5.0',\n",
    "       'cog_D2.0', 'cog_E2.0', 'cog_E4.0', 'cog_F1.0', 'cog_G1.0',\n",
    "       'cog_G2.0', 'cog_G3.0', 'cog_G4.0', 'cog_G5.0', 'cog_G6.0',\n",
    "       'sc_B1.0', 'sc_B2.0', 'sc_D1.0', 'sc_D2.0', 'sc_D3.0'])"
   ]
  },
  {
   "cell_type": "code",
   "execution_count": null,
   "id": "f394d66a",
   "metadata": {},
   "outputs": [],
   "source": [
    "first_percents.head()"
   ]
  },
  {
   "cell_type": "code",
   "execution_count": null,
   "id": "bdd10791",
   "metadata": {},
   "outputs": [],
   "source": [
    "last_percents = last_test_scores.drop(columns = ['fm_B4.0', 'fm_B5.0',\n",
    "       'cog_D2.0', 'cog_E2.0', 'cog_E4.0', 'cog_F1.0', 'cog_G1.0',\n",
    "       'cog_G2.0', 'cog_G3.0', 'cog_G4.0', 'cog_G5.0', 'cog_G6.0',\n",
    "       'sc_B1.0', 'sc_B2.0', 'sc_D1.0', 'sc_D2.0', 'sc_D3.0'])"
   ]
  },
  {
   "cell_type": "code",
   "execution_count": null,
   "id": "96f69f27",
   "metadata": {},
   "outputs": [],
   "source": [
    "last_percents.head()"
   ]
  },
  {
   "cell_type": "code",
   "execution_count": null,
   "id": "6ecf600b",
   "metadata": {},
   "outputs": [],
   "source": [
    "#melt 'em\n",
    "first_percents_melt = first_percents.melt('score')"
   ]
  },
  {
   "cell_type": "code",
   "execution_count": null,
   "id": "97bd4c6e",
   "metadata": {},
   "outputs": [],
   "source": [
    "first_percents_melt.head()"
   ]
  },
  {
   "cell_type": "code",
   "execution_count": null,
   "id": "260a83bf",
   "metadata": {},
   "outputs": [],
   "source": [
    "first_percents_melt = first_percents_melt.rename(columns = {'variable': 'item', 'value': 'percent_first'})"
   ]
  },
  {
   "cell_type": "code",
   "execution_count": null,
   "id": "1f781d3d",
   "metadata": {
    "scrolled": true
   },
   "outputs": [],
   "source": [
    "first_percents_melt.head()"
   ]
  },
  {
   "cell_type": "code",
   "execution_count": null,
   "id": "b210e4ed",
   "metadata": {},
   "outputs": [],
   "source": [
    "last_percents_melt = last_percents.melt('score')"
   ]
  },
  {
   "cell_type": "code",
   "execution_count": null,
   "id": "9e7b14a3",
   "metadata": {},
   "outputs": [],
   "source": [
    "last_percents_melt.head()"
   ]
  },
  {
   "cell_type": "code",
   "execution_count": null,
   "id": "853a65a5",
   "metadata": {},
   "outputs": [],
   "source": [
    "last_percents_melt = last_percents_melt.rename(columns = {'variable': 'item', 'value': 'percent_last'})"
   ]
  },
  {
   "cell_type": "code",
   "execution_count": null,
   "id": "361a168a",
   "metadata": {},
   "outputs": [],
   "source": [
    "last_percents_melt.head()"
   ]
  },
  {
   "cell_type": "code",
   "execution_count": null,
   "id": "250ceec1",
   "metadata": {},
   "outputs": [],
   "source": [
    "compare_percents = pd.merge(first_percents_melt, last_percents_melt, on = ['score', 'item'], how = 'outer')"
   ]
  },
  {
   "cell_type": "code",
   "execution_count": null,
   "id": "5068533b",
   "metadata": {},
   "outputs": [],
   "source": [
    "compare_percents.head()"
   ]
  },
  {
   "cell_type": "code",
   "execution_count": null,
   "id": "5df4218a",
   "metadata": {},
   "outputs": [],
   "source": [
    "compare_percents['last_minus_first'] = compare_percents['percent_last'] - compare_percents['percent_first']"
   ]
  },
  {
   "cell_type": "code",
   "execution_count": null,
   "id": "6300a9f0",
   "metadata": {},
   "outputs": [],
   "source": [
    "compare_percents.head()"
   ]
  },
  {
   "cell_type": "markdown",
   "id": "7e15194a",
   "metadata": {},
   "source": [
    "## this would be a great comparison if I can figure out how to format it to make it readable as facetgrid, but I just made separate bar graphs below"
   ]
  },
  {
   "cell_type": "code",
   "execution_count": null,
   "id": "8ea225d6",
   "metadata": {},
   "outputs": [],
   "source": [
    "percent_diff_grid = sns.FacetGrid(compare_percents, row = 'score')\n",
    "percent_diff_grid.map(sns.barplot, 'item', 'last_minus_first')"
   ]
  },
  {
   "cell_type": "code",
   "execution_count": null,
   "id": "e73a587f",
   "metadata": {},
   "outputs": [],
   "source": [
    "score0 = compare_percents.loc[compare_percents.score == 0]"
   ]
  },
  {
   "cell_type": "code",
   "execution_count": null,
   "id": "76c17725",
   "metadata": {},
   "outputs": [],
   "source": [
    "# why did it do this when i tried to add colors?\n",
    "plt.figure(figsize = (10,6))\n",
    "sns.barplot(data = score0, \n",
    "           x = 'item', \n",
    "           y = 'last_minus_first',\n",
    "           hue = 'item',\n",
    "           palette = ['indianred', 'red', 'aquamarine', 'lightseagreen', 'mediumturquoise', 'lightcyan', 'paleturquoise', 'darkslategrey', 'teal', 'darkcyan', 'cyan', 'dodgerblue', 'forestgreen', 'darkgreen', 'limegreen', 'palegreen', 'olivedrab'])\n",
    "\n",
    "plt.xticks(rotation = 90)\n",
    "plt.title('First Test to Last Test Score Difference by Percent for 0');"
   ]
  },
  {
   "cell_type": "code",
   "execution_count": null,
   "id": "5e64419c",
   "metadata": {},
   "outputs": [],
   "source": [
    "plt.figure(figsize = (10,6))\n",
    "sns.barplot(data = score0, \n",
    "           x = 'item', \n",
    "           y = 'last_minus_first')\n",
    "\n",
    "plt.xticks(rotation = 90)\n",
    "plt.title('First Test to Last Test Score Difference by Percent for 0');"
   ]
  },
  {
   "cell_type": "code",
   "execution_count": null,
   "id": "a65b14b5",
   "metadata": {},
   "outputs": [],
   "source": [
    "score1 = compare_percents.loc[compare_percents.score == 1]"
   ]
  },
  {
   "cell_type": "code",
   "execution_count": null,
   "id": "9cc10923",
   "metadata": {},
   "outputs": [],
   "source": [
    "plt.figure(figsize = (10,6))\n",
    "sns.barplot(data = score1, \n",
    "           x = 'item', \n",
    "           y = 'last_minus_first')\n",
    "\n",
    "plt.xticks(rotation = 90)\n",
    "plt.title('First Test to Last Test Score Difference by Percent for 1');"
   ]
  },
  {
   "cell_type": "code",
   "execution_count": null,
   "id": "868926bf",
   "metadata": {},
   "outputs": [],
   "source": [
    "score2 = compare_percents.loc[compare_percents.score == 2]"
   ]
  },
  {
   "cell_type": "code",
   "execution_count": null,
   "id": "f7bb367c",
   "metadata": {},
   "outputs": [],
   "source": [
    "plt.figure(figsize = (10,6))\n",
    "sns.barplot(data = score2, \n",
    "           x = 'item', \n",
    "           y = 'last_minus_first')\n",
    "\n",
    "plt.xticks(rotation = 90)\n",
    "plt.title('First Test to Last Test Score Difference by Percent for 2');"
   ]
  },
  {
   "cell_type": "markdown",
   "id": "320d2084",
   "metadata": {},
   "source": [
    "## scores overview \n",
    "### First tests with highest percent of 0 scores - sc_d3, cog_g6, fm_b5, cog_g2, cog_g5\n",
    "### First tests with highest percent of 2 scores - sc_b1, cog_e2, sc_b2, cog_e4, fm_b4\n",
    "\n",
    "### Last tests with highest percent of 0 scores- fm_b5, cog_g2, sc_d3, cog_g6, cog_g5 (diff order but same as first tests)\n",
    "### Last tests with highest percent of 2 scores- sc_b1, sc_b2, cog_e2, cog_e4, cog_d2 (cog_d2 here instead of fm_b4 in first tests)\n",
    "\n",
    "## Largest decrease in 0 scores (most improvement from 0) when comparing difference between first and last-\n",
    "### sc_d1, sc_b2, sc_b1, cog_e4, cog_d2\n",
    "## Smallest decrease in 0 scores(least improvement) when comparing difference between first and last - \n",
    "### fm_b5, cog_g2, cog_g1, cog_g5, cog_g6 (most of these are also the lowest to begin with)\n",
    "## Largest increase in 2 scores(most improvement to 2) when comparing difference between first and last - \n",
    "### sc_b2, sc_b1, cog_e2, cog_e4, cog_d2 (most improved also usually start at higher scores to begin with as well)"
   ]
  },
  {
   "cell_type": "code",
   "execution_count": null,
   "id": "e497742d",
   "metadata": {},
   "outputs": [],
   "source": [
    "score0.head()"
   ]
  },
  {
   "cell_type": "code",
   "execution_count": null,
   "id": "a8eecf18",
   "metadata": {},
   "outputs": [],
   "source": [
    "score0.nlargest(5, 'percent_first')"
   ]
  },
  {
   "cell_type": "code",
   "execution_count": null,
   "id": "192d2a54",
   "metadata": {},
   "outputs": [],
   "source": [
    "score2.nlargest(5, 'percent_first')"
   ]
  },
  {
   "cell_type": "code",
   "execution_count": null,
   "id": "bacb2ade",
   "metadata": {},
   "outputs": [],
   "source": [
    "score0.nlargest(5, 'percent_last')"
   ]
  },
  {
   "cell_type": "code",
   "execution_count": null,
   "id": "3e371941",
   "metadata": {},
   "outputs": [],
   "source": [
    "score2.nlargest(5, 'percent_last')"
   ]
  },
  {
   "cell_type": "code",
   "execution_count": null,
   "id": "9997b23e",
   "metadata": {},
   "outputs": [],
   "source": [
    "score0.nsmallest(5, 'last_minus_first')"
   ]
  },
  {
   "cell_type": "code",
   "execution_count": null,
   "id": "fe9a8332",
   "metadata": {},
   "outputs": [],
   "source": [
    "score0.nlargest(5, 'last_minus_first')"
   ]
  },
  {
   "cell_type": "code",
   "execution_count": null,
   "id": "93835a9a",
   "metadata": {},
   "outputs": [],
   "source": [
    "score2.nlargest(5, 'last_minus_first')"
   ]
  },
  {
   "cell_type": "code",
   "execution_count": null,
   "id": "a083818f",
   "metadata": {},
   "outputs": [],
   "source": []
  }
 ],
 "metadata": {
  "kernelspec": {
   "display_name": "Python 3 (ipykernel)",
   "language": "python",
   "name": "python3"
  },
  "language_info": {
   "codemirror_mode": {
    "name": "ipython",
    "version": 3
   },
   "file_extension": ".py",
   "mimetype": "text/x-python",
   "name": "python",
   "nbconvert_exporter": "python",
   "pygments_lexer": "ipython3",
   "version": "3.9.7"
  }
 },
 "nbformat": 4,
 "nbformat_minor": 5
}

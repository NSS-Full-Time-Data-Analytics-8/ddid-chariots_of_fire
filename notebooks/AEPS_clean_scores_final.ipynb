{
 "cells": [
  {
   "cell_type": "code",
   "execution_count": null,
   "id": "26f17903",
   "metadata": {},
   "outputs": [],
   "source": [
    "import pandas as pd\n",
    "import matplotlib.pyplot as plt\n",
    "import seaborn as sns\n",
    "import numpy as np"
   ]
  },
  {
   "cell_type": "code",
   "execution_count": null,
   "id": "9ba96ad8",
   "metadata": {},
   "outputs": [],
   "source": [
    "aeps_clean = pd.read_csv('../data/aeps_cleansed_data.csv')"
   ]
  },
  {
   "cell_type": "code",
   "execution_count": null,
   "id": "c2fb235c",
   "metadata": {
    "scrolled": true
   },
   "outputs": [],
   "source": [
    "aeps_clean.head()"
   ]
  },
  {
   "cell_type": "markdown",
   "id": "2ad2b6af",
   "metadata": {},
   "source": [
    "## getting things into correct dtype"
   ]
  },
  {
   "cell_type": "code",
   "execution_count": null,
   "id": "447f70fe",
   "metadata": {},
   "outputs": [],
   "source": [
    "clean_oc2 = aeps_clean[['Child ID', 'Program Name', 'AEPSi ID', 'DOB', 'Gender', 'Dev Status', 'AEPS Level', 'Test Date', 'Examiner', 'Service Coordinator', 'TEIS Point of Entry Office (POE)', 'ESL', 'County of Residence', 'Number of Items', 'fm_B4.0', 'fm_B5.0', 'cog_D2.0', 'cog_E2.0', 'cog_E4.0', 'cog_F1.0', 'cog_G1.0', 'cog_G2.0', 'cog_G3.0', 'cog_G4.0', 'cog_G5.0', 'cog_G6.0', 'sc_B1.0', 'sc_B2.0', 'sc_D1.0', 'sc_D2.0', 'sc_D3.0', 'FM Raw Score', 'FM Possible Score', 'FM Percentage', 'GM Raw Score', 'GM Possible Score', 'GM Percentage', 'Adapt Raw Score', 'Adapt Possible Score', 'Adapt Percentage', 'Cog Raw Score', 'Cog Possible Score', 'Cog Percentage', 'SC Raw Score', 'SC Possible Score', 'SC Percentage', 'Soc Raw Score', 'Soc Possible Score', 'Soc Percentage', 'Overall Raw Score', 'Overall Possible Score', 'Overall Percentage', 'FM Goal Score', 'FM Cutoff', 'FM Result', 'GM Goal Score', 'GM Cutoff', 'GM Result', 'Adapt Goal Score', 'Adapt Cutoff', 'Adapt Result', 'Cog Goal Score', 'Cog Cutoff', 'Cog Result', 'SC Goal Score', 'SC Cutoff', 'SC Result', 'Soc Goal Score', 'Soc Cutoff', 'Soc Result']]"
   ]
  },
  {
   "cell_type": "code",
   "execution_count": null,
   "id": "cba8f118",
   "metadata": {},
   "outputs": [],
   "source": [
    "clean_oc2.head()"
   ]
  },
  {
   "cell_type": "code",
   "execution_count": null,
   "id": "d8689978",
   "metadata": {},
   "outputs": [],
   "source": [
    "clean_oc2.shape"
   ]
  },
  {
   "cell_type": "code",
   "execution_count": null,
   "id": "708f8bba",
   "metadata": {},
   "outputs": [],
   "source": [
    "pd.set_option('display.max_rows', None)\n",
    "clean_oc2.dtypes"
   ]
  },
  {
   "cell_type": "code",
   "execution_count": null,
   "id": "5bd25e54",
   "metadata": {},
   "outputs": [],
   "source": [
    "clean_oc2['Test Date'] = pd.to_datetime(clean_oc2['Test Date'])"
   ]
  },
  {
   "cell_type": "code",
   "execution_count": null,
   "id": "c682e99d",
   "metadata": {},
   "outputs": [],
   "source": [
    "clean_oc2 = clean_oc2.dropna(subset=['Test Date'])"
   ]
  },
  {
   "cell_type": "code",
   "execution_count": null,
   "id": "caf1d97b",
   "metadata": {},
   "outputs": [],
   "source": [
    "clean_oc2['Child ID'] = clean_oc2['Child ID'].astype(str).str.strip()"
   ]
  },
  {
   "cell_type": "code",
   "execution_count": null,
   "id": "2b6eeb6e",
   "metadata": {},
   "outputs": [],
   "source": [
    "clean_oc2 = clean_oc2.rename(columns = {'Test Date': 'test_date'})"
   ]
  },
  {
   "cell_type": "markdown",
   "id": "ea3d5a33",
   "metadata": {},
   "source": [
    "## remove child ids where child was in the program less than "
   ]
  },
  {
   "cell_type": "code",
   "execution_count": null,
   "id": "c6d5c3e6",
   "metadata": {},
   "outputs": [],
   "source": [
    "test_dates = clean_oc2.groupby('Child ID')['test_date'].agg(['min', 'max']).reset_index()\n",
    "test_dates"
   ]
  },
  {
   "cell_type": "code",
   "execution_count": null,
   "id": "d3bb74eb",
   "metadata": {},
   "outputs": [],
   "source": [
    "clean_oc2 = pd.merge(test_dates, clean_oc2, on = 'Child ID', how = 'outer')"
   ]
  },
  {
   "cell_type": "code",
   "execution_count": null,
   "id": "66185221",
   "metadata": {
    "scrolled": true
   },
   "outputs": [],
   "source": [
    "clean_oc2.head()"
   ]
  },
  {
   "cell_type": "code",
   "execution_count": null,
   "id": "ae5166a8",
   "metadata": {
    "scrolled": true
   },
   "outputs": [],
   "source": [
    "clean_oc2.dtypes"
   ]
  },
  {
   "cell_type": "markdown",
   "id": "05eb314b",
   "metadata": {},
   "source": [
    "## make column that is difference between first and last test date in days"
   ]
  },
  {
   "cell_type": "code",
   "execution_count": null,
   "id": "b32c5614",
   "metadata": {},
   "outputs": [],
   "source": [
    "clean_oc2['test_date_diff'] = clean_oc2['max'] - clean_oc2['min']"
   ]
  },
  {
   "cell_type": "code",
   "execution_count": null,
   "id": "197347b5",
   "metadata": {
    "scrolled": true
   },
   "outputs": [],
   "source": [
    "clean_oc2.head()"
   ]
  },
  {
   "cell_type": "code",
   "execution_count": null,
   "id": "2751ef87",
   "metadata": {},
   "outputs": [],
   "source": [
    "clean_oc2.test_date_diff.dtype"
   ]
  },
  {
   "cell_type": "code",
   "execution_count": null,
   "id": "dcdac7f2",
   "metadata": {},
   "outputs": [],
   "source": [
    "## change the above dtype to int, maybe duplicate notebook w/o this line to compare, because there is a big diff\n",
    "clean_oc2['test_date_diff'] = clean_oc2['test_date_diff'].dt.days.astype('int16')"
   ]
  },
  {
   "cell_type": "code",
   "execution_count": null,
   "id": "18ad7dc8",
   "metadata": {},
   "outputs": [],
   "source": [
    "clean_oc2.test_date_diff.dtype"
   ]
  },
  {
   "cell_type": "code",
   "execution_count": null,
   "id": "d902041b",
   "metadata": {
    "scrolled": true
   },
   "outputs": [],
   "source": [
    "clean_oc2.head()"
   ]
  },
  {
   "cell_type": "code",
   "execution_count": null,
   "id": "fd10a026",
   "metadata": {
    "scrolled": true
   },
   "outputs": [],
   "source": [
    "clean_oc2.test_date_diff.describe()"
   ]
  },
  {
   "cell_type": "code",
   "execution_count": null,
   "id": "0bd85e4f",
   "metadata": {},
   "outputs": [],
   "source": [
    "clean_oc2.test_date_diff.unique()"
   ]
  },
  {
   "cell_type": "markdown",
   "id": "96551090",
   "metadata": {},
   "source": [
    "## only include rows with date diff over 183"
   ]
  },
  {
   "cell_type": "code",
   "execution_count": null,
   "id": "e93eb981",
   "metadata": {},
   "outputs": [],
   "source": [
    "# can comment this out to look at all child ids no matter length in program\n",
    "clean_oc2 = clean_oc2[clean_oc2.test_date_diff >183]"
   ]
  },
  {
   "cell_type": "code",
   "execution_count": null,
   "id": "639547d5",
   "metadata": {
    "scrolled": true
   },
   "outputs": [],
   "source": [
    "clean_oc2.head()"
   ]
  },
  {
   "cell_type": "code",
   "execution_count": null,
   "id": "8c499a71",
   "metadata": {},
   "outputs": [],
   "source": [
    "clean_oc2.shape"
   ]
  },
  {
   "cell_type": "code",
   "execution_count": null,
   "id": "b2098f53",
   "metadata": {},
   "outputs": [],
   "source": [
    "clean_oc2.test_date_diff.min()"
   ]
  },
  {
   "cell_type": "code",
   "execution_count": null,
   "id": "261056a8",
   "metadata": {},
   "outputs": [],
   "source": [
    "clean_oc2.test_date_diff.max()"
   ]
  },
  {
   "cell_type": "code",
   "execution_count": null,
   "id": "0dacb325",
   "metadata": {
    "scrolled": true
   },
   "outputs": [],
   "source": [
    "clean_oc2.test_date_diff.unique()"
   ]
  },
  {
   "cell_type": "markdown",
   "id": "5aa68fd0",
   "metadata": {},
   "source": [
    "## make column with time in program groups"
   ]
  },
  {
   "cell_type": "code",
   "execution_count": null,
   "id": "07bd322b",
   "metadata": {},
   "outputs": [],
   "source": [
    "years_in_program = pd.cut(clean_oc2.test_date_diff, bins = [184,366,549,732,983], labels=['0.5-1', '1-1.5', '1.5-2', '2-2.7'])\n",
    "clean_oc2.insert(3, 'years_in_program', years_in_program)"
   ]
  },
  {
   "cell_type": "code",
   "execution_count": null,
   "id": "d3dcd7c9",
   "metadata": {
    "scrolled": false
   },
   "outputs": [],
   "source": [
    "clean_oc2.columns.unique()"
   ]
  },
  {
   "cell_type": "code",
   "execution_count": null,
   "id": "a295ff2b",
   "metadata": {},
   "outputs": [],
   "source": [
    "clean_oc2.head()"
   ]
  },
  {
   "cell_type": "markdown",
   "id": "75c24364",
   "metadata": {},
   "source": [
    "## first and last dates list"
   ]
  },
  {
   "cell_type": "code",
   "execution_count": null,
   "id": "77284ad8",
   "metadata": {},
   "outputs": [],
   "source": [
    "first_test_list = clean_oc2.groupby('Child ID')['test_date'].min().reset_index()"
   ]
  },
  {
   "cell_type": "code",
   "execution_count": null,
   "id": "494e177b",
   "metadata": {},
   "outputs": [],
   "source": [
    "first_test_list.shape"
   ]
  },
  {
   "cell_type": "code",
   "execution_count": null,
   "id": "0f75d208",
   "metadata": {},
   "outputs": [],
   "source": [
    "first_test_list.head()"
   ]
  },
  {
   "cell_type": "code",
   "execution_count": null,
   "id": "d3d5e840",
   "metadata": {},
   "outputs": [],
   "source": [
    "first_test_data = pd.merge(first_test_list, clean_oc2, how = 'inner', on =['Child ID', 'test_date'])"
   ]
  },
  {
   "cell_type": "code",
   "execution_count": null,
   "id": "0ea456e6",
   "metadata": {},
   "outputs": [],
   "source": [
    "first_test_data.shape"
   ]
  },
  {
   "cell_type": "code",
   "execution_count": null,
   "id": "70043e5d",
   "metadata": {
    "scrolled": true
   },
   "outputs": [],
   "source": [
    "first_test_data.head()"
   ]
  },
  {
   "cell_type": "code",
   "execution_count": null,
   "id": "6f2be310",
   "metadata": {},
   "outputs": [],
   "source": [
    "first_test_data.shape"
   ]
  },
  {
   "cell_type": "code",
   "execution_count": null,
   "id": "72fe0b31",
   "metadata": {},
   "outputs": [],
   "source": [
    "last_test_list = clean_oc2.groupby('Child ID')['test_date'].max().reset_index()"
   ]
  },
  {
   "cell_type": "code",
   "execution_count": null,
   "id": "6a1d2eb3",
   "metadata": {},
   "outputs": [],
   "source": [
    "last_test_list.head()"
   ]
  },
  {
   "cell_type": "code",
   "execution_count": null,
   "id": "a67ad68e",
   "metadata": {},
   "outputs": [],
   "source": [
    "last_test_data = pd.merge(last_test_list, clean_oc2, how ='inner', on = ['Child ID', 'test_date'])"
   ]
  },
  {
   "cell_type": "code",
   "execution_count": null,
   "id": "be65f1b7",
   "metadata": {},
   "outputs": [],
   "source": [
    "last_test_data.shape"
   ]
  },
  {
   "cell_type": "markdown",
   "id": "1e2aed6e",
   "metadata": {},
   "source": [
    "## graph and table of first test scores"
   ]
  },
  {
   "cell_type": "code",
   "execution_count": null,
   "id": "df8e711c",
   "metadata": {},
   "outputs": [],
   "source": [
    "first_test_scores = first_test_data[['fm_B4.0', 'fm_B5.0',\n",
    "       'cog_D2.0', 'cog_E2.0', 'cog_E4.0', 'cog_F1.0', 'cog_G1.0',\n",
    "       'cog_G2.0', 'cog_G3.0', 'cog_G4.0', 'cog_G5.0', 'cog_G6.0',\n",
    "       'sc_B1.0', 'sc_B2.0', 'sc_D1.0', 'sc_D2.0', 'sc_D3.0']].apply(pd.Series.value_counts).reset_index()"
   ]
  },
  {
   "cell_type": "code",
   "execution_count": null,
   "id": "65c1c3eb",
   "metadata": {},
   "outputs": [],
   "source": [
    "first_test_scores.head()"
   ]
  },
  {
   "cell_type": "code",
   "execution_count": null,
   "id": "432a35b2",
   "metadata": {},
   "outputs": [],
   "source": [
    "first_test_scores = first_test_scores.rename(columns = {'index': 'score'})"
   ]
  },
  {
   "cell_type": "code",
   "execution_count": null,
   "id": "334a9233",
   "metadata": {},
   "outputs": [],
   "source": [
    "first_tests_melt = first_test_scores.melt('score')"
   ]
  },
  {
   "cell_type": "code",
   "execution_count": null,
   "id": "01d1fb01",
   "metadata": {},
   "outputs": [],
   "source": [
    "first_tests_melt.shape"
   ]
  },
  {
   "cell_type": "code",
   "execution_count": null,
   "id": "ba88d04d",
   "metadata": {
    "scrolled": false
   },
   "outputs": [],
   "source": [
    "first_tests_melt.head()"
   ]
  },
  {
   "cell_type": "markdown",
   "id": "d2898538",
   "metadata": {},
   "source": [
    "## add domain column to melt df for legend of graph"
   ]
  },
  {
   "cell_type": "code",
   "execution_count": null,
   "id": "f4c461c0",
   "metadata": {},
   "outputs": [],
   "source": [
    "domain = {\n",
    "        'item': ['fm_B4.0', 'fm_B5.0','cog_D2.0', 'cog_E2.0', 'cog_E4.0', 'cog_F1.0', 'cog_G1.0',\n",
    "       'cog_G2.0', 'cog_G3.0', 'cog_G4.0', 'cog_G5.0', 'cog_G6.0','sc_B1.0', 'sc_B2.0', 'sc_D1.0', 'sc_D2.0', 'sc_D3.0'],\n",
    "        'domain': ['fine motor', 'fine motor', 'cognitive', 'cognitive', 'cognitive', 'cognitive', 'cognitive', 'cognitive',\n",
    "                  'cognitive', 'cognitive', 'cognitive', 'cognitive', 'social communication', 'social communication','social communication',\n",
    "                  'social communication','social communication']\n",
    "}"
   ]
  },
  {
   "cell_type": "code",
   "execution_count": null,
   "id": "8529d480",
   "metadata": {},
   "outputs": [],
   "source": [
    "domain = pd.DataFrame(domain)"
   ]
  },
  {
   "cell_type": "code",
   "execution_count": null,
   "id": "e92d2df6",
   "metadata": {},
   "outputs": [],
   "source": [
    "domain.head()"
   ]
  },
  {
   "cell_type": "code",
   "execution_count": null,
   "id": "5698c39d",
   "metadata": {},
   "outputs": [],
   "source": [
    "first_tests_melt = first_tests_melt.rename(columns = {'variable': 'item', 'value': 'count_first'})"
   ]
  },
  {
   "cell_type": "code",
   "execution_count": null,
   "id": "4013a35f",
   "metadata": {
    "scrolled": true
   },
   "outputs": [],
   "source": [
    "first_tests_melt.head()"
   ]
  },
  {
   "cell_type": "code",
   "execution_count": null,
   "id": "0ad5bbfe",
   "metadata": {},
   "outputs": [],
   "source": [
    "first_tests_melt = pd.merge(first_tests_melt, domain, on = 'item', how = 'outer')"
   ]
  },
  {
   "cell_type": "code",
   "execution_count": null,
   "id": "8539a2ab",
   "metadata": {
    "scrolled": true
   },
   "outputs": [],
   "source": [
    "first_tests_melt.head()"
   ]
  },
  {
   "cell_type": "code",
   "execution_count": null,
   "id": "e4b325ea",
   "metadata": {},
   "outputs": [],
   "source": [
    "sns.barplot(data=first_tests_melt, x='score', y='count_first', hue = 'item', \n",
    "             palette = ['indianred', 'red', 'aquamarine', 'lightseagreen', 'mediumturquoise', 'lightcyan', 'paleturquoise', 'darkslategrey', 'teal', 'darkcyan', 'cyan', 'dodgerblue', 'forestgreen', 'darkgreen', 'limegreen', 'palegreen', 'olivedrab'])\n",
    "\n",
    "plt.title('First Test Scores by Item')\n",
    "plt.legend(bbox_to_anchor = (1,1))\n",
    "plt.ylabel('Score Count');"
   ]
  },
  {
   "cell_type": "code",
   "execution_count": null,
   "id": "4c25aa0a",
   "metadata": {},
   "outputs": [],
   "source": [
    "title_font = {'family': 'serif', 'weight': 'bold', 'size': 20, 'color' : '#FF0000'}\n",
    "axes_font = {'family': 'serif', 'weight': 'bold', 'size': 14, 'color' : '#FF0000'}"
   ]
  },
  {
   "cell_type": "code",
   "execution_count": null,
   "id": "973e877f",
   "metadata": {},
   "outputs": [],
   "source": [
    "# i want the below legend with this graph\n",
    "plt.figure(figsize = (10,6))\n",
    "sns.barplot(data=first_tests_melt, x='score', y='count_first', hue = 'item', \n",
    "             palette =  ['#c9cdd6', '#c9cdd6', '#818af9', '#818af9', '#818af9', '#818af9', '#818af9', '#818af9', '#818af9', '#818af9', '#818af9', '#818af9', '#394768', '#394768', '#394768', '#394768', '#394768'],\n",
    "                    edgecolor = 'black').set_title('First Test Scores by Item', fontdict= title_font)\n",
    "\n",
    "plt.xlabel('Score', color = '#FF0000', font='serif', fontsize='14', fontweight='bold')\n",
    "plt.ylabel('Score Count', color = '#FF0000', font='serif', fontsize='14', fontweight='bold')\n",
    "plt.legend([],[], frameon=False)\n",
    "plt.ylim(0,3500);\n",
    "\n",
    "#plt.savefig('../data/first_scores_by_item.png')"
   ]
  },
  {
   "cell_type": "code",
   "execution_count": null,
   "id": "4d60898d",
   "metadata": {
    "scrolled": true
   },
   "outputs": [],
   "source": [
    "plt.figure(figsize = (10,6))\n",
    "sns.barplot(data=first_tests_melt, x='score', y='count_first', hue = 'domain', \n",
    "             palette =  ['#c9cdd6', '#818af9', '#394768'],\n",
    "                    edgecolor = 'black').set_title('First Test Scores by Item', fontdict= title_font)\n",
    "\n",
    "plt.xlabel('Score', color = '#FF0000', font='serif', fontsize='14', fontweight='bold')\n",
    "plt.ylabel('Score Count', color = '#FF0000', font='serif', fontsize='14', fontweight='bold')\n",
    "plt.legend(bbox_to_anchor = (1,1), title = 'Domain');\n",
    "\n",
    "#plt.savefig('../data/use_legend_only.png')"
   ]
  },
  {
   "cell_type": "code",
   "execution_count": null,
   "id": "9d20c6e6",
   "metadata": {},
   "outputs": [],
   "source": [
    "sns.barplot(data=first_tests_melt, x='score', y='count_first', hue = 'item', \n",
    "             palette = ['indianred', 'red', 'aquamarine', 'lightseagreen', 'mediumturquoise', 'lightcyan', 'paleturquoise', 'darkslategrey', 'teal', 'darkcyan', 'cyan', 'dodgerblue', 'forestgreen', 'darkgreen', 'limegreen', 'palegreen', 'olivedrab'])\n",
    "\n",
    "plt.title('First Test Scores by Item')\n",
    "plt.legend(bbox_to_anchor = (1,1))\n",
    "plt.ylabel('Score Count');"
   ]
  },
  {
   "cell_type": "code",
   "execution_count": null,
   "id": "190b4319",
   "metadata": {},
   "outputs": [],
   "source": [
    "#first_test_scores with percentages\n",
    "first_test_scores['fm_b4_percent'] = first_test_scores['fm_B4.0']/first_test_scores['fm_B4.0'].sum() *100\n",
    "first_test_scores['fm_b5_percent'] = first_test_scores['fm_B5.0']/first_test_scores['fm_B5.0'].sum() *100\n",
    "first_test_scores['cog_d2_percent'] = first_test_scores['cog_D2.0']/first_test_scores['cog_D2.0'].sum() *100\n",
    "first_test_scores['cog_e2_percent'] = first_test_scores['cog_E2.0']/first_test_scores['cog_E2.0'].sum() *100\n",
    "first_test_scores['cog_e4_percent'] = first_test_scores['cog_E4.0']/first_test_scores['cog_E4.0'].sum() *100\n",
    "first_test_scores['cog_f1_percent'] = first_test_scores['cog_F1.0']/first_test_scores['cog_F1.0'].sum() *100\n",
    "first_test_scores['cog_g1_percent'] = first_test_scores['cog_G1.0']/first_test_scores['cog_G1.0'].sum() *100\n",
    "first_test_scores['cog_g2_percent'] = first_test_scores['cog_G2.0']/first_test_scores['cog_G2.0'].sum() *100\n",
    "first_test_scores['cog_g3_percent'] = first_test_scores['cog_G3.0']/first_test_scores['cog_G3.0'].sum() *100\n",
    "first_test_scores['cog_g4_percent'] = first_test_scores['cog_G4.0']/first_test_scores['cog_G4.0'].sum() *100\n",
    "first_test_scores['cog_g5_percent'] = first_test_scores['cog_G5.0']/first_test_scores['cog_G5.0'].sum() *100\n",
    "first_test_scores['cog_g6_percent'] = first_test_scores['cog_G6.0']/first_test_scores['cog_G6.0'].sum() *100\n",
    "first_test_scores['sc_b1_percent'] = first_test_scores['sc_B1.0']/first_test_scores['sc_B1.0'].sum() *100\n",
    "first_test_scores['sc_b2_percent'] = first_test_scores['sc_B2.0']/first_test_scores['sc_B2.0'].sum() *100\n",
    "first_test_scores['sc_d1_percent'] = first_test_scores['sc_D1.0']/first_test_scores['sc_D1.0'].sum() *100\n",
    "first_test_scores['sc_d2_percent'] = first_test_scores['sc_D2.0']/first_test_scores['sc_D2.0'].sum() *100\n",
    "first_test_scores['sc_d3_percent'] = first_test_scores['sc_D3.0']/first_test_scores['sc_D3.0'].sum() *100"
   ]
  },
  {
   "cell_type": "code",
   "execution_count": null,
   "id": "6d89e5b5",
   "metadata": {},
   "outputs": [],
   "source": [
    "first_test_scores.head()"
   ]
  },
  {
   "cell_type": "code",
   "execution_count": null,
   "id": "1e280cde",
   "metadata": {},
   "outputs": [],
   "source": [
    "last_test_scores = last_test_data[['fm_B4.0', 'fm_B5.0',\n",
    "       'cog_D2.0', 'cog_E2.0', 'cog_E4.0', 'cog_F1.0', 'cog_G1.0',\n",
    "       'cog_G2.0', 'cog_G3.0', 'cog_G4.0', 'cog_G5.0', 'cog_G6.0',\n",
    "       'sc_B1.0', 'sc_B2.0', 'sc_D1.0', 'sc_D2.0', 'sc_D3.0']].apply(pd.Series.value_counts).reset_index()"
   ]
  },
  {
   "cell_type": "code",
   "execution_count": null,
   "id": "932e494f",
   "metadata": {},
   "outputs": [],
   "source": [
    "last_test_scores.head()"
   ]
  },
  {
   "cell_type": "code",
   "execution_count": null,
   "id": "08ba00a0",
   "metadata": {},
   "outputs": [],
   "source": [
    "last_test_scores = last_test_scores.rename(columns = {'index': 'score'})"
   ]
  },
  {
   "cell_type": "code",
   "execution_count": null,
   "id": "b92842c0",
   "metadata": {},
   "outputs": [],
   "source": [
    "last_test_scores.head()"
   ]
  },
  {
   "cell_type": "code",
   "execution_count": null,
   "id": "51a01312",
   "metadata": {},
   "outputs": [],
   "source": [
    "last_tests_melt = last_test_scores.melt('score')"
   ]
  },
  {
   "cell_type": "code",
   "execution_count": null,
   "id": "a7a899a4",
   "metadata": {
    "scrolled": true
   },
   "outputs": [],
   "source": [
    "last_tests_melt.head()"
   ]
  },
  {
   "cell_type": "code",
   "execution_count": null,
   "id": "04c66090",
   "metadata": {},
   "outputs": [],
   "source": [
    "last_tests_melt = last_tests_melt.rename(columns = {'variable': 'item', 'value': 'count_last'})"
   ]
  },
  {
   "cell_type": "code",
   "execution_count": null,
   "id": "50321a1f",
   "metadata": {},
   "outputs": [],
   "source": [
    "sns.barplot(data=last_tests_melt, x='score', y='count_last', hue = 'item',\n",
    "            palette = ['indianred', 'red', 'aquamarine', 'lightseagreen', 'mediumturquoise', 'lightcyan', 'paleturquoise', 'darkslategrey', 'teal', 'darkcyan', 'cyan', 'dodgerblue', 'forestgreen', 'darkgreen', 'limegreen', 'palegreen', 'olivedrab'])\n",
    "\n",
    "plt.title('Last Test Scores by Item')\n",
    "plt.legend(bbox_to_anchor = (1,1))\n",
    "plt.ylabel('Score Count');"
   ]
  },
  {
   "cell_type": "code",
   "execution_count": null,
   "id": "f6d9c53b",
   "metadata": {},
   "outputs": [],
   "source": [
    "#use this format, make legend that says what each domain is(red, blue, grey)\n",
    "plt.figure(figsize = (10,6))\n",
    "sns.barplot(data=last_tests_melt, x='score', y='count_last', hue = 'item',\n",
    "            palette = ['#c9cdd6', '#c9cdd6', '#818af9', '#818af9', '#818af9', '#818af9', '#818af9', '#818af9', '#818af9', '#818af9', '#818af9', '#818af9', '#394768', '#394768', '#394768', '#394768', '#394768'],\n",
    "            edgecolor = 'black').set_title('Last Test Scores by Item', fontdict= title_font)\n",
    "\n",
    "plt.legend([],[], frameon=False)\n",
    "plt.xlabel('Score', color = '#FF0000', font='serif', fontsize='14', fontweight='bold')\n",
    "plt.ylabel('Score Count', color = '#FF0000', font='serif', fontsize='14', fontweight='bold')\n",
    "plt.ylim(0,3500)\n",
    ";\n",
    "\n",
    "#plt.savefig('../data/last_scores_by_item.png')"
   ]
  },
  {
   "cell_type": "code",
   "execution_count": null,
   "id": "7e7d0d5a",
   "metadata": {},
   "outputs": [],
   "source": [
    "#last_test_scores with percentages\n",
    "last_test_scores['fm_b4_percent'] = last_test_scores['fm_B4.0']/last_test_scores['fm_B4.0'].sum() *100\n",
    "last_test_scores['fm_b5_percent'] = last_test_scores['fm_B5.0']/last_test_scores['fm_B5.0'].sum() *100\n",
    "last_test_scores['cog_d2_percent'] = last_test_scores['cog_D2.0']/last_test_scores['cog_D2.0'].sum() *100\n",
    "last_test_scores['cog_e2_percent'] = last_test_scores['cog_E2.0']/last_test_scores['cog_E2.0'].sum() *100\n",
    "last_test_scores['cog_e4_percent'] = last_test_scores['cog_E4.0']/last_test_scores['cog_E4.0'].sum() *100\n",
    "last_test_scores['cog_f1_percent'] = last_test_scores['cog_F1.0']/last_test_scores['cog_F1.0'].sum() *100\n",
    "last_test_scores['cog_g1_percent'] = last_test_scores['cog_G1.0']/last_test_scores['cog_G1.0'].sum() *100\n",
    "last_test_scores['cog_g2_percent'] = last_test_scores['cog_G2.0']/last_test_scores['cog_G2.0'].sum() *100\n",
    "last_test_scores['cog_g3_percent'] = last_test_scores['cog_G3.0']/last_test_scores['cog_G3.0'].sum() *100\n",
    "last_test_scores['cog_g4_percent'] = last_test_scores['cog_G4.0']/last_test_scores['cog_G4.0'].sum() *100\n",
    "last_test_scores['cog_g5_percent'] = last_test_scores['cog_G5.0']/last_test_scores['cog_G5.0'].sum() *100\n",
    "last_test_scores['cog_g6_percent'] = last_test_scores['cog_G6.0']/last_test_scores['cog_G6.0'].sum() *100\n",
    "last_test_scores['sc_b1_percent'] = last_test_scores['sc_B1.0']/last_test_scores['sc_B1.0'].sum() *100\n",
    "last_test_scores['sc_b2_percent'] = last_test_scores['sc_B2.0']/last_test_scores['sc_B2.0'].sum() *100\n",
    "last_test_scores['sc_d1_percent'] = last_test_scores['sc_D1.0']/last_test_scores['sc_D1.0'].sum() *100\n",
    "last_test_scores['sc_d2_percent'] = last_test_scores['sc_D2.0']/last_test_scores['sc_D2.0'].sum() *100\n",
    "last_test_scores['sc_d3_percent'] = last_test_scores['sc_D3.0']/last_test_scores['sc_D3.0'].sum() *100"
   ]
  },
  {
   "cell_type": "code",
   "execution_count": null,
   "id": "821a5099",
   "metadata": {},
   "outputs": [],
   "source": [
    "last_test_scores"
   ]
  },
  {
   "cell_type": "markdown",
   "id": "338dea02",
   "metadata": {},
   "source": [
    "## look at change in scores from first test to last test"
   ]
  },
  {
   "cell_type": "code",
   "execution_count": null,
   "id": "385f9848",
   "metadata": {},
   "outputs": [],
   "source": [
    "compare_first_last = pd.merge(first_tests_melt, last_tests_melt, on = ['score', 'item'], how = 'outer')"
   ]
  },
  {
   "cell_type": "code",
   "execution_count": null,
   "id": "753ff62c",
   "metadata": {},
   "outputs": [],
   "source": [
    "compare_first_last.head()"
   ]
  },
  {
   "cell_type": "code",
   "execution_count": null,
   "id": "ba7b77db",
   "metadata": {},
   "outputs": [],
   "source": [
    "compare_first_last['last_minus_first'] = compare_first_last['count_last'] - compare_first_last['count_first']"
   ]
  },
  {
   "cell_type": "code",
   "execution_count": null,
   "id": "0c5a3408",
   "metadata": {},
   "outputs": [],
   "source": [
    "compare_first_last.head()"
   ]
  },
  {
   "cell_type": "markdown",
   "id": "3fc2286c",
   "metadata": {},
   "source": [
    "## changes in scores by percent"
   ]
  },
  {
   "cell_type": "code",
   "execution_count": null,
   "id": "d6d9bcfa",
   "metadata": {},
   "outputs": [],
   "source": [
    "#taking only the percentages of scores to make new melt\n",
    "first_percents = first_test_scores.drop(columns = ['fm_B4.0', 'fm_B5.0',\n",
    "       'cog_D2.0', 'cog_E2.0', 'cog_E4.0', 'cog_F1.0', 'cog_G1.0',\n",
    "       'cog_G2.0', 'cog_G3.0', 'cog_G4.0', 'cog_G5.0', 'cog_G6.0',\n",
    "       'sc_B1.0', 'sc_B2.0', 'sc_D1.0', 'sc_D2.0', 'sc_D3.0'])"
   ]
  },
  {
   "cell_type": "code",
   "execution_count": null,
   "id": "3b988287",
   "metadata": {},
   "outputs": [],
   "source": [
    "first_percents.head()"
   ]
  },
  {
   "cell_type": "code",
   "execution_count": null,
   "id": "df933ac3",
   "metadata": {},
   "outputs": [],
   "source": [
    "first_percents = first_percents.rename(columns = {'fm_b4_percent': 'fm_B4', 'fm_b5_percent': 'fm_B5',\n",
    "       'cog_d2_percent': 'cog_D2', 'cog_e2_percent': 'cog_E2', 'cog_e4_percent': 'cog_E4', 'cog_f1_percent': 'cog_F1', 'cog_g1_percent': 'cog_G1',\n",
    "       'cog_g2_percent': 'cog_G2', 'cog_g3_percent': 'cog_G3', 'cog_g4_percent': 'cog_G4', 'cog_g5_percent': 'cog_G5', 'cog_g6_percent': 'cog_G6',\n",
    "       'sc_b1_percent': 'sc_B1', 'sc_b2_percent': 'sc_B2', 'sc_d1_percent': 'sc_D1', 'sc_d2_percent': 'sc_D2', 'sc_d3_percent': 'sc_D3'})"
   ]
  },
  {
   "cell_type": "code",
   "execution_count": null,
   "id": "1c5e976e",
   "metadata": {},
   "outputs": [],
   "source": [
    "first_percents.head(1)"
   ]
  },
  {
   "cell_type": "code",
   "execution_count": null,
   "id": "bc1da25d",
   "metadata": {},
   "outputs": [],
   "source": [
    "last_percents = last_test_scores.drop(columns = ['fm_B4.0', 'fm_B5.0',\n",
    "       'cog_D2.0', 'cog_E2.0', 'cog_E4.0', 'cog_F1.0', 'cog_G1.0',\n",
    "       'cog_G2.0', 'cog_G3.0', 'cog_G4.0', 'cog_G5.0', 'cog_G6.0',\n",
    "       'sc_B1.0', 'sc_B2.0', 'sc_D1.0', 'sc_D2.0', 'sc_D3.0'])"
   ]
  },
  {
   "cell_type": "code",
   "execution_count": null,
   "id": "d7bf8ced",
   "metadata": {
    "scrolled": true
   },
   "outputs": [],
   "source": [
    "last_percents.head()"
   ]
  },
  {
   "cell_type": "code",
   "execution_count": null,
   "id": "b6c5f2c8",
   "metadata": {},
   "outputs": [],
   "source": [
    "last_percents = last_percents.rename(columns = {'fm_b4_percent': 'fm_B4', 'fm_b5_percent': 'fm_B5',\n",
    "       'cog_d2_percent': 'cog_D2', 'cog_e2_percent': 'cog_E2', 'cog_e4_percent': 'cog_E4', 'cog_f1_percent': 'cog_F1', 'cog_g1_percent': 'cog_G1',\n",
    "       'cog_g2_percent': 'cog_G2', 'cog_g3_percent': 'cog_G3', 'cog_g4_percent': 'cog_G4', 'cog_g5_percent': 'cog_G5', 'cog_g6_percent': 'cog_G6',\n",
    "       'sc_b1_percent': 'sc_B1', 'sc_b2_percent': 'sc_B2', 'sc_d1_percent': 'sc_D1', 'sc_d2_percent': 'sc_D2', 'sc_d3_percent': 'sc_D3'})"
   ]
  },
  {
   "cell_type": "code",
   "execution_count": null,
   "id": "543223d9",
   "metadata": {},
   "outputs": [],
   "source": [
    "last_percents.head(1)"
   ]
  },
  {
   "cell_type": "code",
   "execution_count": null,
   "id": "2e6136cf",
   "metadata": {},
   "outputs": [],
   "source": [
    "first_percents_melt = first_percents.melt('score')"
   ]
  },
  {
   "cell_type": "code",
   "execution_count": null,
   "id": "8407ab40",
   "metadata": {},
   "outputs": [],
   "source": [
    "first_percents_melt = first_percents_melt.rename(columns = {'variable': 'item', 'value': 'percent_first'})"
   ]
  },
  {
   "cell_type": "code",
   "execution_count": null,
   "id": "dc42e547",
   "metadata": {},
   "outputs": [],
   "source": [
    "last_percents_melt = last_percents.melt('score')"
   ]
  },
  {
   "cell_type": "code",
   "execution_count": null,
   "id": "49c7167e",
   "metadata": {},
   "outputs": [],
   "source": [
    "last_percents_melt.head()"
   ]
  },
  {
   "cell_type": "code",
   "execution_count": null,
   "id": "e67f81b8",
   "metadata": {},
   "outputs": [],
   "source": [
    "last_percents_melt = last_percents_melt.rename(columns = {'variable': 'item', 'value': 'percent_last'})"
   ]
  },
  {
   "cell_type": "code",
   "execution_count": null,
   "id": "9081ab9e",
   "metadata": {},
   "outputs": [],
   "source": [
    "compare_percents = pd.merge(first_percents_melt, last_percents_melt, on = ['score', 'item'], how = 'outer')"
   ]
  },
  {
   "cell_type": "code",
   "execution_count": null,
   "id": "154949d7",
   "metadata": {},
   "outputs": [],
   "source": [
    "compare_percents.head()"
   ]
  },
  {
   "cell_type": "code",
   "execution_count": null,
   "id": "87eb935b",
   "metadata": {},
   "outputs": [],
   "source": [
    "compare_percents['last_minus_first'] = compare_percents['percent_last'] - compare_percents['percent_first']"
   ]
  },
  {
   "cell_type": "code",
   "execution_count": null,
   "id": "c870d288",
   "metadata": {},
   "outputs": [],
   "source": [
    "compare_percents.head()"
   ]
  },
  {
   "cell_type": "code",
   "execution_count": null,
   "id": "c576bef9",
   "metadata": {},
   "outputs": [],
   "source": [
    "#figure out how to pull up title to not overlap subtitle\n",
    "percent_diff_grid = sns.FacetGrid(compare_percents, col = 'score',\n",
    "                                  hue = 'score',\n",
    "                                  palette = ['#818A9f','#5d6883', '#27365a'],\n",
    "                                  height =6)\n",
    "percent_diff_grid.map(sns.barplot, 'item', 'last_minus_first')\n",
    "\n",
    "percent_diff_grid.fig.suptitle('Difference in Scores From First to Last Test', y=1.05, color = '#FF0000', font='serif', fontsize='20', fontweight='bold')\n",
    "percent_diff_grid.set_xlabels('Item', color = '#FF0000', font='serif', fontsize='14', fontweight='bold')\n",
    "percent_diff_grid.set_ylabels('Percent Difference', color = '#FF0000', font='serif', fontsize='14', fontweight='bold')\n",
    "percent_diff_grid.set_xticklabels(rotation=90);\n",
    "\n",
    "#plt.savefig('../data/Difference_in_Scores_FirstvLast.png', bbox_inches='tight')"
   ]
  },
  {
   "cell_type": "code",
   "execution_count": null,
   "id": "3c89ef42",
   "metadata": {},
   "outputs": [],
   "source": [
    "score0 = compare_percents.loc[compare_percents.score == 0]"
   ]
  },
  {
   "cell_type": "code",
   "execution_count": null,
   "id": "cc116728",
   "metadata": {},
   "outputs": [],
   "source": [
    "plt.figure(figsize = (10,6))\n",
    "sns.barplot(data = score0, \n",
    "           x = 'item', \n",
    "           y = 'last_minus_first')\n",
    "\n",
    "plt.xticks(rotation = 90)\n",
    "plt.title('First Test to Last Test Score Difference by Percent for 0');"
   ]
  },
  {
   "cell_type": "code",
   "execution_count": null,
   "id": "a6a5d8a5",
   "metadata": {},
   "outputs": [],
   "source": [
    "score1 = compare_percents.loc[compare_percents.score == 1]"
   ]
  },
  {
   "cell_type": "code",
   "execution_count": null,
   "id": "f59367f4",
   "metadata": {},
   "outputs": [],
   "source": [
    "plt.figure(figsize = (10,6))\n",
    "sns.barplot(data = score1, \n",
    "           x = 'item', \n",
    "           y = 'last_minus_first')\n",
    "\n",
    "plt.xticks(rotation = 90)\n",
    "plt.title('First Test to Last Test Score Difference by Percent for 1');"
   ]
  },
  {
   "cell_type": "code",
   "execution_count": null,
   "id": "bbc161b6",
   "metadata": {},
   "outputs": [],
   "source": [
    "score2 = compare_percents.loc[compare_percents.score == 2]"
   ]
  },
  {
   "cell_type": "code",
   "execution_count": null,
   "id": "0fa82aaf",
   "metadata": {
    "scrolled": false
   },
   "outputs": [],
   "source": [
    "plt.figure(figsize = (10,6))\n",
    "sns.barplot(data = score2, \n",
    "           x = 'item', \n",
    "           y = 'last_minus_first')\n",
    "\n",
    "plt.xticks(rotation = 90)\n",
    "plt.title('First Test to Last Test Score Difference by Percent for 2');"
   ]
  },
  {
   "cell_type": "markdown",
   "id": "cd8172b2",
   "metadata": {},
   "source": [
    "# no significant differences in results from cleaned and uncleaned data"
   ]
  },
  {
   "cell_type": "markdown",
   "id": "cfdb008f",
   "metadata": {},
   "source": [
    "# scores overview these need to be changed since removing less thatn 183 day child ids\n",
    "### First tests with highest percent of 0 scores - sc_d3, cog_g6, fm_b5, cog_g2, cog_g5\n",
    "### First tests with highest percent of 2 scores - sc_b1, cog_e2, sc_b2, cog_e4, fm_b4\n",
    "\n",
    "### Last tests with highest percent of 0 scores- fm_b5, cog_g2, sc_d3, cog_g6, cog_g5 (diff order but same as first tests)\n",
    "### Last tests with highest percent of 2 scores- sc_b1, sc_b2, cog_e2, cog_e4, cog_d2 (cog_d2 here instead of fm_b4 in first tests)\n",
    "\n",
    "## Largest decrease in 0 scores (most improvement from 0) when comparing difference between first and last-\n",
    "### sc_d1, sc_b2, sc_b1, cog_e4, cog_d2\n",
    "## Smallest decrease in 0 scores(least improvement) when comparing difference between first and last - \n",
    "### fm_b5, cog_g2, cog_g1, cog_g5, cog_g6 (most of these are also the lowest to begin with)\n",
    "## Largest increase in 2 scores(most improvement to 2) when comparing difference between first and last - \n",
    "### sc_b2, sc_b1, cog_e2, cog_e4, cog_d2 (most improved also usually start at higher scores to begin with as well)"
   ]
  },
  {
   "cell_type": "code",
   "execution_count": null,
   "id": "eead2cdb",
   "metadata": {},
   "outputs": [],
   "source": [
    "score0.nlargest(5, 'percent_first')"
   ]
  },
  {
   "cell_type": "code",
   "execution_count": null,
   "id": "d1c4bbdb",
   "metadata": {},
   "outputs": [],
   "source": [
    "score2.nlargest(5, 'percent_first')"
   ]
  },
  {
   "cell_type": "code",
   "execution_count": null,
   "id": "b38f0263",
   "metadata": {},
   "outputs": [],
   "source": [
    "score0.nlargest(5, 'percent_last')"
   ]
  },
  {
   "cell_type": "code",
   "execution_count": null,
   "id": "48bf1758",
   "metadata": {},
   "outputs": [],
   "source": [
    "score2.nlargest(5, 'percent_last')"
   ]
  },
  {
   "cell_type": "code",
   "execution_count": null,
   "id": "aa770e8a",
   "metadata": {},
   "outputs": [],
   "source": [
    "score0.nsmallest(5, 'last_minus_first')"
   ]
  },
  {
   "cell_type": "code",
   "execution_count": null,
   "id": "597594f2",
   "metadata": {},
   "outputs": [],
   "source": [
    "score0.nlargest(5, 'last_minus_first')"
   ]
  },
  {
   "cell_type": "code",
   "execution_count": null,
   "id": "a7ee038c",
   "metadata": {},
   "outputs": [],
   "source": [
    "score2.nlargest(5, 'last_minus_first')"
   ]
  },
  {
   "cell_type": "code",
   "execution_count": null,
   "id": "b976ffbd",
   "metadata": {},
   "outputs": [],
   "source": [
    "score2.nsmallest(5, 'last_minus_first')"
   ]
  },
  {
   "cell_type": "markdown",
   "id": "17b77858",
   "metadata": {},
   "source": [
    "## all scores by time in program"
   ]
  },
  {
   "cell_type": "code",
   "execution_count": null,
   "id": "19608de1",
   "metadata": {
    "scrolled": true
   },
   "outputs": [],
   "source": [
    "pd.set_option('display.max_columns', None)\n",
    "clean_oc2.head()"
   ]
  },
  {
   "cell_type": "code",
   "execution_count": null,
   "id": "85b37efd",
   "metadata": {},
   "outputs": [],
   "source": [
    "time_in_program = clean_oc2.groupby('years_in_program')['fm_B4.0', 'fm_B5.0', 'cog_D2.0', 'cog_E2.0', 'cog_E4.0', 'cog_F1.0', 'cog_G1.0', 'cog_G2.0', 'cog_G3.0', 'cog_G4.0', 'cog_G5.0', 'cog_G6.0', 'sc_B1.0', 'sc_B2.0', 'sc_D1.0', 'sc_D2.0', 'sc_D3.0'].mean()"
   ]
  },
  {
   "cell_type": "code",
   "execution_count": null,
   "id": "77d46257",
   "metadata": {},
   "outputs": [],
   "source": [
    "time_in_program"
   ]
  },
  {
   "cell_type": "markdown",
   "id": "01fcad12",
   "metadata": {},
   "source": [
    "### get avg scores by years in for first test, last test, find the difference"
   ]
  },
  {
   "cell_type": "code",
   "execution_count": null,
   "id": "ebe872ab",
   "metadata": {},
   "outputs": [],
   "source": [
    "first_test_data.head()"
   ]
  },
  {
   "cell_type": "code",
   "execution_count": null,
   "id": "4ebd30e4",
   "metadata": {},
   "outputs": [],
   "source": [
    "time_in_first_test = first_test_data.groupby('years_in_program')['fm_B4.0', 'fm_B5.0', 'cog_D2.0', 'cog_E2.0', 'cog_E4.0', 'cog_F1.0', 'cog_G1.0', 'cog_G2.0', 'cog_G3.0', 'cog_G4.0', 'cog_G5.0', 'cog_G6.0', 'sc_B1.0', 'sc_B2.0', 'sc_D1.0', 'sc_D2.0', 'sc_D3.0'].mean().reset_index()"
   ]
  },
  {
   "cell_type": "code",
   "execution_count": null,
   "id": "2c3f158e",
   "metadata": {
    "scrolled": false
   },
   "outputs": [],
   "source": [
    "time_in_first_test.head()"
   ]
  },
  {
   "cell_type": "code",
   "execution_count": null,
   "id": "fd08184a",
   "metadata": {},
   "outputs": [],
   "source": [
    "time_in_first_test = time_in_first_test.rename(columns = {'fm_B4.0': 'fm_B4', 'fm_B5.0': 'fm_B5',\n",
    "       'cog_D2.0': 'cog_D2', 'cog_E2.0': 'cog_E2', 'cog_E4.0': 'cog_E4', 'cog_F1.0': 'cog_F1', 'cog_G1.0': 'cog_G1',\n",
    "       'cog_G2.0': 'cog_G2', 'cog_G3.0': 'cog_G3', 'cog_G4.0': 'cog_G4', 'cog_G5.0': 'cog_G5', 'cog_G6.0': 'cog_G6',\n",
    "       'sc_B1.0': 'sc_B1', 'sc_B2.0': 'sc_B2', 'sc_D1.0': 'sc_D1', 'sc_D2.0': 'sc_D2', 'sc_D3.0': 'sc_D3'})"
   ]
  },
  {
   "cell_type": "code",
   "execution_count": null,
   "id": "f2765002",
   "metadata": {},
   "outputs": [],
   "source": [
    "time_in_first_test.dtypes"
   ]
  },
  {
   "cell_type": "code",
   "execution_count": null,
   "id": "525499df",
   "metadata": {},
   "outputs": [],
   "source": [
    "last_test_data.head()"
   ]
  },
  {
   "cell_type": "code",
   "execution_count": null,
   "id": "11e932e2",
   "metadata": {},
   "outputs": [],
   "source": [
    "time_in_last_test = last_test_data.groupby('years_in_program')['fm_B4.0', 'fm_B5.0', 'cog_D2.0', 'cog_E2.0', 'cog_E4.0', 'cog_F1.0', 'cog_G1.0', 'cog_G2.0', 'cog_G3.0', 'cog_G4.0', 'cog_G5.0', 'cog_G6.0', 'sc_B1.0', 'sc_B2.0', 'sc_D1.0', 'sc_D2.0', 'sc_D3.0'].mean().reset_index()"
   ]
  },
  {
   "cell_type": "code",
   "execution_count": null,
   "id": "280bf348",
   "metadata": {
    "scrolled": true
   },
   "outputs": [],
   "source": [
    "time_in_last_test.head()"
   ]
  },
  {
   "cell_type": "code",
   "execution_count": null,
   "id": "8bca2d57",
   "metadata": {},
   "outputs": [],
   "source": [
    "time_in_last_test = time_in_last_test.rename(columns = {'fm_B4.0': 'fm_B4', 'fm_B5.0': 'fm_B5',\n",
    "       'cog_D2.0': 'cog_D2', 'cog_E2.0': 'cog_E2', 'cog_E4.0': 'cog_E4', 'cog_F1.0': 'cog_F1', 'cog_G1.0': 'cog_G1',\n",
    "       'cog_G2.0': 'cog_G2', 'cog_G3.0': 'cog_G3', 'cog_G4.0': 'cog_G4', 'cog_G5.0': 'cog_G5', 'cog_G6.0': 'cog_G6',\n",
    "       'sc_B1.0': 'sc_B1', 'sc_B2.0': 'sc_B2', 'sc_D1.0': 'sc_D1', 'sc_D2.0': 'sc_D2', 'sc_D3.0': 'sc_D3'})"
   ]
  },
  {
   "cell_type": "code",
   "execution_count": null,
   "id": "ab5967f9",
   "metadata": {},
   "outputs": [],
   "source": [
    "time_in_first_melt = time_in_first_test.melt('years_in_program')"
   ]
  },
  {
   "cell_type": "code",
   "execution_count": null,
   "id": "91a62c66",
   "metadata": {},
   "outputs": [],
   "source": [
    "time_in_first_melt.head()"
   ]
  },
  {
   "cell_type": "code",
   "execution_count": null,
   "id": "8eb66cca",
   "metadata": {},
   "outputs": [],
   "source": [
    "time_in_first_melt = time_in_first_melt.rename(columns = {'variable': 'item', 'value': 'first_avg_score'})"
   ]
  },
  {
   "cell_type": "code",
   "execution_count": null,
   "id": "8d292af8",
   "metadata": {},
   "outputs": [],
   "source": [
    "time_in_first_melt.head()"
   ]
  },
  {
   "cell_type": "code",
   "execution_count": null,
   "id": "3efacafb",
   "metadata": {},
   "outputs": [],
   "source": [
    "time_in_last_melt = time_in_last_test.melt('years_in_program')"
   ]
  },
  {
   "cell_type": "code",
   "execution_count": null,
   "id": "f63a9d2b",
   "metadata": {},
   "outputs": [],
   "source": [
    "time_in_last_melt.head()"
   ]
  },
  {
   "cell_type": "code",
   "execution_count": null,
   "id": "e905bd64",
   "metadata": {},
   "outputs": [],
   "source": [
    "time_in_last_melt = time_in_last_melt.rename(columns = {'variable': 'item', 'value': 'last_avg_score'})"
   ]
  },
  {
   "cell_type": "code",
   "execution_count": null,
   "id": "681b4275",
   "metadata": {},
   "outputs": [],
   "source": [
    "time_in_last_melt.head()"
   ]
  },
  {
   "cell_type": "code",
   "execution_count": null,
   "id": "ec0cbb25",
   "metadata": {},
   "outputs": [],
   "source": [
    "compare_by_time_in = pd.merge(time_in_first_melt, time_in_last_melt, on = ['years_in_program', 'item'], how = 'outer')"
   ]
  },
  {
   "cell_type": "code",
   "execution_count": null,
   "id": "189bcef6",
   "metadata": {},
   "outputs": [],
   "source": [
    "compare_by_time_in.head()"
   ]
  },
  {
   "cell_type": "code",
   "execution_count": null,
   "id": "c91c1227",
   "metadata": {},
   "outputs": [],
   "source": [
    "compare_by_time_in['last_minus_first'] = compare_by_time_in['last_avg_score'] - compare_by_time_in['first_avg_score']"
   ]
  },
  {
   "cell_type": "code",
   "execution_count": null,
   "id": "494d67d6",
   "metadata": {
    "scrolled": true
   },
   "outputs": [],
   "source": [
    "compare_by_time_in.head()"
   ]
  },
  {
   "cell_type": "code",
   "execution_count": null,
   "id": "95d2d14f",
   "metadata": {},
   "outputs": [],
   "source": [
    "compare_by_time_in = compare_by_time_in.rename(columns = {'years_in_program': 'Years in Program'})"
   ]
  },
  {
   "cell_type": "markdown",
   "id": "05507b64",
   "metadata": {},
   "source": [
    "## as usual my FacetGrid is ugly, for now I will just break these out into individual graphs, but you can see that with more years in the program there is an increase in score improvement"
   ]
  },
  {
   "cell_type": "code",
   "execution_count": null,
   "id": "f8bb6eb2",
   "metadata": {},
   "outputs": [],
   "source": [
    "# i dont know how to make this look right?\n",
    "diff_by_time_grid = sns.FacetGrid(compare_by_time_in, col = 'Years in Program',\n",
    "                                  col_wrap = 2,\n",
    "                                  hue = 'Years in Program',\n",
    "                                  palette = ['#C9CDD6', '#818AF9','#394768', '#27365a'],\n",
    "                                  height =6)\n",
    "diff_by_time_grid.map(sns.barplot, 'item', 'last_minus_first')\n",
    "\n",
    "diff_by_time_grid.fig.suptitle('Average Score Improvements by Time Receiving Services', y=1.05, color = '#FF0000', font='serif', fontsize='20', fontweight='bold')\n",
    "diff_by_time_grid.set_xlabels('Item', color = '#FF0000', font='serif', fontsize='14', fontweight='bold')\n",
    "diff_by_time_grid.set_ylabels('Difference in Average Score', color = '#FF0000', font='serif', fontsize='14', fontweight='bold')\n",
    "diff_by_time_grid.set_xticklabels(rotation=90);\n",
    "\n",
    "#plt.savefig('../data/diff_btwn_years_in_program.png',  bbox_inches='tight')\n"
   ]
  },
  {
   "cell_type": "code",
   "execution_count": null,
   "id": "b63ee07e",
   "metadata": {},
   "outputs": [],
   "source": [
    "# i dont know how to make this look right?\n",
    "diff_by_time_grid = sns.FacetGrid(compare_by_time_in, col = 'Years in Program',\n",
    "                                  hue = 'Years in Program',\n",
    "                                  palette = ['#b7bcc8', '#818A9f','#5d6883', '#27365a'],\n",
    "                                  height =6)\n",
    "diff_by_time_grid.map(sns.barplot, 'item', 'last_minus_first')\n",
    "\n",
    "diff_by_time_grid.fig.suptitle('Average Score Improvements by Time Receiving Services', y=1.05, color = '#FF0000', font='serif', fontsize='20', fontweight='bold')\n",
    "diff_by_time_grid.set_xlabels('Item', color = '#FF0000', font='serif', fontsize='14', fontweight='bold')\n",
    "diff_by_time_grid.set_ylabels('Difference in Average Score', color = '#FF0000', font='serif', fontsize='14', fontweight='bold')\n",
    "diff_by_time_grid.set_xticklabels(rotation=90);\n",
    "\n",
    "#plt.savefig('../data/diff_btwn_years_in_program.png',  bbox_inches='tight')"
   ]
  },
  {
   "cell_type": "code",
   "execution_count": null,
   "id": "9724dbec",
   "metadata": {},
   "outputs": [],
   "source": [
    "time_to_1 = compare_by_time_in.loc[compare_by_time_in['Years in Program'] == '0.5-1']"
   ]
  },
  {
   "cell_type": "code",
   "execution_count": null,
   "id": "5a34996d",
   "metadata": {},
   "outputs": [],
   "source": [
    "time_to_1.head()"
   ]
  },
  {
   "cell_type": "code",
   "execution_count": null,
   "id": "6fb4af16",
   "metadata": {},
   "outputs": [],
   "source": [
    "time_to_1p5 = compare_by_time_in.loc[compare_by_time_in['Years in Program'] == '1-1.5']"
   ]
  },
  {
   "cell_type": "code",
   "execution_count": null,
   "id": "7ff91f0e",
   "metadata": {},
   "outputs": [],
   "source": [
    "time_to_1p5.head()"
   ]
  },
  {
   "cell_type": "code",
   "execution_count": null,
   "id": "9a61479e",
   "metadata": {},
   "outputs": [],
   "source": [
    "time_to_2 = compare_by_time_in.loc[compare_by_time_in['Years in Program'] == '1.5-2']"
   ]
  },
  {
   "cell_type": "code",
   "execution_count": null,
   "id": "db0006a7",
   "metadata": {},
   "outputs": [],
   "source": [
    "time_to_2.head()"
   ]
  },
  {
   "cell_type": "code",
   "execution_count": null,
   "id": "fbd96f5b",
   "metadata": {},
   "outputs": [],
   "source": [
    "time_to_2p7 = compare_by_time_in.loc[compare_by_time_in['Years in Program'] == '2-2.7']"
   ]
  },
  {
   "cell_type": "code",
   "execution_count": null,
   "id": "caccba5f",
   "metadata": {},
   "outputs": [],
   "source": [
    "time_to_2p7.head()"
   ]
  },
  {
   "cell_type": "code",
   "execution_count": null,
   "id": "a05a06a2",
   "metadata": {},
   "outputs": [],
   "source": [
    "plt.figure(figsize = (10,6))\n",
    "sns.barplot(data = time_to_1, \n",
    "           x = 'item', \n",
    "           y = 'last_minus_first')\n",
    "\n",
    "plt.xticks(rotation = 90)\n",
    "plt.title('Average Score Improvements 0.5-1 Year in Program');\n",
    "plt.xlabel('Item')\n",
    "plt.ylabel('Average Difference In Score')"
   ]
  },
  {
   "cell_type": "code",
   "execution_count": null,
   "id": "5f9478eb",
   "metadata": {},
   "outputs": [],
   "source": [
    "plt.figure(figsize = (10,6))\n",
    "sns.barplot(data = time_to_1p5, \n",
    "           x = 'item', \n",
    "           y = 'last_minus_first')\n",
    "\n",
    "plt.xticks(rotation = 90)\n",
    "plt.title('Average Score Improvements 1-1.5 Years in Program');\n",
    "plt.xlabel('Item')\n",
    "plt.ylabel('Average Difference In Score')"
   ]
  },
  {
   "cell_type": "code",
   "execution_count": null,
   "id": "2da3c9c4",
   "metadata": {},
   "outputs": [],
   "source": [
    "plt.figure(figsize = (10,6))\n",
    "sns.barplot(data = time_to_2, \n",
    "           x = 'item', \n",
    "           y = 'last_minus_first')\n",
    "\n",
    "plt.xticks(rotation = 90)\n",
    "plt.title('Average Score Improvements 1.5-2 Year in Program');\n",
    "plt.xlabel('Item')\n",
    "plt.ylabel('Average Difference In Score')"
   ]
  },
  {
   "cell_type": "code",
   "execution_count": null,
   "id": "93ba8dd4",
   "metadata": {},
   "outputs": [],
   "source": [
    "plt.figure(figsize = (10,6))\n",
    "sns.barplot(data = time_to_2p7, \n",
    "           x = 'item', \n",
    "           y = 'last_minus_first')\n",
    "\n",
    "plt.xticks(rotation = 90)\n",
    "plt.title('Average Score Improvements 2-2.7 Year in Program');\n",
    "plt.xlabel('Item')\n",
    "plt.ylabel('Average Difference In Score')"
   ]
  },
  {
   "cell_type": "markdown",
   "id": "ec8fe0c3",
   "metadata": {},
   "source": [
    "## items with least improvement: fm_b5, cog_g2, cog_g1, cog_g4"
   ]
  },
  {
   "cell_type": "code",
   "execution_count": null,
   "id": "3d15942a",
   "metadata": {},
   "outputs": [],
   "source": [
    "time_to_1.nsmallest(5, 'last_minus_first')"
   ]
  },
  {
   "cell_type": "code",
   "execution_count": null,
   "id": "eb14609c",
   "metadata": {},
   "outputs": [],
   "source": [
    "time_to_1p5.nsmallest(5, 'last_minus_first')"
   ]
  },
  {
   "cell_type": "code",
   "execution_count": null,
   "id": "932aec83",
   "metadata": {},
   "outputs": [],
   "source": [
    "time_to_2.nsmallest(5, 'last_minus_first')"
   ]
  },
  {
   "cell_type": "code",
   "execution_count": null,
   "id": "df940144",
   "metadata": {},
   "outputs": [],
   "source": [
    "time_to_2p7.nsmallest(5, 'last_minus_first')"
   ]
  },
  {
   "cell_type": "markdown",
   "id": "7cd2fc7d",
   "metadata": {},
   "source": [
    "## items with most improvement - sc_b2, sc_b1, sc_d1, cog_e2, "
   ]
  },
  {
   "cell_type": "code",
   "execution_count": null,
   "id": "c080c30d",
   "metadata": {},
   "outputs": [],
   "source": [
    "time_to_1.nlargest(5, 'last_minus_first')"
   ]
  },
  {
   "cell_type": "code",
   "execution_count": null,
   "id": "77e7ebb8",
   "metadata": {},
   "outputs": [],
   "source": [
    "time_to_1p5.nlargest(5, 'last_minus_first')"
   ]
  },
  {
   "cell_type": "code",
   "execution_count": null,
   "id": "476a51b5",
   "metadata": {},
   "outputs": [],
   "source": [
    "time_to_2.nlargest(5, 'last_minus_first')"
   ]
  },
  {
   "cell_type": "code",
   "execution_count": null,
   "id": "d2b3eeff",
   "metadata": {},
   "outputs": [],
   "source": [
    "time_to_2p7.nlargest(5, 'last_minus_first')"
   ]
  },
  {
   "cell_type": "code",
   "execution_count": null,
   "id": "a888a93d",
   "metadata": {},
   "outputs": [],
   "source": []
  }
 ],
 "metadata": {
  "kernelspec": {
   "display_name": "Python 3 (ipykernel)",
   "language": "python",
   "name": "python3"
  },
  "language_info": {
   "codemirror_mode": {
    "name": "ipython",
    "version": 3
   },
   "file_extension": ".py",
   "mimetype": "text/x-python",
   "name": "python",
   "nbconvert_exporter": "python",
   "pygments_lexer": "ipython3",
   "version": "3.9.7"
  }
 },
 "nbformat": 4,
 "nbformat_minor": 5
}

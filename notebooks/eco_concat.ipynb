{
 "cells": [
  {
   "cell_type": "code",
   "execution_count": null,
   "id": "47ed4457",
   "metadata": {},
   "outputs": [],
   "source": [
    "import pandas as pd\n",
    "import numpy as np\n",
    "import matplotlib.pyplot as plt\n",
    "import seaborn as sns"
   ]
  },
  {
   "cell_type": "code",
   "execution_count": null,
   "id": "e798fa3d",
   "metadata": {},
   "outputs": [],
   "source": [
    "aeps = pd.read_excel('../data/AEPSi Data for NSS.xlsx', sheet_name='AEPS 2017-2022')"
   ]
  },
  {
   "cell_type": "code",
   "execution_count": null,
   "id": "db7e6510",
   "metadata": {},
   "outputs": [],
   "source": [
    "eco_20 = pd.read_excel('../data/AEPSi Data for NSS.xlsx', sheet_name='ECO with Exit 20-21')"
   ]
  },
  {
   "cell_type": "code",
   "execution_count": null,
   "id": "ae6e9439",
   "metadata": {},
   "outputs": [],
   "source": [
    "eco_21 = pd.read_excel('../data/AEPSi Data for NSS.xlsx', sheet_name='ECO with Exit21-22')"
   ]
  },
  {
   "cell_type": "code",
   "execution_count": null,
   "id": "38716bac",
   "metadata": {
    "scrolled": true
   },
   "outputs": [],
   "source": [
    "eco_20.head()"
   ]
  },
  {
   "cell_type": "code",
   "execution_count": null,
   "id": "d3b5f75f",
   "metadata": {},
   "outputs": [],
   "source": [
    "eco_20.shape"
   ]
  },
  {
   "cell_type": "code",
   "execution_count": null,
   "id": "c44633a9",
   "metadata": {
    "scrolled": true
   },
   "outputs": [],
   "source": [
    "eco_20.info()"
   ]
  },
  {
   "cell_type": "code",
   "execution_count": null,
   "id": "070c12d7",
   "metadata": {},
   "outputs": [],
   "source": [
    "eco_20.dtypes"
   ]
  },
  {
   "cell_type": "code",
   "execution_count": null,
   "id": "577e7cc7",
   "metadata": {},
   "outputs": [],
   "source": [
    "eco_21.head()"
   ]
  },
  {
   "cell_type": "code",
   "execution_count": null,
   "id": "c8a0e602",
   "metadata": {},
   "outputs": [],
   "source": [
    "eco_21.shape"
   ]
  },
  {
   "cell_type": "code",
   "execution_count": null,
   "id": "a35d901c",
   "metadata": {},
   "outputs": [],
   "source": [
    "eco_20['exit'] = '20-21'\n",
    "eco_21['exit'] = '21-22'"
   ]
  },
  {
   "cell_type": "code",
   "execution_count": null,
   "id": "dd7d225f",
   "metadata": {},
   "outputs": [],
   "source": [
    "eco_21 = eco_21.rename(columns = {'ExitIS_SOCIAL_PROGRESS': 'Exit IS_SOCIAL_PROGRESS', 'ExitIS_KNOWLEDGE_PROGRESS' : 'Exit IS_KNOWLEDGE_PROGRESS', 'ExitIS_APPROPRIATE_ACTION_PROGRESS' : 'Exit IS_APPROPRIATE_ACTION_PROGRESS'})"
   ]
  },
  {
   "cell_type": "code",
   "execution_count": null,
   "id": "b0fd63cd",
   "metadata": {},
   "outputs": [],
   "source": [
    "columns20 = eco_20.columns.tolist()"
   ]
  },
  {
   "cell_type": "code",
   "execution_count": null,
   "id": "9a4be9c4",
   "metadata": {},
   "outputs": [],
   "source": [
    "columns21 = eco_21.columns.tolist()"
   ]
  },
  {
   "cell_type": "code",
   "execution_count": null,
   "id": "1e9aca47",
   "metadata": {},
   "outputs": [],
   "source": [
    "column_comparison = dict(zip(columns20, columns21))"
   ]
  },
  {
   "cell_type": "code",
   "execution_count": null,
   "id": "aafa126f",
   "metadata": {
    "scrolled": true
   },
   "outputs": [],
   "source": [
    "column_comparison"
   ]
  },
  {
   "cell_type": "code",
   "execution_count": null,
   "id": "7446516c",
   "metadata": {},
   "outputs": [],
   "source": [
    "eco = pd.concat([eco_20, eco_21])"
   ]
  },
  {
   "cell_type": "code",
   "execution_count": null,
   "id": "7f01f9b6",
   "metadata": {},
   "outputs": [],
   "source": [
    "eco.head()"
   ]
  },
  {
   "cell_type": "code",
   "execution_count": null,
   "id": "17e12ab5",
   "metadata": {},
   "outputs": [],
   "source": [
    "eco.shape"
   ]
  },
  {
   "cell_type": "code",
   "execution_count": null,
   "id": "2a481e35",
   "metadata": {},
   "outputs": [],
   "source": [
    "eco.columns"
   ]
  },
  {
   "cell_type": "code",
   "execution_count": null,
   "id": "9453588c",
   "metadata": {},
   "outputs": [],
   "source": [
    "eco.info()"
   ]
  },
  {
   "cell_type": "code",
   "execution_count": null,
   "id": "6c6bf3c6",
   "metadata": {},
   "outputs": [],
   "source": [
    "eco.CHILD_ID.nunique()"
   ]
  },
  {
   "cell_type": "markdown",
   "id": "b41e6068",
   "metadata": {},
   "source": [
    "for further validation, column comparison between the 20-21 and 21-22 tabs should be reviewed"
   ]
  }
 ],
 "metadata": {
  "kernelspec": {
   "display_name": "Python 3 (ipykernel)",
   "language": "python",
   "name": "python3"
  },
  "language_info": {
   "codemirror_mode": {
    "name": "ipython",
    "version": 3
   },
   "file_extension": ".py",
   "mimetype": "text/x-python",
   "name": "python",
   "nbconvert_exporter": "python",
   "pygments_lexer": "ipython3",
   "version": "3.9.7"
  }
 },
 "nbformat": 4,
 "nbformat_minor": 5
}

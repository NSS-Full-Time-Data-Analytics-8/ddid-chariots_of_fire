{
 "cells": [
  {
   "cell_type": "markdown",
   "id": "ff77a0ad",
   "metadata": {},
   "source": [
    "# AEPS Improvement by Point of Entry\n",
    "\n",
    "This workbook creates two graphs included in the final presentation to DDID:\n",
    "- Slide 12 -- Lowest Items: Average Improvement by Point of Entry\n",
    "- Slide 14 -- Highest Items: Average Improvement by Point of Entry\n",
    "\n",
    "This workbook also includes other analyses of AEPS scores focused on Point of Entry.\n"
   ]
  },
  {
   "cell_type": "code",
   "execution_count": null,
   "id": "36a31baa",
   "metadata": {},
   "outputs": [],
   "source": [
    "import pandas as pd\n",
    "import matplotlib.pyplot as plt\n",
    "import seaborn as sns\n",
    "import datetime as dt"
   ]
  },
  {
   "cell_type": "code",
   "execution_count": null,
   "id": "46df29ea",
   "metadata": {},
   "outputs": [],
   "source": [
    "%matplotlib inline"
   ]
  },
  {
   "cell_type": "code",
   "execution_count": null,
   "id": "45cb2d38",
   "metadata": {},
   "outputs": [],
   "source": [
    "# Read in csv created by running aeps_cleaning notebook.\n",
    "aeps_df = pd.read_csv('../data/aeps_cleansed_data.csv')"
   ]
  },
  {
   "cell_type": "markdown",
   "id": "cd031e8f",
   "metadata": {},
   "source": [
    "### POE Name and Abbreviation\n",
    "Changing main dataframe to have two columns with POE info:\n",
    "- **poe_name:** Full name of POE. Renamed existing column 'TEIS Point of Entry Office (POE)'.\n",
    "- **poe_abbr:** Two letter abbreviation for POE."
   ]
  },
  {
   "cell_type": "code",
   "execution_count": null,
   "id": "f5d18d02",
   "metadata": {},
   "outputs": [],
   "source": [
    "aeps_df = aeps_df.rename(columns = {'TEIS Point of Entry Office (POE)': 'poe_name'})"
   ]
  },
  {
   "cell_type": "code",
   "execution_count": null,
   "id": "a01f16b4",
   "metadata": {
    "scrolled": false
   },
   "outputs": [],
   "source": [
    "aeps_df['poe_name'].value_counts(dropna = False)"
   ]
  },
  {
   "cell_type": "code",
   "execution_count": null,
   "id": "5c3a148d",
   "metadata": {
    "scrolled": false
   },
   "outputs": [],
   "source": [
    "poe_data = [['East Tennessee', 'ET'],\n",
    "            ['Greater Nashville Tennessee', 'GN'],\n",
    "            ['Southcentral Tennessee', 'SC'],\n",
    "            ['First Tennessee', 'FT'],\n",
    "            ['Memphis/Delta Tennessee', 'MD'],\n",
    "            ['Upper Cumberland Tennessee', 'UC'],\n",
    "            ['Southeast Tennessee', 'SE'],\n",
    "            ['Southwest Tennessee', 'SW'],\n",
    "            ['Northwest Tennessee', 'NW']]\n",
    "poe_abbr_df = pd.DataFrame(data = poe_data, columns=['poe_name', 'poe_abbr'])"
   ]
  },
  {
   "cell_type": "code",
   "execution_count": null,
   "id": "08538af0",
   "metadata": {},
   "outputs": [],
   "source": [
    "aeps_df = pd.merge(aeps_df, poe_abbr_df, how = 'left', on = ['poe_name', 'poe_name'])"
   ]
  },
  {
   "cell_type": "markdown",
   "id": "74fd3ac9",
   "metadata": {},
   "source": [
    "### Rename Item and Test Date Columns"
   ]
  },
  {
   "cell_type": "code",
   "execution_count": null,
   "id": "34877c01",
   "metadata": {},
   "outputs": [],
   "source": [
    "aeps_df = aeps_df.rename(columns = {'Test Date': 'test_date'})"
   ]
  },
  {
   "cell_type": "code",
   "execution_count": null,
   "id": "1d1bc912",
   "metadata": {},
   "outputs": [],
   "source": [
    "aeps_df = aeps_df.rename(columns = {'fm_B4.0':'FM B4.0', 'fm_B5.0':'FM B5.0', 'cog_D2.0':'COG D2.0', 'cog_E2.0':'COG E2.0', \n",
    "                                    'cog_E4.0':'COG E4.0', 'cog_F1.0':'COG F1.0', 'cog_G1.0':'COG G1.0', \n",
    "                                    'cog_G2.0':'COG G2.0', 'cog_G3.0':'COG G3.0', 'cog_G4.0':'COG G4.0', \n",
    "                                    'cog_G5.0':'COG G5.0', 'cog_G6.0':'COG G6.0', 'sc_B1.0':'SC B1.0', \n",
    "                                    'sc_B2.0':'SC B2.0', 'sc_D1.0':'SC D1.0', 'sc_D2.0':'SC D2.0', 'sc_D3.0':'SC D3.0'})"
   ]
  },
  {
   "cell_type": "markdown",
   "id": "2f7b9b80",
   "metadata": {},
   "source": [
    "### First and Last Test Scores\n",
    "This section creates dataframes containing only first tests and last tests.\n",
    "It also filters out records for children who do not have a first and last test at least 183 days apart."
   ]
  },
  {
   "cell_type": "code",
   "execution_count": null,
   "id": "570139d3",
   "metadata": {},
   "outputs": [],
   "source": [
    "#Makes a copy of aeps_df to use in this section.\n",
    "test_dates = aeps_df.copy()"
   ]
  },
  {
   "cell_type": "code",
   "execution_count": null,
   "id": "4d2aa342",
   "metadata": {},
   "outputs": [],
   "source": [
    "test_dates['test_date'] = pd.to_datetime(test_dates['test_date'], errors = 'coerce')"
   ]
  },
  {
   "cell_type": "code",
   "execution_count": null,
   "id": "1b7f6368",
   "metadata": {},
   "outputs": [],
   "source": [
    "test_dates = test_dates.dropna(subset=['test_date'])\n",
    "print('Count of all tests: ',test_dates.shape[0])"
   ]
  },
  {
   "cell_type": "code",
   "execution_count": null,
   "id": "4c9fe7f5",
   "metadata": {
    "scrolled": true
   },
   "outputs": [],
   "source": [
    "#First and last tests for each Child ID are determined based on looking for the min and max test_date for that Child ID.\n",
    "#If a Child ID has only one test, it will be counted as a first test and as a last test (instead of only counting as \n",
    "#a first test); this won't matter in a few steps after we filter out children that don't have a first and last test \n",
    "#more than 183 days apart.\n",
    "\n",
    "#first_test_list is a dataframe that includes only Child ID and test_date, where test_date contains the date of the \n",
    "#child's first test. last_test_list is similar except that test_date contains the date of the child's last test.\n",
    "first_test_list = test_dates.groupby('Child ID')['test_date'].min().reset_index()\n",
    "last_test_list = test_dates.groupby('Child ID')['test_date'].max().reset_index()"
   ]
  },
  {
   "cell_type": "code",
   "execution_count": null,
   "id": "d4d89b74",
   "metadata": {},
   "outputs": [],
   "source": [
    "#Create first_test_data, which is a dataframe contains only rows from test_dates that represent first tests. \n",
    "first_test_data = pd.merge(first_test_list, test_dates, how = 'inner', on = ['Child ID', 'test_date'])\n",
    "print('Count of first tests: ',first_test_data.shape[0])\n",
    "\n",
    "#Create last_test_data, which is a dataframe contains only rows from test_dates that represent last tests. \n",
    "last_test_data = pd.merge(last_test_list, test_dates, how = 'inner', on = ['Child ID', 'test_date'])\n",
    "print('Count of last tests: ',last_test_data.shape[0])"
   ]
  },
  {
   "cell_type": "code",
   "execution_count": null,
   "id": "96ac6cbc",
   "metadata": {},
   "outputs": [],
   "source": [
    "#Create dataframe containing one for each unique Child ID that shows the dates of their first and last tests\n",
    "#and the number of days between their first and last tests.\n",
    "\n",
    "first_test_temp_list = first_test_list.rename(columns = {'test_date': 'first_test_date'})\n",
    "last_test_temp_list = last_test_list.rename(columns = {'test_date': 'last_test_date'})\n",
    "\n",
    "child_fl_test_dates = pd.merge(first_test_temp_list, last_test_temp_list, on=['Child ID', 'Child ID'])\n",
    "child_fl_test_dates['diff_days'] = (child_fl_test_dates['last_test_date'] - child_fl_test_dates['first_test_date']).dt.days\n",
    "print('Count of unique Child IDs: ',child_fl_test_dates.shape[0])\n",
    "child_fl_test_dates.head()"
   ]
  },
  {
   "cell_type": "code",
   "execution_count": null,
   "id": "665914a4",
   "metadata": {
    "scrolled": true
   },
   "outputs": [],
   "source": [
    "child_keep_list = child_fl_test_dates.loc[child_fl_test_dates.diff_days >= 183]\n",
    "print('Count of Child IDs that have a first and last test at least 183 days apart: ',child_keep_list.shape[0])"
   ]
  },
  {
   "cell_type": "code",
   "execution_count": null,
   "id": "778f31e7",
   "metadata": {
    "scrolled": true
   },
   "outputs": [],
   "source": [
    "#Filter main aeps_df dataframe to only include rows for children with more than 183 days between first and last tests.\n",
    "print('Count of unique Child IDs before filtering:', aeps_df['Child ID'].value_counts().shape[0])\n",
    "print('Count of all tests before filtering: ', aeps_df.shape[0])\n",
    "aeps_df = aeps_df.loc[aeps_df['Child ID'].isin(child_keep_list['Child ID'])]\n",
    "print('Count of unique Child IDs after filtering:', aeps_df['Child ID'].value_counts().shape[0])\n",
    "print('Count of all tests after filtering: ', aeps_df.shape[0])"
   ]
  },
  {
   "cell_type": "code",
   "execution_count": null,
   "id": "9bbf0bc8",
   "metadata": {},
   "outputs": [],
   "source": [
    "#Filter first_test_data and last_test_data to only include rows for children with more than 183 days\n",
    "#between first and last tests.\n",
    "print('Count of first tests before filtering: ', first_test_data.shape[0])\n",
    "first_test_data = first_test_data.loc[first_test_data['Child ID'].isin(child_keep_list['Child ID'])]\n",
    "print('Count of first tests after filtering: ', first_test_data.shape[0])\n",
    "\n",
    "print('Count of last tests before filtering: ', last_test_data.shape[0])\n",
    "last_test_data = last_test_data.loc[last_test_data['Child ID'].isin(child_keep_list['Child ID'])]\n",
    "print('Count of last tests after filtering: ', last_test_data.shape[0])"
   ]
  },
  {
   "cell_type": "markdown",
   "id": "d7dc12ae",
   "metadata": {},
   "source": [
    "### Average Scores for First and Last Tests"
   ]
  },
  {
   "cell_type": "code",
   "execution_count": null,
   "id": "a0e36526",
   "metadata": {},
   "outputs": [],
   "source": [
    "#These lists are used throughout notebook to select a subset of columns for specific tests.\n",
    "outcome_b_items = ['FM B4.0', 'FM B5.0', 'COG D2.0', 'COG E2.0', 'COG E4.0', 'COG F1.0', 'COG G1.0', 'COG G2.0', \n",
    "                   'COG G3.0', 'COG G4.0', 'COG G5.0', 'COG G6.0', 'SC B1.0', 'SC B2.0', 'SC D1.0', 'SC D2.0', 'SC D3.0']\n",
    "outcome_b_low_items = ['FM B5.0', 'COG G2.0', 'SC D3.0']\n",
    "outcome_b_high_items = ['FM B4.0', 'COG E2.0', 'SC B1.0']"
   ]
  },
  {
   "cell_type": "code",
   "execution_count": null,
   "id": "08d102e6",
   "metadata": {
    "scrolled": true
   },
   "outputs": [],
   "source": [
    "poe_ft_scores = first_test_data[['poe_name', 'poe_abbr'] + outcome_b_items]\n",
    "poe_lt_scores = last_test_data[['poe_name', 'poe_abbr'] + outcome_b_items]"
   ]
  },
  {
   "cell_type": "code",
   "execution_count": null,
   "id": "5eda3d63",
   "metadata": {},
   "outputs": [],
   "source": [
    "#Create dataframes containing the average scores for each test grouped by POE.\n",
    "poe_ft_avg_scores = poe_ft_scores.groupby(['poe_name', 'poe_abbr']).agg('mean')\n",
    "poe_ft_avg_scores = poe_ft_avg_scores.loc[:,'FM B4.0':].reset_index()\n",
    "\n",
    "poe_lt_avg_scores = poe_lt_scores.groupby(['poe_name', 'poe_abbr']).agg('mean')\n",
    "poe_lt_avg_scores = poe_lt_avg_scores.loc[:,'FM B4.0':].reset_index()\n",
    "\n",
    "poe_lt_avg_scores.head()"
   ]
  },
  {
   "cell_type": "code",
   "execution_count": null,
   "id": "4f3dd21b",
   "metadata": {
    "scrolled": true
   },
   "outputs": [],
   "source": [
    "poe_ft_avg_scores_melt = pd.melt(poe_ft_avg_scores, \n",
    "                                 id_vars=['poe_name', 'poe_abbr'],\n",
    "                                 var_name='item',\n",
    "                                 value_name='ft_avg_score')\n",
    "poe_ft_avg_scores_melt.head()\n",
    "\n",
    "poe_lt_avg_scores_melt = pd.melt(poe_lt_avg_scores, \n",
    "                                 id_vars=['poe_name', 'poe_abbr'],\n",
    "                                 var_name='item',\n",
    "                                 value_name='lt_avg_score')\n",
    "poe_lt_avg_scores_melt.head()"
   ]
  },
  {
   "cell_type": "markdown",
   "id": "d0d44fbd",
   "metadata": {},
   "source": [
    "### Difference in Average Scores"
   ]
  },
  {
   "cell_type": "code",
   "execution_count": null,
   "id": "6b3b02e8",
   "metadata": {
    "scrolled": true
   },
   "outputs": [],
   "source": [
    "#Merge results from prior step to create data frame that shows the first test average score, last test average score,\n",
    "#and average score difference for each combination of POE and item.\n",
    "\n",
    "poe_avg_scores_diff = pd.merge(poe_ft_avg_scores_melt, \n",
    "                                   poe_lt_avg_scores_melt, \n",
    "                                   how = 'inner', \n",
    "                                   on = ['poe_name','poe_abbr', 'item'])\n",
    "\n",
    "poe_avg_scores_diff['avg_score_diff'] = poe_avg_scores_diff['lt_avg_score'] - poe_avg_scores_diff['ft_avg_score']\n",
    "poe_avg_scores_diff.head()"
   ]
  },
  {
   "cell_type": "code",
   "execution_count": null,
   "id": "a08796f6",
   "metadata": {
    "scrolled": true
   },
   "outputs": [],
   "source": [
    "#Create dataframes that include a subset of rows for three low scoring items and for three high scoring items.\n",
    "\n",
    "#poe_low_avg_scores_diff = poe_avg_scores_diff.loc[poe_avg_scores_diff['item'].isin(outcome_b_low_items)]\n",
    "poe_low_avg_scores_diff = poe_avg_scores_diff.loc[poe_avg_scores_diff['item'].isin(outcome_b_low_items)]\n",
    "#poe_low_avg_scores_diff.item.value_counts()\n",
    "\n",
    "poe_high_avg_scores_diff = poe_avg_scores_diff.loc[poe_avg_scores_diff['item'].isin(outcome_b_high_items)]\n",
    "#poe_high_avg_scores_diff.item.value_counts()"
   ]
  },
  {
   "cell_type": "markdown",
   "id": "d6148a36",
   "metadata": {},
   "source": [
    "### Create graphs for lowest and highest items: Average Improvement by Point of Entry\n",
    "#### These graphs appear on slides 12 and 14 of the final presentation."
   ]
  },
  {
   "cell_type": "code",
   "execution_count": null,
   "id": "30a19eb9",
   "metadata": {
    "scrolled": false
   },
   "outputs": [],
   "source": [
    "#palette = ['#ff0000', '#27365a', '#a6a6a6']\n",
    "poe_low_avg_diff_fg = sns.FacetGrid(poe_low_avg_scores_diff,col='item', \n",
    "                                    hue='item', \n",
    "                                    palette = ['#C9CDD6', '#818AF9', '#394768'])\n",
    "poe_low_avg_diff_plot = poe_low_avg_diff_fg.map_dataframe(sns.barplot,x='avg_score_diff',y='poe_name')\n",
    "\n",
    "#Normal xlabels are not used because they overlap when they appear under each of the three facet graphs.\n",
    "#poe_low_avg_diff_plot.set_xlabels('Average Change in Score', \n",
    "#                                  color = '#FF0000', \n",
    "#                                  font='serif', \n",
    "#                                  fontweight = 'bold',\n",
    "#                                  fontsize = 14)\n",
    "poe_low_avg_diff_plot.set_xlabels('')\n",
    "plt.text(x=-0.4, y=10.5, s='Difference in Average Score',\n",
    "         color = '#FF0000', font='serif', fontsize = 14, fontweight = 'bold')\n",
    "\n",
    "poe_low_avg_diff_plot.set_ylabels('Point of Entry', \n",
    "                                  color = '#FF0000', \n",
    "                                  font='serif', \n",
    "                                  fontweight = 'bold',\n",
    "                                  fontsize = 14)\n",
    "\n",
    "poe_low_avg_diff_fg.set_titles(\"{col_name}\", color = '#FF0000', font='serif', fontweight = 'bold', size = 14)\n",
    "\n",
    "poe_low_avg_diff_fg.fig.suptitle('Lowest Items: Average Improvement by Point of Entry', \n",
    "                                 color = '#FF0000', \n",
    "                                 font='serif', \n",
    "                                 fontsize = 20,\n",
    "                                 fontweight = 'bold',\n",
    "                                 y=1.17)\n",
    ";"
   ]
  },
  {
   "cell_type": "code",
   "execution_count": null,
   "id": "0a55ca87",
   "metadata": {},
   "outputs": [],
   "source": [
    "poe_high_avg_diff_fg = sns.FacetGrid(poe_high_avg_scores_diff,col='item', \n",
    "                                    hue='item', \n",
    "                                    palette = ['#C9CDD6', '#818AF9', '#394768'])\n",
    "poe_high_avg_diff_plot = poe_high_avg_diff_fg.map_dataframe(sns.barplot,x='avg_score_diff',y='poe_name')\n",
    "\n",
    "poe_high_avg_diff_plot.set_xlabels('')\n",
    "plt.text(x=-1.6, y=10.5, s='Difference in Average Score',\n",
    "         color = '#FF0000', font='serif', fontsize = 14, fontweight = 'bold')\n",
    "\n",
    "poe_high_avg_diff_plot.set_ylabels('Point of Entry', \n",
    "                                  color = '#FF0000', \n",
    "                                  font='serif', \n",
    "                                  fontweight = 'bold',\n",
    "                                  fontsize = 14)\n",
    "poe_high_avg_diff_fg.set_titles(\"{col_name}\", color = '#FF0000', font='serif', fontweight = 'bold', size = 14)\n",
    "poe_high_avg_diff_fg.fig.suptitle('Highest Items: Average Improvement by Point of Entry', \n",
    "                                 color = '#FF0000', \n",
    "                                 font='serif', \n",
    "                                 fontsize = 20,\n",
    "                                 fontweight = 'bold',\n",
    "                                 y=1.17)\n",
    "\n",
    "plt.savefig('../data/High_Items_Avg_Change_By_POE.png')\n",
    ";"
   ]
  },
  {
   "cell_type": "code",
   "execution_count": null,
   "id": "3dd2633f",
   "metadata": {},
   "outputs": [],
   "source": [
    "#Create three csv files with data that can be sent to Shannon at DDID. Two of files contain the data used to \n",
    "#create the two graphs (see above) included in the final presentation. A third file contains similar data\n",
    "#but includes all of the items relevant to Outcome B.\n",
    "\n",
    "all_item_save = poe_avg_scores_diff.rename(columns = {'ft_avg_score': 'first_test_avg_score',\n",
    "                                                      'lt_avg_score': 'last_test_avg_score'})\n",
    "all_item_save.to_csv('../data/All_Items_Improv_by_POE.csv')\n",
    "\n",
    "low_item_save = poe_low_avg_scores_diff.rename(columns = {'ft_avg_score': 'first_test_avg_score',\n",
    "                                                          'lt_avg_score': 'last_test_avg_score'})\n",
    "low_item_save.to_csv('../data/Slide12_Low_Items_Improv_by_POE.csv')\n",
    "\n",
    "high_item_save = poe_high_avg_scores_diff.rename(columns = {'ft_avg_score': 'first_test_avg_score',\n",
    "                                                          'lt_avg_score': 'last_test_avg_score'})\n",
    "high_item_save.to_csv('../data/Slide14_High_Items_Improv_by_POE.csv')"
   ]
  },
  {
   "cell_type": "markdown",
   "id": "5024db1f",
   "metadata": {},
   "source": [
    "# Additional analysis not used in final presentation"
   ]
  },
  {
   "cell_type": "markdown",
   "id": "5fa7d6bd",
   "metadata": {},
   "source": [
    "### Average Scores by POE and Item"
   ]
  },
  {
   "cell_type": "code",
   "execution_count": null,
   "id": "74b225e8",
   "metadata": {},
   "outputs": [],
   "source": [
    "poe_scores = aeps_df[['poe_name', 'poe_abbr'] + outcome_b_items]"
   ]
  },
  {
   "cell_type": "code",
   "execution_count": null,
   "id": "30154fc6",
   "metadata": {},
   "outputs": [],
   "source": [
    "poe_avg_scores = poe_scores.groupby(['poe_name', 'poe_abbr']).agg('mean')\n",
    "poe_avg_scores = poe_avg_scores.loc[:,'FM B4.0':].reset_index()  #Should be FM B4.0"
   ]
  },
  {
   "cell_type": "code",
   "execution_count": null,
   "id": "f160b17b",
   "metadata": {
    "scrolled": true
   },
   "outputs": [],
   "source": [
    "poe_avg_scores_melt = pd.melt(poe_avg_scores, \n",
    "                              id_vars=['poe_name', 'poe_abbr'],\n",
    "                              var_name='item',\n",
    "                              value_name='avg_score')\n",
    "poe_avg_scores_melt.head()"
   ]
  },
  {
   "cell_type": "code",
   "execution_count": null,
   "id": "67935f69",
   "metadata": {
    "scrolled": false
   },
   "outputs": [],
   "source": [
    "poe_avg_fg = sns.FacetGrid(poe_avg_scores_melt,col='poe_abbr',col_wrap=5)\n",
    "poe_avg_plot = poe_avg_fg.map_dataframe(sns.barplot,x='avg_score',y='item')\n",
    "\n",
    "poe_avg_fg.fig.suptitle('All Tests: Average Scores by POE and Item (version 1)', \n",
    "                        color = '#FF0000', \n",
    "                        font='serif', \n",
    "                        fontsize = 20,\n",
    "                        fontweight = 'bold',\n",
    "                        y=1.05)\n",
    "\n",
    "plt.savefig('../data/Avg_Scores_By_POE.png');"
   ]
  },
  {
   "cell_type": "code",
   "execution_count": null,
   "id": "ff9430dd",
   "metadata": {
    "scrolled": false
   },
   "outputs": [],
   "source": [
    "poe_avg_fg_2 = sns.FacetGrid(poe_avg_scores_melt,col='item',col_wrap=6)\n",
    "poe_avg_plot_2 = poe_avg_fg_2.map_dataframe(sns.barplot,x='avg_score',y='poe_abbr')\n",
    "\n",
    "poe_avg_fg_2.fig.suptitle('All Tests: Average Scores by POE and Item (version 2)', \n",
    "                        color = '#FF0000', \n",
    "                        font='serif', \n",
    "                        fontsize = 20,\n",
    "                        fontweight = 'bold',\n",
    "                        y=1.05)\n",
    "\n",
    "plt.savefig('../data/Avg_Scores_By_POE_2.png');"
   ]
  },
  {
   "cell_type": "markdown",
   "id": "aad0c61e",
   "metadata": {},
   "source": [
    "### Average Scores for First and Last Tests"
   ]
  },
  {
   "cell_type": "code",
   "execution_count": null,
   "id": "be9272bd",
   "metadata": {},
   "outputs": [],
   "source": [
    "poe_ft_avg_fg = sns.FacetGrid(poe_ft_avg_scores_melt,col='poe_abbr',col_wrap=5)\n",
    "poe_ft_avg_plot = poe_ft_avg_fg.map_dataframe(sns.barplot,x='ft_avg_score',y='item')\n",
    "\n",
    "poe_ft_avg_fg.fig.suptitle('First Tests: Average Scores by POE and Item (version 1)', \n",
    "                        color = '#FF0000', \n",
    "                        font='serif', \n",
    "                        fontsize = 20,\n",
    "                        fontweight = 'bold',\n",
    "                        y=1.05);"
   ]
  },
  {
   "cell_type": "code",
   "execution_count": null,
   "id": "226cfd21",
   "metadata": {},
   "outputs": [],
   "source": [
    "poe_ft_avg_fg = sns.FacetGrid(poe_ft_avg_scores_melt,col='item',col_wrap=6)\n",
    "poe_ft_avg_plot = poe_ft_avg_fg.map_dataframe(sns.barplot,x='ft_avg_score',y='poe_abbr')\n",
    "\n",
    "poe_ft_avg_fg.fig.suptitle('First Tests: Average Scores by POE and Item (version 2)', \n",
    "                        color = '#FF0000', \n",
    "                        font='serif', \n",
    "                        fontsize = 20,\n",
    "                        fontweight = 'bold',\n",
    "                        y=1.05);"
   ]
  },
  {
   "cell_type": "code",
   "execution_count": null,
   "id": "4267f9f6",
   "metadata": {
    "scrolled": false
   },
   "outputs": [],
   "source": [
    "poe_lt_avg_fg = sns.FacetGrid(poe_lt_avg_scores_melt,col='poe_abbr',col_wrap=5)\n",
    "poe_lt_avg_plot = poe_lt_avg_fg.map_dataframe(sns.barplot,x='lt_avg_score',y='item')\n",
    "\n",
    "poe_lt_avg_fg.fig.suptitle('Last Tests: Average Scores by POE and Item (version 1)', \n",
    "                        color = '#FF0000', \n",
    "                        font='serif', \n",
    "                        fontsize = 20,\n",
    "                        fontweight = 'bold',\n",
    "                        y=1.05);"
   ]
  },
  {
   "cell_type": "code",
   "execution_count": null,
   "id": "940cc42e",
   "metadata": {},
   "outputs": [],
   "source": [
    "poe_lt_avg_fg = sns.FacetGrid(poe_lt_avg_scores_melt,col='item',col_wrap=6)\n",
    "poe_lt_avg_plot = poe_lt_avg_fg.map_dataframe(sns.barplot,x='lt_avg_score',y='poe_abbr')\n",
    "\n",
    "poe_lt_avg_fg.fig.suptitle('Last Tests: Average Scores by POE and Item (version 2)', \n",
    "                        color = '#FF0000', \n",
    "                        font='serif', \n",
    "                        fontsize = 20,\n",
    "                        fontweight = 'bold',\n",
    "                        y=1.05);"
   ]
  },
  {
   "cell_type": "markdown",
   "id": "4e632aa1",
   "metadata": {},
   "source": [
    "# Domain Score Analysis"
   ]
  },
  {
   "cell_type": "markdown",
   "id": "8cb36324",
   "metadata": {},
   "source": [
    "### Domain Percentage Boxplots\n",
    "The following graph shows the distribution of FM Percentage values across all tests and all children.\n",
    "- FM Percentage is the sum of the scores for all FM domain items as a percentage of the maximum possible total score for all FM domain items. \n",
    "- FM Percentage **includes all FM domain items, not just those relevant to Outcome B.**"
   ]
  },
  {
   "cell_type": "code",
   "execution_count": null,
   "id": "919c7201",
   "metadata": {
    "scrolled": false
   },
   "outputs": [],
   "source": [
    "sns.boxplot(data = aeps_df,\n",
    "            x = 'FM Percentage');"
   ]
  },
  {
   "cell_type": "code",
   "execution_count": null,
   "id": "6208aed6",
   "metadata": {
    "scrolled": true
   },
   "outputs": [],
   "source": [
    "#The following graph shows the distribution of COG Percentage values across all tests \n",
    "#and all children. It includes all COG domain items, not just those relevant to Outcome B.\n",
    "sns.boxplot(data = aeps_df,\n",
    "            x = 'Cog Percentage');"
   ]
  },
  {
   "cell_type": "code",
   "execution_count": null,
   "id": "d2451711",
   "metadata": {},
   "outputs": [],
   "source": [
    "#The following graph shows the distribution of SC Percentage values across all tests \n",
    "#and all children. It includes all SC domain items, not just those relevant to Outcome B.\n",
    "sns.boxplot(data = aeps_df,\n",
    "            x = 'SC Percentage');"
   ]
  },
  {
   "cell_type": "code",
   "execution_count": null,
   "id": "f9f406c8",
   "metadata": {
    "scrolled": false
   },
   "outputs": [],
   "source": [
    "#The following graph shows the distribution of FM Percentage values across all tests \n",
    "#and all children, broken out by POE. It includes all FM domain items, not just those \n",
    "#relevant to Outcome B.\n",
    "\n",
    "sns.boxplot(data = aeps_df,\n",
    "            x = 'FM Percentage',\n",
    "            y = 'poe_name');"
   ]
  },
  {
   "cell_type": "code",
   "execution_count": null,
   "id": "33d3ecf1",
   "metadata": {},
   "outputs": [],
   "source": [
    "#The following graph shows the distribution of COG Percentage values across all tests \n",
    "#and all children, broken out by POE. It includes all COG domain items, not just those \n",
    "#relevant to Outcome B.\n",
    "\n",
    "sns.boxplot(data = aeps_df,\n",
    "            x = 'Cog Percentage',\n",
    "            y = 'poe_name');"
   ]
  },
  {
   "cell_type": "code",
   "execution_count": null,
   "id": "6a38e0db",
   "metadata": {
    "scrolled": true
   },
   "outputs": [],
   "source": [
    "#The following graph shows the distribution of SC Percentage values across all tests \n",
    "#and all children, broken out by POE. It includes all SC domain items, not just those \n",
    "#relevant to Outcome B.\n",
    "\n",
    "sns.boxplot(data = aeps_df,\n",
    "            x = 'SC Percentage',\n",
    "            y = 'poe_name');"
   ]
  },
  {
   "cell_type": "markdown",
   "id": "0f7c765b",
   "metadata": {},
   "source": [
    "#### The following graphs only include items for each domain that are relevant to Outcome B."
   ]
  },
  {
   "cell_type": "code",
   "execution_count": null,
   "id": "5c9b0580",
   "metadata": {
    "scrolled": true
   },
   "outputs": [],
   "source": [
    "#The following graph shows the distribution of FM Percentage values across all tests \n",
    "#and all children, broken out by POE. It includes only FM domain items that are relevant\n",
    "#to Outcome B.\n",
    "\n",
    "#Note that the scores for FM B4.0 and FM B5.0 are so low, that any score above a zero \n",
    "#is considered an outlier!\n",
    "\n",
    "aeps_df['objb_fm_raw'] = aeps_df['FM B4.0']+aeps_df['FM B5.0']\n",
    "aeps_df['objb_fm_pct'] = aeps_df['objb_fm_raw']/4"
   ]
  },
  {
   "cell_type": "code",
   "execution_count": null,
   "id": "342743c5",
   "metadata": {},
   "outputs": [],
   "source": [
    "sns.boxplot(data = aeps_df,\n",
    "            x = 'objb_fm_pct',\n",
    "            y = 'poe_name');"
   ]
  },
  {
   "cell_type": "code",
   "execution_count": null,
   "id": "26dcac76",
   "metadata": {},
   "outputs": [],
   "source": [
    "#The following graph shows the distribution of COG Percentage values across all tests \n",
    "#and all children, broken out by POE. It includes only COG domain items that are relevant\n",
    "#to Outcome B.\n",
    "\n",
    "aeps_df['objb_cog_raw'] = aeps_df['COG D2.0'] + aeps_df['COG E2.0'] + aeps_df['COG E4.0'] + aeps_df['COG F1.0'] + aeps_df['COG G1.0'] + aeps_df['COG G2.0'] + aeps_df['COG G3.0'] + aeps_df['COG G4.0'] + aeps_df['COG G5.0'] + aeps_df['COG G6.0']\n",
    "aeps_df['objb_cog_pct'] = aeps_df['objb_cog_raw'] / 20"
   ]
  },
  {
   "cell_type": "code",
   "execution_count": null,
   "id": "049d80d0",
   "metadata": {
    "scrolled": true
   },
   "outputs": [],
   "source": [
    "sns.boxplot(data = aeps_df,\n",
    "            x = 'objb_cog_pct',\n",
    "            y = 'poe_name');"
   ]
  },
  {
   "cell_type": "code",
   "execution_count": null,
   "id": "4e933cde",
   "metadata": {},
   "outputs": [],
   "source": [
    "#The following graph shows the distribution of SC Percentage values across all tests \n",
    "#and all children, broken out by POE. It includes only SC domain items that are relevant\n",
    "#to Outcome B.\n",
    "\n",
    "aeps_df['objb_sc_raw'] = aeps_df['SC B1.0'] + aeps_df['SC B2.0'] + aeps_df['SC D1.0'] + aeps_df['SC D2.0'] + aeps_df['SC D3.0']\n",
    "aeps_df['objb_sc_pct'] = aeps_df['objb_sc_raw'] / 10"
   ]
  },
  {
   "cell_type": "code",
   "execution_count": null,
   "id": "78800f53",
   "metadata": {},
   "outputs": [],
   "source": [
    "sns.boxplot(data = aeps_df,\n",
    "            x = 'objb_sc_pct',\n",
    "            y = 'poe_name');"
   ]
  }
 ],
 "metadata": {
  "kernelspec": {
   "display_name": "Python 3 (ipykernel)",
   "language": "python",
   "name": "python3"
  },
  "language_info": {
   "codemirror_mode": {
    "name": "ipython",
    "version": 3
   },
   "file_extension": ".py",
   "mimetype": "text/x-python",
   "name": "python",
   "nbconvert_exporter": "python",
   "pygments_lexer": "ipython3",
   "version": "3.9.13"
  }
 },
 "nbformat": 4,
 "nbformat_minor": 5
}

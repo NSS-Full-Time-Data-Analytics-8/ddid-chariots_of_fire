{
 "cells": [
  {
   "cell_type": "markdown",
   "id": "4f4fe24e",
   "metadata": {},
   "source": [
    "# AEPS Filtering & Cleansing"
   ]
  },
  {
   "cell_type": "markdown",
   "id": "b7ecc721",
   "metadata": {},
   "source": [
    "This notebook reads in AEPS data from the spreadsheet, filters and cleans the data, and saves the result as a .csv file.<br><br>\n",
    "To use this data in other notebooks, add this line of code:<br>\n",
    "**aeps_df = pd.read_csv('../data/aeps_cleansed_data.csv')**"
   ]
  },
  {
   "cell_type": "markdown",
   "id": "71b87d8d",
   "metadata": {},
   "source": [
    "### Read Excel Data"
   ]
  },
  {
   "cell_type": "code",
   "execution_count": null,
   "id": "bc7f5c04",
   "metadata": {},
   "outputs": [],
   "source": [
    "import pandas as pd\n",
    "import string "
   ]
  },
  {
   "cell_type": "code",
   "execution_count": null,
   "id": "1e1c7a02",
   "metadata": {},
   "outputs": [],
   "source": [
    "aeps_original_df = pd.read_excel('../data/AEPSi Data for NSS.xlsx', sheet_name='AEPS 2017-2022')"
   ]
  },
  {
   "cell_type": "code",
   "execution_count": null,
   "id": "0684a1aa",
   "metadata": {},
   "outputs": [],
   "source": [
    "# Create a dataframe to use for filtering rows and cleansing\n",
    "aeps_cleanse_df = aeps_original_df"
   ]
  },
  {
   "cell_type": "markdown",
   "id": "308e805d",
   "metadata": {},
   "source": [
    "### Subset Columns"
   ]
  },
  {
   "cell_type": "code",
   "execution_count": null,
   "id": "09bbe8f4",
   "metadata": {},
   "outputs": [],
   "source": [
    "# Create a subset of the AEPS dataframe that includes only the Outcome 2 items\n",
    "aeps_cleanse_df = aeps_cleanse_df[['Child ID', 'Program Name', 'AEPSi ID', 'DOB', 'Gender', 'Dev Status', 'AEPS Level', \n",
    "                                   'Test Date', 'Examiner', 'Service Coordinator', 'TEIS Point of Entry Office (POE)', 'ESL', 'County of Residence', 'Number of Items', \n",
    "                                   'fm_B4.0', 'fm_B5.0', 'cog_D2.0', 'cog_E2.0', 'cog_E4.0', 'cog_F1.0', 'cog_G1.0', 'cog_G2.0', 'cog_G3.0', 'cog_G4.0', 'cog_G5.0', 'cog_G6.0', 'sc_B1.0', 'sc_B2.0', 'sc_D1.0', 'sc_D2.0', 'sc_D3.0', \n",
    "                                   'FM Raw Score', 'FM Possible Score', 'FM Percentage', 'GM Raw Score', 'GM Possible Score', 'GM Percentage', 'Adapt Raw Score', 'Adapt Possible Score', 'Adapt Percentage', 'Cog Raw Score', 'Cog Possible Score', 'Cog Percentage', 'SC Raw Score', 'SC Possible Score', 'SC Percentage', 'Soc Raw Score', 'Soc Possible Score', 'Soc Percentage', 'Overall Raw Score', 'Overall Possible Score', 'Overall Percentage', 'FM Goal Score', 'FM Cutoff', 'FM Result', 'GM Goal Score', 'GM Cutoff', 'GM Result', 'Adapt Goal Score', 'Adapt Cutoff', 'Adapt Result', 'Cog Goal Score', 'Cog Cutoff', 'Cog Result', 'SC Goal Score', 'SC Cutoff', 'SC Result', 'Soc Goal Score', 'Soc Cutoff', 'Soc Result']]"
   ]
  },
  {
   "cell_type": "markdown",
   "id": "3f32d91c",
   "metadata": {},
   "source": [
    "### Filtering rows by index"
   ]
  },
  {
   "cell_type": "markdown",
   "id": "ad840312",
   "metadata": {},
   "source": [
    "As rows are dropped from **aeps_cleanse_df**, they are added to **aeps_dropped**."
   ]
  },
  {
   "cell_type": "code",
   "execution_count": null,
   "id": "732e3056",
   "metadata": {},
   "outputs": [],
   "source": [
    "# Drops the last 32 records which have Child ID as NaN or a string \n",
    "aeps_dropped = aeps_cleanse_df.loc[aeps_cleanse_df.index[17927:17959]]    #Rain's code drops 17926:17959  i527999\n",
    "aeps_cleanse_df = aeps_cleanse_df.drop(aeps_cleanse_df.index[17927:17959])"
   ]
  },
  {
   "cell_type": "code",
   "execution_count": null,
   "id": "8d4fa4f8",
   "metadata": {},
   "outputs": [],
   "source": [
    "## Removes 4 rows: 3 illogical child id's and one row full of null values\n",
    "aeps_dropped = pd.concat([aeps_cleanse_df.loc[aeps_cleanse_df.index.isin([0, 7, 1393, 17774])], aeps_dropped])\n",
    "aeps_cleanse_df = aeps_cleanse_df.drop([0, 7, 1393, 17774]) "
   ]
  },
  {
   "cell_type": "markdown",
   "id": "fcfafc74",
   "metadata": {},
   "source": [
    "### Cleansing: Child ID and Stripping Strings"
   ]
  },
  {
   "cell_type": "code",
   "execution_count": null,
   "id": "b5c6292c",
   "metadata": {},
   "outputs": [],
   "source": [
    "# Convert datatype of Child ID to be string for all rows.\n",
    "# Note that when the data is saved to csv and read back into Python, Child ID becomes an int column.\n",
    "aeps_cleanse_df = aeps_cleanse_df.astype({'Child ID':'string'})"
   ]
  },
  {
   "cell_type": "code",
   "execution_count": null,
   "id": "fc778fa5",
   "metadata": {},
   "outputs": [],
   "source": [
    "# Remove letters from Child ID\n",
    "aeps_cleanse_df['Child ID'] = aeps_cleanse_df['Child ID'].str.replace('\\t', '')\n",
    "aeps_cleanse_df['Child ID'] = aeps_cleanse_df['Child ID'].str.replace('i', '')"
   ]
  },
  {
   "cell_type": "code",
   "execution_count": null,
   "id": "da3419e8",
   "metadata": {},
   "outputs": [],
   "source": [
    "#Strips all strings in dataframe\n",
    "aeps_cleanse_df = aeps_cleanse_df.applymap(lambda x: x.strip() if isinstance(x, str) else x) "
   ]
  },
  {
   "cell_type": "markdown",
   "id": "c3ad9cd2",
   "metadata": {},
   "source": [
    "### Filtering rows: Test Date and Duplicates"
   ]
  },
  {
   "cell_type": "code",
   "execution_count": null,
   "id": "1c273dbe",
   "metadata": {},
   "outputs": [],
   "source": [
    "# Drops 13 records with Test Date = '########'\n",
    "aeps_dropped = pd.concat([aeps_dropped, aeps_cleanse_df.loc[aeps_cleanse_df['Test Date'] == '########']])\n",
    "aeps_cleanse_df = aeps_cleanse_df.drop(aeps_cleanse_df.loc[aeps_cleanse_df['Test Date'] == '########'].index)"
   ]
  },
  {
   "cell_type": "code",
   "execution_count": null,
   "id": "ffccde5b",
   "metadata": {},
   "outputs": [],
   "source": [
    "# Drops 147 duplicate rows. (Duplicate in ALL columns.)\n",
    "aeps_dropped = pd.concat([aeps_dropped, aeps_cleanse_df.loc[aeps_cleanse_df.duplicated()]])\n",
    "aeps_cleanse_df = aeps_cleanse_df.drop(aeps_cleanse_df.loc[aeps_cleanse_df.duplicated()].index)"
   ]
  },
  {
   "cell_type": "markdown",
   "id": "56951f4e",
   "metadata": {},
   "source": [
    "### Cleansing: Re-Index"
   ]
  },
  {
   "cell_type": "code",
   "execution_count": null,
   "id": "968c4f2b",
   "metadata": {},
   "outputs": [],
   "source": [
    "aeps_cleanse_df = aeps_cleanse_df.reset_index(drop = True)"
   ]
  },
  {
   "cell_type": "markdown",
   "id": "d5ba1df1",
   "metadata": {},
   "source": [
    "### Save to CSV"
   ]
  },
  {
   "cell_type": "code",
   "execution_count": null,
   "id": "8ee23ed0",
   "metadata": {},
   "outputs": [],
   "source": [
    "aeps_cleanse_df.to_csv('../data/aeps_cleansed_data.csv')"
   ]
  },
  {
   "cell_type": "code",
   "execution_count": null,
   "id": "7a76efe8",
   "metadata": {},
   "outputs": [],
   "source": [
    "#Uncomment this line to save dropped rows to a .csv file.\n",
    "#aeps_cleanse_df.to_csv('../data/aeps_dropped.csv')"
   ]
  }
 ],
 "metadata": {
  "kernelspec": {
   "display_name": "Python 3 (ipykernel)",
   "language": "python",
   "name": "python3"
  },
  "language_info": {
   "codemirror_mode": {
    "name": "ipython",
    "version": 3
   },
   "file_extension": ".py",
   "mimetype": "text/x-python",
   "name": "python",
   "nbconvert_exporter": "python",
   "pygments_lexer": "ipython3",
   "version": "3.9.13"
  }
 },
 "nbformat": 4,
 "nbformat_minor": 5
}

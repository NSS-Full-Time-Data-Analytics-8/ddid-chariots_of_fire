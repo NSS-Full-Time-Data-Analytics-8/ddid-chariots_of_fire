{
 "cells": [
  {
   "cell_type": "code",
   "execution_count": null,
   "id": "bc7f5c04",
   "metadata": {},
   "outputs": [],
   "source": [
    "import pandas as pd\n",
    "import string"
   ]
  },
  {
   "cell_type": "code",
   "execution_count": null,
   "id": "1e1c7a02",
   "metadata": {},
   "outputs": [],
   "source": [
    "aeps__original_df = pd.read_excel('../data/AEPSi Data for NSS.xlsx', sheet_name='AEPS 2017-2022')"
   ]
  },
  {
   "cell_type": "code",
   "execution_count": null,
   "id": "e3601f32",
   "metadata": {},
   "outputs": [],
   "source": [
    "# Create a dummy \"test\" dataframe to use in the analysis (since re-reading in the excel file takes awhile...)\n",
    "aeps_df = aeps__original_df"
   ]
  },
  {
   "cell_type": "code",
   "execution_count": null,
   "id": "351f7031",
   "metadata": {},
   "outputs": [],
   "source": [
    "# OPTIONAL: Read in an Excel file containing a list of TN counties\n",
    "#tn_counties = pd.read_excel('../working/tn_counties.xlsx')"
   ]
  },
  {
   "cell_type": "code",
   "execution_count": null,
   "id": "95e23123",
   "metadata": {
    "scrolled": true
   },
   "outputs": [],
   "source": [
    "aeps_df.columns"
   ]
  },
  {
   "cell_type": "code",
   "execution_count": null,
   "id": "288c2676",
   "metadata": {
    "scrolled": true
   },
   "outputs": [],
   "source": [
    "aeps_df.shape"
   ]
  },
  {
   "cell_type": "code",
   "execution_count": null,
   "id": "244ce0fa",
   "metadata": {},
   "outputs": [],
   "source": [
    "#aeps_df.describe()"
   ]
  },
  {
   "cell_type": "code",
   "execution_count": null,
   "id": "dd89f5ea",
   "metadata": {},
   "outputs": [],
   "source": [
    "# Create a subset of the AEPS dataframe that includes only the Outcome 2 items\n",
    "oc2_aeps = aeps_df[['Child ID', 'Program Name', 'AEPSi ID', 'DOB', 'Gender', 'Dev Status', 'AEPS Level', 'Test Date', 'Examiner', 'Service Coordinator', 'TEIS Point of Entry Office (POE)', 'ESL', 'County of Residence', 'Number of Items', 'fm_B4.0', 'fm_B5.0', 'cog_D2.0', 'cog_E2.0', 'cog_E4.0', 'cog_F1.0', 'cog_G1.0', 'cog_G2.0', 'cog_G3.0', 'cog_G4.0', 'cog_G5.0', 'cog_G6.0', 'sc_B1.0', 'sc_B2.0', 'sc_D1.0', 'sc_D2.0', 'sc_D3.0', 'FM Raw Score', 'FM Possible Score', 'FM Percentage', 'GM Raw Score', 'GM Possible Score', 'GM Percentage', 'Adapt Raw Score', 'Adapt Possible Score', 'Adapt Percentage', 'Cog Raw Score', 'Cog Possible Score', 'Cog Percentage', 'SC Raw Score', 'SC Possible Score', 'SC Percentage', 'Soc Raw Score', 'Soc Possible Score', 'Soc Percentage', 'Overall Raw Score', 'Overall Possible Score', 'Overall Percentage', 'FM Goal Score', 'FM Cutoff', 'FM Result', 'GM Goal Score', 'GM Cutoff', 'GM Result', 'Adapt Goal Score', 'Adapt Cutoff', 'Adapt Result', 'Cog Goal Score', 'Cog Cutoff', 'Cog Result', 'SC Goal Score', 'SC Cutoff', 'SC Result', 'Soc Goal Score', 'Soc Cutoff', 'Soc Result']]\n",
    "oc2_aeps"
   ]
  },
  {
   "cell_type": "code",
   "execution_count": null,
   "id": "87016bd5",
   "metadata": {},
   "outputs": [],
   "source": [
    "aeps_df.info()"
   ]
  },
  {
   "cell_type": "code",
   "execution_count": null,
   "id": "e00b9da7",
   "metadata": {},
   "outputs": [],
   "source": [
    "aeps_df.dtypes"
   ]
  },
  {
   "cell_type": "code",
   "execution_count": null,
   "id": "38a30dc4",
   "metadata": {},
   "outputs": [],
   "source": [
    "# Look for null values in each column\n",
    "for col in aeps_df:\n",
    "    if aeps_df[col].isna().sum() > 0:\n",
    "        print (col, ':', aeps_df[col].isna().sum())"
   ]
  },
  {
   "cell_type": "markdown",
   "id": "8e2c3c61",
   "metadata": {},
   "source": [
    "# TEST CODE TO FIX ANY ODD CHILD IDS (commented out)\n",
    "aeps_test = aeps_df\n",
    "ind = 0\n",
    "for val in aeps_test['Child ID']:\n",
    "    \n",
    "    if str(type(val)) != '<class \\'int\\'>':\n",
    "        print('OHNO!')\n",
    "        print (val)\n",
    "        print(type(val))\n",
    "        #aeps_test.loc[ind, 'Child ID'] = int(val.strftime('%Y%m%d'))\n",
    "    #else:\n",
    "        #print('ok')\n",
    "    ind += 1;\n",
    "    \n",
    "#aeps_test['Child ID'].head(10)"
   ]
  },
  {
   "cell_type": "code",
   "execution_count": null,
   "id": "8e42f1d0",
   "metadata": {},
   "outputs": [],
   "source": [
    "aeps_df['TEIS Point of Entry Office (POE)'].value_counts()"
   ]
  },
  {
   "cell_type": "code",
   "execution_count": null,
   "id": "d3a45239",
   "metadata": {},
   "outputs": [],
   "source": [
    "aeps_df['ESL'].value_counts()"
   ]
  },
  {
   "cell_type": "markdown",
   "id": "f73a87ae",
   "metadata": {},
   "source": [
    "# TEST CODE TO FIX ANY MISPELLED COUNTIES (commented out)\n",
    "ind = 0\n",
    "for county in aeps_test1['County of Residence']:\n",
    "    new_str = str(county).strip().capitalize()\n",
    "    aeps_test1.loc[ind, 'County of Residence'] = new_str\n",
    "    print('new:',new_str)\n",
    "\n",
    "aeps_test1['County of Residence'] = aeps_test1['County of Residence'].str.strip().str.title()\n",
    "tn_counties_list = tn_counties.counties.to_list()\n",
    "\n",
    "bad_counties = aeps_test1[~aeps_test1['County of Residence'].isin(tn_counties_list)]['County of Residence']            \n",
    "bad_counties"
   ]
  },
  {
   "cell_type": "code",
   "execution_count": null,
   "id": "962ac59d",
   "metadata": {},
   "outputs": [],
   "source": [
    "aeps_df['Program Name'].value_counts()"
   ]
  }
 ],
 "metadata": {
  "kernelspec": {
   "display_name": "Python 3 (ipykernel)",
   "language": "python",
   "name": "python3"
  },
  "language_info": {
   "codemirror_mode": {
    "name": "ipython",
    "version": 3
   },
   "file_extension": ".py",
   "mimetype": "text/x-python",
   "name": "python",
   "nbconvert_exporter": "python",
   "pygments_lexer": "ipython3",
   "version": "3.9.7"
  }
 },
 "nbformat": 4,
 "nbformat_minor": 5
}
